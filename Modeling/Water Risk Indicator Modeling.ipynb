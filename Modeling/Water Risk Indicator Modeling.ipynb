{
 "cells": [
  {
   "cell_type": "code",
   "execution_count": 1,
   "metadata": {},
   "outputs": [],
   "source": [
    "import numpy as np # linear algebra\n",
    "import pandas as pd # data processing, CSV file I/O (e.g. pd.read_csv)\n",
    "import matplotlib.pyplot as plt\n",
    "import seaborn as sns # for plot visualization"
   ]
  },
  {
   "cell_type": "code",
   "execution_count": 2,
   "metadata": {},
   "outputs": [],
   "source": [
    "from sklearn.ensemble import RandomForestClassifier, AdaBoostClassifier, BaggingClassifier, ExtraTreesClassifier, GradientBoostingClassifier, VotingClassifier\n",
    "from sklearn.linear_model import RidgeClassifier, RidgeClassifierCV, LogisticRegression, LogisticRegressionCV"
   ]
  },
  {
   "cell_type": "code",
   "execution_count": 4,
   "metadata": {},
   "outputs": [],
   "source": [
    "from xgboost import XGBClassifier\n",
    "from sklearn.tree import DecisionTreeClassifier\n",
    "from sklearn.model_selection import train_test_split, cross_val_score, GridSearchCV, RandomizedSearchCV\n",
    "from sklearn.metrics import f1_score, accuracy_score\n",
    "from sklearn.preprocessing import LabelEncoder\n",
    "from sklearn.neighbors import KNeighborsClassifier\n",
    "import re\n",
    "\n",
    "import warnings\n",
    "# ignoring all the warnings\n",
    "warnings.filterwarnings(\"ignore\")"
   ]
  },
  {
   "cell_type": "code",
   "execution_count": 182,
   "metadata": {},
   "outputs": [],
   "source": [
    "from sklearn.model_selection import train_test_split\n",
    "from sklearn.linear_model import LogisticRegression\n",
    "from sklearn.metrics import confusion_matrix,accuracy_score"
   ]
  },
  {
   "cell_type": "code",
   "execution_count": 190,
   "metadata": {},
   "outputs": [],
   "source": [
    "from sklearn.metrics import recall_score\n",
    "from sklearn.metrics import precision_score\n",
    "from sklearn.metrics import f1_score"
   ]
  },
  {
   "cell_type": "code",
   "execution_count": 22,
   "metadata": {},
   "outputs": [
    {
     "name": "stdout",
     "output_type": "stream",
     "text": [
      "Requirement already satisfied: ml-utils in c:\\anaconda\\lib\\site-packages (0.2)\n",
      "Requirement already satisfied: tabulate in c:\\anaconda\\lib\\site-packages (from ml-utils) (0.8.9)\n",
      "Requirement already satisfied: torchvision in c:\\anaconda\\lib\\site-packages (from ml-utils) (0.9.1)\n",
      "Requirement already satisfied: pexpect in c:\\anaconda\\lib\\site-packages (from ml-utils) (4.8.0)\n",
      "Requirement already satisfied: seaborn in c:\\anaconda\\lib\\site-packages (from ml-utils) (0.11.0)\n",
      "Requirement already satisfied: numpy in c:\\anaconda\\lib\\site-packages (from ml-utils) (1.19.2)\n",
      "Requirement already satisfied: tqdm in c:\\anaconda\\lib\\site-packages (from ml-utils) (4.50.2)\n",
      "Requirement already satisfied: mpi4py in c:\\anaconda\\lib\\site-packages (from ml-utils) (3.0.3)\n",
      "Requirement already satisfied: torch in c:\\anaconda\\lib\\site-packages (from ml-utils) (1.7.1)\n",
      "Requirement already satisfied: libtmux in c:\\anaconda\\lib\\site-packages (from ml-utils) (0.8.5)\n",
      "Requirement already satisfied: pysftp in c:\\anaconda\\lib\\site-packages (from ml-utils) (0.2.9)\n",
      "Requirement already satisfied: pillow>=4.1.1 in c:\\anaconda\\lib\\site-packages (from torchvision->ml-utils) (8.0.1)\n",
      "Requirement already satisfied: ptyprocess>=0.5 in c:\\anaconda\\lib\\site-packages (from pexpect->ml-utils) (0.7.0)\n",
      "Requirement already satisfied: pandas>=0.23 in c:\\anaconda\\lib\\site-packages (from seaborn->ml-utils) (1.1.3)\n",
      "Requirement already satisfied: matplotlib>=2.2 in c:\\anaconda\\lib\\site-packages (from seaborn->ml-utils) (3.3.2)\n",
      "Requirement already satisfied: scipy>=1.0 in c:\\anaconda\\lib\\site-packages (from seaborn->ml-utils) (1.5.2)\n",
      "Requirement already satisfied: typing_extensions in c:\\anaconda\\lib\\site-packages (from torch->ml-utils) (3.7.4.3)\n",
      "Requirement already satisfied: paramiko>=1.17 in c:\\anaconda\\lib\\site-packages (from pysftp->ml-utils) (2.7.2)\n",
      "Requirement already satisfied: python-dateutil>=2.7.3 in c:\\anaconda\\lib\\site-packages (from pandas>=0.23->seaborn->ml-utils) (2.8.1)\n",
      "Requirement already satisfied: pytz>=2017.2 in c:\\anaconda\\lib\\site-packages (from pandas>=0.23->seaborn->ml-utils) (2020.1)\n",
      "Requirement already satisfied: kiwisolver>=1.0.1 in c:\\anaconda\\lib\\site-packages (from matplotlib>=2.2->seaborn->ml-utils) (1.3.0)\n",
      "Requirement already satisfied: pyparsing!=2.0.4,!=2.1.2,!=2.1.6,>=2.0.3 in c:\\anaconda\\lib\\site-packages (from matplotlib>=2.2->seaborn->ml-utils) (2.4.7)\n",
      "Requirement already satisfied: cycler>=0.10 in c:\\anaconda\\lib\\site-packages (from matplotlib>=2.2->seaborn->ml-utils) (0.10.0)\n",
      "Requirement already satisfied: certifi>=2020.06.20 in c:\\anaconda\\lib\\site-packages (from matplotlib>=2.2->seaborn->ml-utils) (2020.6.20)\n",
      "Requirement already satisfied: cryptography>=2.5 in c:\\anaconda\\lib\\site-packages (from paramiko>=1.17->pysftp->ml-utils) (3.1.1)\n",
      "Requirement already satisfied: bcrypt>=3.1.3 in c:\\anaconda\\lib\\site-packages (from paramiko>=1.17->pysftp->ml-utils) (3.2.0)\n",
      "Requirement already satisfied: pynacl>=1.0.1 in c:\\anaconda\\lib\\site-packages (from paramiko>=1.17->pysftp->ml-utils) (1.4.0)\n",
      "Requirement already satisfied: six>=1.5 in c:\\anaconda\\lib\\site-packages (from python-dateutil>=2.7.3->pandas>=0.23->seaborn->ml-utils) (1.15.0)\n",
      "Requirement already satisfied: cffi!=1.11.3,>=1.8 in c:\\anaconda\\lib\\site-packages (from cryptography>=2.5->paramiko>=1.17->pysftp->ml-utils) (1.14.3)\n",
      "Requirement already satisfied: pycparser in c:\\anaconda\\lib\\site-packages (from cffi!=1.11.3,>=1.8->cryptography>=2.5->paramiko>=1.17->pysftp->ml-utils) (2.20)\n"
     ]
    }
   ],
   "source": [
    "!pip install ml-utils"
   ]
  },
  {
   "cell_type": "code",
   "execution_count": 28,
   "metadata": {},
   "outputs": [
    {
     "name": "stdout",
     "output_type": "stream",
     "text": [
      "Collecting python_utils\n",
      "  Downloading python_utils-2.5.6-py2.py3-none-any.whl (12 kB)\n",
      "Requirement already satisfied: six in c:\\anaconda\\lib\\site-packages (from python_utils) (1.15.0)\n",
      "Installing collected packages: python-utils\n",
      "Successfully installed python-utils-2.5.6\n"
     ]
    }
   ],
   "source": [
    "!pip install python_utils"
   ]
  },
  {
   "cell_type": "code",
   "execution_count": 29,
   "metadata": {},
   "outputs": [],
   "source": [
    "import warnings\n",
    "warnings.filterwarnings(\"ignore\")\n",
    "from python_utils import *"
   ]
  },
  {
   "cell_type": "code",
   "execution_count": 146,
   "metadata": {},
   "outputs": [],
   "source": [
    "df = pd.read_csv('results_province_water.csv')"
   ]
  },
  {
   "cell_type": "code",
   "execution_count": 7,
   "metadata": {},
   "outputs": [
    {
     "data": {
      "text/html": [
       "<div>\n",
       "<style scoped>\n",
       "    .dataframe tbody tr th:only-of-type {\n",
       "        vertical-align: middle;\n",
       "    }\n",
       "\n",
       "    .dataframe tbody tr th {\n",
       "        vertical-align: top;\n",
       "    }\n",
       "\n",
       "    .dataframe thead th {\n",
       "        text-align: right;\n",
       "    }\n",
       "</style>\n",
       "<table border=\"1\" class=\"dataframe\">\n",
       "  <thead>\n",
       "    <tr style=\"text-align: right;\">\n",
       "      <th></th>\n",
       "      <th>gid_1</th>\n",
       "      <th>name_1</th>\n",
       "      <th>iso_a3</th>\n",
       "      <th>iso_n3</th>\n",
       "      <th>name_0</th>\n",
       "      <th>score</th>\n",
       "      <th>score_ranked</th>\n",
       "      <th>cat</th>\n",
       "      <th>label</th>\n",
       "      <th>sum_weights</th>\n",
       "      <th>sum_weighted_indicator</th>\n",
       "      <th>count_valid</th>\n",
       "      <th>fraction_valid</th>\n",
       "      <th>un_region</th>\n",
       "      <th>wb_region</th>\n",
       "      <th>population_2019_million</th>\n",
       "    </tr>\n",
       "  </thead>\n",
       "  <tbody>\n",
       "    <tr>\n",
       "      <th>0</th>\n",
       "      <td>AFG.2_1</td>\n",
       "      <td>Badghis</td>\n",
       "      <td>AFG</td>\n",
       "      <td>4</td>\n",
       "      <td>Afghanistan</td>\n",
       "      <td>5.0</td>\n",
       "      <td>1</td>\n",
       "      <td>4</td>\n",
       "      <td>Extremely_High</td>\n",
       "      <td>690.095871</td>\n",
       "      <td>3450.479353</td>\n",
       "      <td>29790</td>\n",
       "      <td>1.000000</td>\n",
       "      <td>Asia</td>\n",
       "      <td>South Asia</td>\n",
       "      <td>37.209007</td>\n",
       "    </tr>\n",
       "    <tr>\n",
       "      <th>1</th>\n",
       "      <td>BWA.4_1</td>\n",
       "      <td>Gaborone</td>\n",
       "      <td>BWA</td>\n",
       "      <td>72</td>\n",
       "      <td>Botswana</td>\n",
       "      <td>5.0</td>\n",
       "      <td>1</td>\n",
       "      <td>4</td>\n",
       "      <td>Extremely_High</td>\n",
       "      <td>8.769247</td>\n",
       "      <td>43.846234</td>\n",
       "      <td>401</td>\n",
       "      <td>1.000000</td>\n",
       "      <td>Africa</td>\n",
       "      <td>Sub-Saharan Africa</td>\n",
       "      <td>2.374636</td>\n",
       "    </tr>\n",
       "    <tr>\n",
       "      <th>2</th>\n",
       "      <td>BWA.6_1</td>\n",
       "      <td>Jwaneng</td>\n",
       "      <td>BWA</td>\n",
       "      <td>72</td>\n",
       "      <td>Botswana</td>\n",
       "      <td>5.0</td>\n",
       "      <td>1</td>\n",
       "      <td>4</td>\n",
       "      <td>Extremely_High</td>\n",
       "      <td>0.105124</td>\n",
       "      <td>0.525620</td>\n",
       "      <td>26</td>\n",
       "      <td>1.000000</td>\n",
       "      <td>Africa</td>\n",
       "      <td>Sub-Saharan Africa</td>\n",
       "      <td>2.374636</td>\n",
       "    </tr>\n",
       "    <tr>\n",
       "      <th>3</th>\n",
       "      <td>DJI.3_1</td>\n",
       "      <td>Djibouti</td>\n",
       "      <td>DJI</td>\n",
       "      <td>262</td>\n",
       "      <td>Djibouti</td>\n",
       "      <td>5.0</td>\n",
       "      <td>1</td>\n",
       "      <td>4</td>\n",
       "      <td>Extremely_High</td>\n",
       "      <td>5.514121</td>\n",
       "      <td>27.570607</td>\n",
       "      <td>1029</td>\n",
       "      <td>1.000000</td>\n",
       "      <td>Africa</td>\n",
       "      <td>Middle East &amp; North Africa</td>\n",
       "      <td>0.985690</td>\n",
       "    </tr>\n",
       "    <tr>\n",
       "      <th>4</th>\n",
       "      <td>ECU.9_1</td>\n",
       "      <td>Galápagos</td>\n",
       "      <td>ECU</td>\n",
       "      <td>218</td>\n",
       "      <td>Ecuador</td>\n",
       "      <td>5.0</td>\n",
       "      <td>1</td>\n",
       "      <td>4</td>\n",
       "      <td>Extremely_High</td>\n",
       "      <td>0.545693</td>\n",
       "      <td>2.728464</td>\n",
       "      <td>10154</td>\n",
       "      <td>0.974887</td>\n",
       "      <td>Americas</td>\n",
       "      <td>Latin America &amp; Caribbean</td>\n",
       "      <td>17.100444</td>\n",
       "    </tr>\n",
       "  </tbody>\n",
       "</table>\n",
       "</div>"
      ],
      "text/plain": [
       "     gid_1     name_1 iso_a3  iso_n3       name_0  score  score_ranked  cat  \\\n",
       "0  AFG.2_1    Badghis    AFG       4  Afghanistan    5.0             1    4   \n",
       "1  BWA.4_1   Gaborone    BWA      72     Botswana    5.0             1    4   \n",
       "2  BWA.6_1    Jwaneng    BWA      72     Botswana    5.0             1    4   \n",
       "3  DJI.3_1   Djibouti    DJI     262     Djibouti    5.0             1    4   \n",
       "4  ECU.9_1  Galápagos    ECU     218      Ecuador    5.0             1    4   \n",
       "\n",
       "            label  sum_weights  sum_weighted_indicator  count_valid  \\\n",
       "0  Extremely_High   690.095871             3450.479353        29790   \n",
       "1  Extremely_High     8.769247               43.846234          401   \n",
       "2  Extremely_High     0.105124                0.525620           26   \n",
       "3  Extremely_High     5.514121               27.570607         1029   \n",
       "4  Extremely_High     0.545693                2.728464        10154   \n",
       "\n",
       "   fraction_valid un_region                   wb_region  \\\n",
       "0        1.000000      Asia                  South Asia   \n",
       "1        1.000000    Africa          Sub-Saharan Africa   \n",
       "2        1.000000    Africa          Sub-Saharan Africa   \n",
       "3        1.000000    Africa  Middle East & North Africa   \n",
       "4        0.974887  Americas   Latin America & Caribbean   \n",
       "\n",
       "   population_2019_million  \n",
       "0                37.209007  \n",
       "1                 2.374636  \n",
       "2                 2.374636  \n",
       "3                 0.985690  \n",
       "4                17.100444  "
      ]
     },
     "execution_count": 7,
     "metadata": {},
     "output_type": "execute_result"
    }
   ],
   "source": [
    "df.head()"
   ]
  },
  {
   "cell_type": "code",
   "execution_count": 10,
   "metadata": {},
   "outputs": [
    {
     "data": {
      "text/html": [
       "<div>\n",
       "<style scoped>\n",
       "    .dataframe tbody tr th:only-of-type {\n",
       "        vertical-align: middle;\n",
       "    }\n",
       "\n",
       "    .dataframe tbody tr th {\n",
       "        vertical-align: top;\n",
       "    }\n",
       "\n",
       "    .dataframe thead th {\n",
       "        text-align: right;\n",
       "    }\n",
       "</style>\n",
       "<table border=\"1\" class=\"dataframe\">\n",
       "  <thead>\n",
       "    <tr style=\"text-align: right;\">\n",
       "      <th></th>\n",
       "      <th>iso_n3</th>\n",
       "      <th>score</th>\n",
       "      <th>score_ranked</th>\n",
       "      <th>cat</th>\n",
       "      <th>sum_weights</th>\n",
       "      <th>sum_weighted_indicator</th>\n",
       "      <th>count_valid</th>\n",
       "      <th>fraction_valid</th>\n",
       "      <th>population_2019_million</th>\n",
       "    </tr>\n",
       "  </thead>\n",
       "  <tbody>\n",
       "    <tr>\n",
       "      <th>count</th>\n",
       "      <td>3031.000000</td>\n",
       "      <td>3031.000000</td>\n",
       "      <td>3031.000000</td>\n",
       "      <td>3031.000000</td>\n",
       "      <td>3.031000e+03</td>\n",
       "      <td>3.031000e+03</td>\n",
       "      <td>3.031000e+03</td>\n",
       "      <td>3031.000000</td>\n",
       "      <td>3031.000000</td>\n",
       "    </tr>\n",
       "    <tr>\n",
       "      <th>mean</th>\n",
       "      <td>472.227978</td>\n",
       "      <td>1.670851</td>\n",
       "      <td>1459.752227</td>\n",
       "      <td>1.294952</td>\n",
       "      <td>1.861908e+03</td>\n",
       "      <td>5.035799e+03</td>\n",
       "      <td>7.820883e+04</td>\n",
       "      <td>0.997951</td>\n",
       "      <td>77.410749</td>\n",
       "    </tr>\n",
       "    <tr>\n",
       "      <th>std</th>\n",
       "      <td>260.136279</td>\n",
       "      <td>1.618228</td>\n",
       "      <td>797.688955</td>\n",
       "      <td>1.445411</td>\n",
       "      <td>9.826708e+03</td>\n",
       "      <td>4.027885e+04</td>\n",
       "      <td>3.528781e+05</td>\n",
       "      <td>0.022769</td>\n",
       "      <td>206.243902</td>\n",
       "    </tr>\n",
       "    <tr>\n",
       "      <th>min</th>\n",
       "      <td>4.000000</td>\n",
       "      <td>0.000000</td>\n",
       "      <td>1.000000</td>\n",
       "      <td>0.000000</td>\n",
       "      <td>4.030000e-09</td>\n",
       "      <td>0.000000e+00</td>\n",
       "      <td>1.000000e+01</td>\n",
       "      <td>0.614896</td>\n",
       "      <td>0.033683</td>\n",
       "    </tr>\n",
       "    <tr>\n",
       "      <th>25%</th>\n",
       "      <td>231.500000</td>\n",
       "      <td>0.030000</td>\n",
       "      <td>758.500000</td>\n",
       "      <td>0.000000</td>\n",
       "      <td>2.689617e+01</td>\n",
       "      <td>1.387473e+00</td>\n",
       "      <td>3.792500e+03</td>\n",
       "      <td>0.999944</td>\n",
       "      <td>6.981981</td>\n",
       "    </tr>\n",
       "    <tr>\n",
       "      <th>50%</th>\n",
       "      <td>484.000000</td>\n",
       "      <td>1.280000</td>\n",
       "      <td>1516.000000</td>\n",
       "      <td>1.000000</td>\n",
       "      <td>1.920918e+02</td>\n",
       "      <td>1.282879e+02</td>\n",
       "      <td>1.159500e+04</td>\n",
       "      <td>1.000000</td>\n",
       "      <td>21.018859</td>\n",
       "    </tr>\n",
       "    <tr>\n",
       "      <th>75%</th>\n",
       "      <td>704.000000</td>\n",
       "      <td>2.845000</td>\n",
       "      <td>2273.500000</td>\n",
       "      <td>2.000000</td>\n",
       "      <td>9.735669e+02</td>\n",
       "      <td>1.590029e+03</td>\n",
       "      <td>4.431050e+04</td>\n",
       "      <td>1.000000</td>\n",
       "      <td>69.306160</td>\n",
       "    </tr>\n",
       "    <tr>\n",
       "      <th>max</th>\n",
       "      <td>894.000000</td>\n",
       "      <td>5.000000</td>\n",
       "      <td>2448.000000</td>\n",
       "      <td>4.000000</td>\n",
       "      <td>3.875067e+05</td>\n",
       "      <td>1.608555e+06</td>\n",
       "      <td>8.856862e+06</td>\n",
       "      <td>1.479928</td>\n",
       "      <td>1420.062022</td>\n",
       "    </tr>\n",
       "  </tbody>\n",
       "</table>\n",
       "</div>"
      ],
      "text/plain": [
       "            iso_n3        score  score_ranked          cat   sum_weights  \\\n",
       "count  3031.000000  3031.000000   3031.000000  3031.000000  3.031000e+03   \n",
       "mean    472.227978     1.670851   1459.752227     1.294952  1.861908e+03   \n",
       "std     260.136279     1.618228    797.688955     1.445411  9.826708e+03   \n",
       "min       4.000000     0.000000      1.000000     0.000000  4.030000e-09   \n",
       "25%     231.500000     0.030000    758.500000     0.000000  2.689617e+01   \n",
       "50%     484.000000     1.280000   1516.000000     1.000000  1.920918e+02   \n",
       "75%     704.000000     2.845000   2273.500000     2.000000  9.735669e+02   \n",
       "max     894.000000     5.000000   2448.000000     4.000000  3.875067e+05   \n",
       "\n",
       "       sum_weighted_indicator   count_valid  fraction_valid  \\\n",
       "count            3.031000e+03  3.031000e+03     3031.000000   \n",
       "mean             5.035799e+03  7.820883e+04        0.997951   \n",
       "std              4.027885e+04  3.528781e+05        0.022769   \n",
       "min              0.000000e+00  1.000000e+01        0.614896   \n",
       "25%              1.387473e+00  3.792500e+03        0.999944   \n",
       "50%              1.282879e+02  1.159500e+04        1.000000   \n",
       "75%              1.590029e+03  4.431050e+04        1.000000   \n",
       "max              1.608555e+06  8.856862e+06        1.479928   \n",
       "\n",
       "       population_2019_million  \n",
       "count              3031.000000  \n",
       "mean                 77.410749  \n",
       "std                 206.243902  \n",
       "min                   0.033683  \n",
       "25%                   6.981981  \n",
       "50%                  21.018859  \n",
       "75%                  69.306160  \n",
       "max                1420.062022  "
      ]
     },
     "execution_count": 10,
     "metadata": {},
     "output_type": "execute_result"
    }
   ],
   "source": [
    "df.describe()"
   ]
  },
  {
   "cell_type": "code",
   "execution_count": 11,
   "metadata": {},
   "outputs": [
    {
     "data": {
      "text/plain": [
       "gid_1                       object\n",
       "name_1                      object\n",
       "iso_a3                      object\n",
       "iso_n3                       int64\n",
       "name_0                      object\n",
       "score                      float64\n",
       "score_ranked                 int64\n",
       "cat                          int64\n",
       "label                       object\n",
       "sum_weights                float64\n",
       "sum_weighted_indicator     float64\n",
       "count_valid                  int64\n",
       "fraction_valid             float64\n",
       "un_region                   object\n",
       "wb_region                   object\n",
       "population_2019_million    float64\n",
       "dtype: object"
      ]
     },
     "execution_count": 11,
     "metadata": {},
     "output_type": "execute_result"
    }
   ],
   "source": [
    "df.dtypes"
   ]
  },
  {
   "cell_type": "code",
   "execution_count": 18,
   "metadata": {},
   "outputs": [
    {
     "data": {
      "text/html": [
       "<div>\n",
       "<style scoped>\n",
       "    .dataframe tbody tr th:only-of-type {\n",
       "        vertical-align: middle;\n",
       "    }\n",
       "\n",
       "    .dataframe tbody tr th {\n",
       "        vertical-align: top;\n",
       "    }\n",
       "\n",
       "    .dataframe thead th {\n",
       "        text-align: right;\n",
       "    }\n",
       "</style>\n",
       "<table border=\"1\" class=\"dataframe\">\n",
       "  <thead>\n",
       "    <tr style=\"text-align: right;\">\n",
       "      <th></th>\n",
       "      <th>iso_n3</th>\n",
       "      <th>score</th>\n",
       "      <th>score_ranked</th>\n",
       "      <th>cat</th>\n",
       "      <th>sum_weights</th>\n",
       "      <th>sum_weighted_indicator</th>\n",
       "      <th>count_valid</th>\n",
       "      <th>fraction_valid</th>\n",
       "      <th>population_2019_million</th>\n",
       "    </tr>\n",
       "  </thead>\n",
       "  <tbody>\n",
       "    <tr>\n",
       "      <th>iso_n3</th>\n",
       "      <td>1.000000</td>\n",
       "      <td>0.053821</td>\n",
       "      <td>-0.064705</td>\n",
       "      <td>0.054630</td>\n",
       "      <td>0.007364</td>\n",
       "      <td>0.000265</td>\n",
       "      <td>-0.073122</td>\n",
       "      <td>-0.006141</td>\n",
       "      <td>-0.061461</td>\n",
       "    </tr>\n",
       "    <tr>\n",
       "      <th>score</th>\n",
       "      <td>0.053821</td>\n",
       "      <td>1.000000</td>\n",
       "      <td>-0.986080</td>\n",
       "      <td>0.982356</td>\n",
       "      <td>0.121061</td>\n",
       "      <td>0.148853</td>\n",
       "      <td>-0.018306</td>\n",
       "      <td>0.054129</td>\n",
       "      <td>0.043347</td>\n",
       "    </tr>\n",
       "    <tr>\n",
       "      <th>score_ranked</th>\n",
       "      <td>-0.064705</td>\n",
       "      <td>-0.986080</td>\n",
       "      <td>1.000000</td>\n",
       "      <td>-0.955632</td>\n",
       "      <td>-0.122554</td>\n",
       "      <td>-0.141027</td>\n",
       "      <td>0.006984</td>\n",
       "      <td>-0.057041</td>\n",
       "      <td>-0.049856</td>\n",
       "    </tr>\n",
       "    <tr>\n",
       "      <th>cat</th>\n",
       "      <td>0.054630</td>\n",
       "      <td>0.982356</td>\n",
       "      <td>-0.955632</td>\n",
       "      <td>1.000000</td>\n",
       "      <td>0.120679</td>\n",
       "      <td>0.153122</td>\n",
       "      <td>-0.029128</td>\n",
       "      <td>0.050260</td>\n",
       "      <td>0.033790</td>\n",
       "    </tr>\n",
       "    <tr>\n",
       "      <th>sum_weights</th>\n",
       "      <td>0.007364</td>\n",
       "      <td>0.121061</td>\n",
       "      <td>-0.122554</td>\n",
       "      <td>0.120679</td>\n",
       "      <td>1.000000</td>\n",
       "      <td>0.970836</td>\n",
       "      <td>0.119568</td>\n",
       "      <td>0.008092</td>\n",
       "      <td>0.371656</td>\n",
       "    </tr>\n",
       "    <tr>\n",
       "      <th>sum_weighted_indicator</th>\n",
       "      <td>0.000265</td>\n",
       "      <td>0.148853</td>\n",
       "      <td>-0.141027</td>\n",
       "      <td>0.153122</td>\n",
       "      <td>0.970836</td>\n",
       "      <td>1.000000</td>\n",
       "      <td>0.063672</td>\n",
       "      <td>0.007476</td>\n",
       "      <td>0.304028</td>\n",
       "    </tr>\n",
       "    <tr>\n",
       "      <th>count_valid</th>\n",
       "      <td>-0.073122</td>\n",
       "      <td>-0.018306</td>\n",
       "      <td>0.006984</td>\n",
       "      <td>-0.029128</td>\n",
       "      <td>0.119568</td>\n",
       "      <td>0.063672</td>\n",
       "      <td>1.000000</td>\n",
       "      <td>-0.027951</td>\n",
       "      <td>0.121613</td>\n",
       "    </tr>\n",
       "    <tr>\n",
       "      <th>fraction_valid</th>\n",
       "      <td>-0.006141</td>\n",
       "      <td>0.054129</td>\n",
       "      <td>-0.057041</td>\n",
       "      <td>0.050260</td>\n",
       "      <td>0.008092</td>\n",
       "      <td>0.007476</td>\n",
       "      <td>-0.027951</td>\n",
       "      <td>1.000000</td>\n",
       "      <td>-0.007010</td>\n",
       "    </tr>\n",
       "    <tr>\n",
       "      <th>population_2019_million</th>\n",
       "      <td>-0.061461</td>\n",
       "      <td>0.043347</td>\n",
       "      <td>-0.049856</td>\n",
       "      <td>0.033790</td>\n",
       "      <td>0.371656</td>\n",
       "      <td>0.304028</td>\n",
       "      <td>0.121613</td>\n",
       "      <td>-0.007010</td>\n",
       "      <td>1.000000</td>\n",
       "    </tr>\n",
       "  </tbody>\n",
       "</table>\n",
       "</div>"
      ],
      "text/plain": [
       "                           iso_n3     score  score_ranked       cat  \\\n",
       "iso_n3                   1.000000  0.053821     -0.064705  0.054630   \n",
       "score                    0.053821  1.000000     -0.986080  0.982356   \n",
       "score_ranked            -0.064705 -0.986080      1.000000 -0.955632   \n",
       "cat                      0.054630  0.982356     -0.955632  1.000000   \n",
       "sum_weights              0.007364  0.121061     -0.122554  0.120679   \n",
       "sum_weighted_indicator   0.000265  0.148853     -0.141027  0.153122   \n",
       "count_valid             -0.073122 -0.018306      0.006984 -0.029128   \n",
       "fraction_valid          -0.006141  0.054129     -0.057041  0.050260   \n",
       "population_2019_million -0.061461  0.043347     -0.049856  0.033790   \n",
       "\n",
       "                         sum_weights  sum_weighted_indicator  count_valid  \\\n",
       "iso_n3                      0.007364                0.000265    -0.073122   \n",
       "score                       0.121061                0.148853    -0.018306   \n",
       "score_ranked               -0.122554               -0.141027     0.006984   \n",
       "cat                         0.120679                0.153122    -0.029128   \n",
       "sum_weights                 1.000000                0.970836     0.119568   \n",
       "sum_weighted_indicator      0.970836                1.000000     0.063672   \n",
       "count_valid                 0.119568                0.063672     1.000000   \n",
       "fraction_valid              0.008092                0.007476    -0.027951   \n",
       "population_2019_million     0.371656                0.304028     0.121613   \n",
       "\n",
       "                         fraction_valid  population_2019_million  \n",
       "iso_n3                        -0.006141                -0.061461  \n",
       "score                          0.054129                 0.043347  \n",
       "score_ranked                  -0.057041                -0.049856  \n",
       "cat                            0.050260                 0.033790  \n",
       "sum_weights                    0.008092                 0.371656  \n",
       "sum_weighted_indicator         0.007476                 0.304028  \n",
       "count_valid                   -0.027951                 0.121613  \n",
       "fraction_valid                 1.000000                -0.007010  \n",
       "population_2019_million       -0.007010                 1.000000  "
      ]
     },
     "execution_count": 18,
     "metadata": {},
     "output_type": "execute_result"
    }
   ],
   "source": [
    "df.corr()"
   ]
  },
  {
   "cell_type": "code",
   "execution_count": 33,
   "metadata": {},
   "outputs": [],
   "source": [
    "features = []"
   ]
  },
  {
   "cell_type": "code",
   "execution_count": 42,
   "metadata": {},
   "outputs": [],
   "source": [
    "corr_matrix = df.corr().abs()"
   ]
  },
  {
   "cell_type": "code",
   "execution_count": 170,
   "metadata": {},
   "outputs": [
    {
     "data": {
      "image/png": "[encoded data removed]",
      "text/plain": [
       "<Figure size 1080x720 with 2 Axes>"
      ]
     },
     "metadata": {
      "needs_background": "light"
     },
     "output_type": "display_data"
    }
   ],
   "source": [
    "import seaborn as sns\n",
    "\n",
    "f, ax = plt.subplots(figsize=(15, 10)) \n",
    "heatmap = sns.heatmap(corr_matrix,linewidths = .5,cmap=\"coolwarm\",annot=True)"
   ]
  },
  {
   "cell_type": "code",
   "execution_count": 48,
   "metadata": {},
   "outputs": [
    {
     "data": {
      "text/plain": [
       "<AxesSubplot:xlabel='un_region', ylabel='count'>"
      ]
     },
     "execution_count": 48,
     "metadata": {},
     "output_type": "execute_result"
    },
    {
     "data": {
      "image/png": "[encoded data removed]",
      "text/plain": [
       "<Figure size 432x288 with 1 Axes>"
      ]
     },
     "metadata": {
      "needs_background": "light"
     },
     "output_type": "display_data"
    }
   ],
   "source": [
    "sns.countplot(x='un_region', data=df,hue='cat')"
   ]
  },
  {
   "cell_type": "code",
   "execution_count": 55,
   "metadata": {},
   "outputs": [
    {
     "data": {
      "text/plain": [
       "<seaborn.axisgrid.FacetGrid at 0x19738d56fa0>"
      ]
     },
     "execution_count": 55,
     "metadata": {},
     "output_type": "execute_result"
    },
    {
     "data": {
      "image/png": "[encoded data removed]",
      "text/plain": [
       "<Figure size 814.4x2520 with 5 Axes>"
      ]
     },
     "metadata": {
      "needs_background": "light"
     },
     "output_type": "display_data"
    }
   ],
   "source": [
    "FacetGrid = sns.FacetGrid(df, row='cat', size=7.0, aspect=1.6)\n",
    "FacetGrid.map(sns.pointplot, 'wb_region', 'score', palette=None,  order=None, hue_order=None )\n",
    "FacetGrid.add_legend()"
   ]
  },
  {
   "cell_type": "code",
   "execution_count": 118,
   "metadata": {},
   "outputs": [
    {
     "data": {
      "text/plain": [
       "Index(['gid_1', 'name_1', 'iso_a3', 'iso_n3', 'name_0', 'score',\n",
       "       'score_ranked', 'cat', 'label', 'sum_weights', 'sum_weighted_indicator',\n",
       "       'count_valid', 'fraction_valid', 'un_region', 'wb_region',\n",
       "       'population_2019_million'],\n",
       "      dtype='object')"
      ]
     },
     "execution_count": 118,
     "metadata": {},
     "output_type": "execute_result"
    }
   ],
   "source": [
    "df.columns"
   ]
  },
  {
   "cell_type": "code",
   "execution_count": 119,
   "metadata": {},
   "outputs": [
    {
     "data": {
      "text/html": [
       "<div>\n",
       "<style scoped>\n",
       "    .dataframe tbody tr th:only-of-type {\n",
       "        vertical-align: middle;\n",
       "    }\n",
       "\n",
       "    .dataframe tbody tr th {\n",
       "        vertical-align: top;\n",
       "    }\n",
       "\n",
       "    .dataframe thead th {\n",
       "        text-align: right;\n",
       "    }\n",
       "</style>\n",
       "<table border=\"1\" class=\"dataframe\">\n",
       "  <thead>\n",
       "    <tr style=\"text-align: right;\">\n",
       "      <th></th>\n",
       "      <th>gid_1</th>\n",
       "      <th>name_1</th>\n",
       "      <th>iso_a3</th>\n",
       "      <th>iso_n3</th>\n",
       "      <th>name_0</th>\n",
       "      <th>score</th>\n",
       "      <th>score_ranked</th>\n",
       "      <th>cat</th>\n",
       "      <th>label</th>\n",
       "      <th>sum_weights</th>\n",
       "      <th>sum_weighted_indicator</th>\n",
       "      <th>count_valid</th>\n",
       "      <th>fraction_valid</th>\n",
       "      <th>un_region</th>\n",
       "      <th>wb_region</th>\n",
       "      <th>population_2019_million</th>\n",
       "    </tr>\n",
       "  </thead>\n",
       "  <tbody>\n",
       "    <tr>\n",
       "      <th>0</th>\n",
       "      <td>AFG.2_1</td>\n",
       "      <td>Badghis</td>\n",
       "      <td>AFG</td>\n",
       "      <td>4</td>\n",
       "      <td>Afghanistan</td>\n",
       "      <td>5.0</td>\n",
       "      <td>1</td>\n",
       "      <td>4</td>\n",
       "      <td>Extremely_High</td>\n",
       "      <td>690.095871</td>\n",
       "      <td>3450.479353</td>\n",
       "      <td>29790</td>\n",
       "      <td>1.000000</td>\n",
       "      <td>Asia</td>\n",
       "      <td>South Asia</td>\n",
       "      <td>37.209007</td>\n",
       "    </tr>\n",
       "    <tr>\n",
       "      <th>1</th>\n",
       "      <td>BWA.4_1</td>\n",
       "      <td>Gaborone</td>\n",
       "      <td>BWA</td>\n",
       "      <td>72</td>\n",
       "      <td>Botswana</td>\n",
       "      <td>5.0</td>\n",
       "      <td>1</td>\n",
       "      <td>4</td>\n",
       "      <td>Extremely_High</td>\n",
       "      <td>8.769247</td>\n",
       "      <td>43.846234</td>\n",
       "      <td>401</td>\n",
       "      <td>1.000000</td>\n",
       "      <td>Africa</td>\n",
       "      <td>Sub-Saharan Africa</td>\n",
       "      <td>2.374636</td>\n",
       "    </tr>\n",
       "    <tr>\n",
       "      <th>2</th>\n",
       "      <td>BWA.6_1</td>\n",
       "      <td>Jwaneng</td>\n",
       "      <td>BWA</td>\n",
       "      <td>72</td>\n",
       "      <td>Botswana</td>\n",
       "      <td>5.0</td>\n",
       "      <td>1</td>\n",
       "      <td>4</td>\n",
       "      <td>Extremely_High</td>\n",
       "      <td>0.105124</td>\n",
       "      <td>0.525620</td>\n",
       "      <td>26</td>\n",
       "      <td>1.000000</td>\n",
       "      <td>Africa</td>\n",
       "      <td>Sub-Saharan Africa</td>\n",
       "      <td>2.374636</td>\n",
       "    </tr>\n",
       "    <tr>\n",
       "      <th>3</th>\n",
       "      <td>DJI.3_1</td>\n",
       "      <td>Djibouti</td>\n",
       "      <td>DJI</td>\n",
       "      <td>262</td>\n",
       "      <td>Djibouti</td>\n",
       "      <td>5.0</td>\n",
       "      <td>1</td>\n",
       "      <td>4</td>\n",
       "      <td>Extremely_High</td>\n",
       "      <td>5.514121</td>\n",
       "      <td>27.570607</td>\n",
       "      <td>1029</td>\n",
       "      <td>1.000000</td>\n",
       "      <td>Africa</td>\n",
       "      <td>Middle East &amp; North Africa</td>\n",
       "      <td>0.985690</td>\n",
       "    </tr>\n",
       "    <tr>\n",
       "      <th>4</th>\n",
       "      <td>ECU.9_1</td>\n",
       "      <td>Galápagos</td>\n",
       "      <td>ECU</td>\n",
       "      <td>218</td>\n",
       "      <td>Ecuador</td>\n",
       "      <td>5.0</td>\n",
       "      <td>1</td>\n",
       "      <td>4</td>\n",
       "      <td>Extremely_High</td>\n",
       "      <td>0.545693</td>\n",
       "      <td>2.728464</td>\n",
       "      <td>10154</td>\n",
       "      <td>0.974887</td>\n",
       "      <td>Americas</td>\n",
       "      <td>Latin America &amp; Caribbean</td>\n",
       "      <td>17.100444</td>\n",
       "    </tr>\n",
       "  </tbody>\n",
       "</table>\n",
       "</div>"
      ],
      "text/plain": [
       "     gid_1     name_1 iso_a3  iso_n3       name_0  score  score_ranked  cat  \\\n",
       "0  AFG.2_1    Badghis    AFG       4  Afghanistan    5.0             1    4   \n",
       "1  BWA.4_1   Gaborone    BWA      72     Botswana    5.0             1    4   \n",
       "2  BWA.6_1    Jwaneng    BWA      72     Botswana    5.0             1    4   \n",
       "3  DJI.3_1   Djibouti    DJI     262     Djibouti    5.0             1    4   \n",
       "4  ECU.9_1  Galápagos    ECU     218      Ecuador    5.0             1    4   \n",
       "\n",
       "            label  sum_weights  sum_weighted_indicator  count_valid  \\\n",
       "0  Extremely_High   690.095871             3450.479353        29790   \n",
       "1  Extremely_High     8.769247               43.846234          401   \n",
       "2  Extremely_High     0.105124                0.525620           26   \n",
       "3  Extremely_High     5.514121               27.570607         1029   \n",
       "4  Extremely_High     0.545693                2.728464        10154   \n",
       "\n",
       "   fraction_valid un_region                   wb_region  \\\n",
       "0        1.000000      Asia                  South Asia   \n",
       "1        1.000000    Africa          Sub-Saharan Africa   \n",
       "2        1.000000    Africa          Sub-Saharan Africa   \n",
       "3        1.000000    Africa  Middle East & North Africa   \n",
       "4        0.974887  Americas   Latin America & Caribbean   \n",
       "\n",
       "   population_2019_million  \n",
       "0                37.209007  \n",
       "1                 2.374636  \n",
       "2                 2.374636  \n",
       "3                 0.985690  \n",
       "4                17.100444  "
      ]
     },
     "execution_count": 119,
     "metadata": {},
     "output_type": "execute_result"
    }
   ],
   "source": [
    "df.head()"
   ]
  },
  {
   "cell_type": "code",
   "execution_count": 147,
   "metadata": {},
   "outputs": [
    {
     "data": {
      "text/html": [
       "<div>\n",
       "<style scoped>\n",
       "    .dataframe tbody tr th:only-of-type {\n",
       "        vertical-align: middle;\n",
       "    }\n",
       "\n",
       "    .dataframe tbody tr th {\n",
       "        vertical-align: top;\n",
       "    }\n",
       "\n",
       "    .dataframe thead th {\n",
       "        text-align: right;\n",
       "    }\n",
       "</style>\n",
       "<table border=\"1\" class=\"dataframe\">\n",
       "  <thead>\n",
       "    <tr style=\"text-align: right;\">\n",
       "      <th></th>\n",
       "      <th>gid_1</th>\n",
       "      <th>name_1</th>\n",
       "      <th>iso_a3</th>\n",
       "      <th>iso_n3</th>\n",
       "      <th>score</th>\n",
       "      <th>score_ranked</th>\n",
       "      <th>cat</th>\n",
       "      <th>label</th>\n",
       "      <th>sum_weights</th>\n",
       "      <th>sum_weighted_indicator</th>\n",
       "      <th>...</th>\n",
       "      <th>un_region_Asia</th>\n",
       "      <th>un_region_Europe</th>\n",
       "      <th>un_region_Oceania</th>\n",
       "      <th>wb_region_East Asia &amp; Pacific</th>\n",
       "      <th>wb_region_Europe &amp; Central Asia</th>\n",
       "      <th>wb_region_Latin America &amp; Caribbean</th>\n",
       "      <th>wb_region_Middle East &amp; North Africa</th>\n",
       "      <th>wb_region_North America</th>\n",
       "      <th>wb_region_South Asia</th>\n",
       "      <th>wb_region_Sub-Saharan Africa</th>\n",
       "    </tr>\n",
       "  </thead>\n",
       "  <tbody>\n",
       "    <tr>\n",
       "      <th>0</th>\n",
       "      <td>AFG.2_1</td>\n",
       "      <td>Badghis</td>\n",
       "      <td>AFG</td>\n",
       "      <td>4</td>\n",
       "      <td>5.0</td>\n",
       "      <td>1</td>\n",
       "      <td>4</td>\n",
       "      <td>Extremely_High</td>\n",
       "      <td>690.095871</td>\n",
       "      <td>3450.479353</td>\n",
       "      <td>...</td>\n",
       "      <td>1</td>\n",
       "      <td>0</td>\n",
       "      <td>0</td>\n",
       "      <td>0</td>\n",
       "      <td>0</td>\n",
       "      <td>0</td>\n",
       "      <td>0</td>\n",
       "      <td>0</td>\n",
       "      <td>1</td>\n",
       "      <td>0</td>\n",
       "    </tr>\n",
       "    <tr>\n",
       "      <th>1</th>\n",
       "      <td>BWA.4_1</td>\n",
       "      <td>Gaborone</td>\n",
       "      <td>BWA</td>\n",
       "      <td>72</td>\n",
       "      <td>5.0</td>\n",
       "      <td>1</td>\n",
       "      <td>4</td>\n",
       "      <td>Extremely_High</td>\n",
       "      <td>8.769247</td>\n",
       "      <td>43.846234</td>\n",
       "      <td>...</td>\n",
       "      <td>0</td>\n",
       "      <td>0</td>\n",
       "      <td>0</td>\n",
       "      <td>0</td>\n",
       "      <td>0</td>\n",
       "      <td>0</td>\n",
       "      <td>0</td>\n",
       "      <td>0</td>\n",
       "      <td>0</td>\n",
       "      <td>1</td>\n",
       "    </tr>\n",
       "    <tr>\n",
       "      <th>2</th>\n",
       "      <td>BWA.6_1</td>\n",
       "      <td>Jwaneng</td>\n",
       "      <td>BWA</td>\n",
       "      <td>72</td>\n",
       "      <td>5.0</td>\n",
       "      <td>1</td>\n",
       "      <td>4</td>\n",
       "      <td>Extremely_High</td>\n",
       "      <td>0.105124</td>\n",
       "      <td>0.525620</td>\n",
       "      <td>...</td>\n",
       "      <td>0</td>\n",
       "      <td>0</td>\n",
       "      <td>0</td>\n",
       "      <td>0</td>\n",
       "      <td>0</td>\n",
       "      <td>0</td>\n",
       "      <td>0</td>\n",
       "      <td>0</td>\n",
       "      <td>0</td>\n",
       "      <td>1</td>\n",
       "    </tr>\n",
       "    <tr>\n",
       "      <th>3</th>\n",
       "      <td>DJI.3_1</td>\n",
       "      <td>Djibouti</td>\n",
       "      <td>DJI</td>\n",
       "      <td>262</td>\n",
       "      <td>5.0</td>\n",
       "      <td>1</td>\n",
       "      <td>4</td>\n",
       "      <td>Extremely_High</td>\n",
       "      <td>5.514121</td>\n",
       "      <td>27.570607</td>\n",
       "      <td>...</td>\n",
       "      <td>0</td>\n",
       "      <td>0</td>\n",
       "      <td>0</td>\n",
       "      <td>0</td>\n",
       "      <td>0</td>\n",
       "      <td>0</td>\n",
       "      <td>1</td>\n",
       "      <td>0</td>\n",
       "      <td>0</td>\n",
       "      <td>0</td>\n",
       "    </tr>\n",
       "    <tr>\n",
       "      <th>4</th>\n",
       "      <td>ECU.9_1</td>\n",
       "      <td>Galápagos</td>\n",
       "      <td>ECU</td>\n",
       "      <td>218</td>\n",
       "      <td>5.0</td>\n",
       "      <td>1</td>\n",
       "      <td>4</td>\n",
       "      <td>Extremely_High</td>\n",
       "      <td>0.545693</td>\n",
       "      <td>2.728464</td>\n",
       "      <td>...</td>\n",
       "      <td>0</td>\n",
       "      <td>0</td>\n",
       "      <td>0</td>\n",
       "      <td>0</td>\n",
       "      <td>0</td>\n",
       "      <td>1</td>\n",
       "      <td>0</td>\n",
       "      <td>0</td>\n",
       "      <td>0</td>\n",
       "      <td>0</td>\n",
       "    </tr>\n",
       "  </tbody>\n",
       "</table>\n",
       "<p>5 rows × 189 columns</p>\n",
       "</div>"
      ],
      "text/plain": [
       "     gid_1     name_1 iso_a3  iso_n3  score  score_ranked  cat  \\\n",
       "0  AFG.2_1    Badghis    AFG       4    5.0             1    4   \n",
       "1  BWA.4_1   Gaborone    BWA      72    5.0             1    4   \n",
       "2  BWA.6_1    Jwaneng    BWA      72    5.0             1    4   \n",
       "3  DJI.3_1   Djibouti    DJI     262    5.0             1    4   \n",
       "4  ECU.9_1  Galápagos    ECU     218    5.0             1    4   \n",
       "\n",
       "            label  sum_weights  sum_weighted_indicator  ...  un_region_Asia  \\\n",
       "0  Extremely_High   690.095871             3450.479353  ...               1   \n",
       "1  Extremely_High     8.769247               43.846234  ...               0   \n",
       "2  Extremely_High     0.105124                0.525620  ...               0   \n",
       "3  Extremely_High     5.514121               27.570607  ...               0   \n",
       "4  Extremely_High     0.545693                2.728464  ...               0   \n",
       "\n",
       "   un_region_Europe  un_region_Oceania  wb_region_East Asia & Pacific  \\\n",
       "0                 0                  0                              0   \n",
       "1                 0                  0                              0   \n",
       "2                 0                  0                              0   \n",
       "3                 0                  0                              0   \n",
       "4                 0                  0                              0   \n",
       "\n",
       "   wb_region_Europe & Central Asia  wb_region_Latin America & Caribbean  \\\n",
       "0                                0                                    0   \n",
       "1                                0                                    0   \n",
       "2                                0                                    0   \n",
       "3                                0                                    0   \n",
       "4                                0                                    1   \n",
       "\n",
       "   wb_region_Middle East & North Africa  wb_region_North America  \\\n",
       "0                                     0                        0   \n",
       "1                                     0                        0   \n",
       "2                                     0                        0   \n",
       "3                                     1                        0   \n",
       "4                                     0                        0   \n",
       "\n",
       "   wb_region_South Asia  wb_region_Sub-Saharan Africa  \n",
       "0                     1                             0  \n",
       "1                     0                             1  \n",
       "2                     0                             1  \n",
       "3                     0                             0  \n",
       "4                     0                             0  \n",
       "\n",
       "[5 rows x 189 columns]"
      ]
     },
     "execution_count": 147,
     "metadata": {},
     "output_type": "execute_result"
    }
   ],
   "source": [
    "data_onehot_encoded = df.copy()\n",
    "data_onehot_encoded = pd.get_dummies(data_onehot_encoded, columns=['name_0'])\n",
    "df = pd.get_dummies(data_onehot_encoded, columns=['un_region'])\n",
    "data = pd.get_dummies(df, columns=['wb_region'])\n",
    "\n",
    "data.head()"
   ]
  },
  {
   "cell_type": "code",
   "execution_count": 71,
   "metadata": {},
   "outputs": [
    {
     "data": {
      "text/html": [
       "<div>\n",
       "<style scoped>\n",
       "    .dataframe tbody tr th:only-of-type {\n",
       "        vertical-align: middle;\n",
       "    }\n",
       "\n",
       "    .dataframe tbody tr th {\n",
       "        vertical-align: top;\n",
       "    }\n",
       "\n",
       "    .dataframe thead th {\n",
       "        text-align: right;\n",
       "    }\n",
       "</style>\n",
       "<table border=\"1\" class=\"dataframe\">\n",
       "  <thead>\n",
       "    <tr style=\"text-align: right;\">\n",
       "      <th></th>\n",
       "      <th>gid_1</th>\n",
       "      <th>name_1</th>\n",
       "      <th>iso_a3</th>\n",
       "      <th>iso_n3</th>\n",
       "      <th>score</th>\n",
       "      <th>score_ranked</th>\n",
       "      <th>cat</th>\n",
       "      <th>label</th>\n",
       "      <th>sum_weights</th>\n",
       "      <th>sum_weighted_indicator</th>\n",
       "      <th>...</th>\n",
       "      <th>name_0_Venezuela</th>\n",
       "      <th>name_0_Vietnam</th>\n",
       "      <th>name_0_Yemen</th>\n",
       "      <th>name_0_Zambia</th>\n",
       "      <th>name_0_Zimbabwe</th>\n",
       "      <th>un_region_Africa</th>\n",
       "      <th>un_region_Americas</th>\n",
       "      <th>un_region_Asia</th>\n",
       "      <th>un_region_Europe</th>\n",
       "      <th>un_region_Oceania</th>\n",
       "    </tr>\n",
       "  </thead>\n",
       "  <tbody>\n",
       "    <tr>\n",
       "      <th>0</th>\n",
       "      <td>AFG.2_1</td>\n",
       "      <td>Badghis</td>\n",
       "      <td>AFG</td>\n",
       "      <td>4</td>\n",
       "      <td>5.0</td>\n",
       "      <td>1</td>\n",
       "      <td>4</td>\n",
       "      <td>Extremely_High</td>\n",
       "      <td>690.095871</td>\n",
       "      <td>3450.479353</td>\n",
       "      <td>...</td>\n",
       "      <td>0</td>\n",
       "      <td>0</td>\n",
       "      <td>0</td>\n",
       "      <td>0</td>\n",
       "      <td>0</td>\n",
       "      <td>0</td>\n",
       "      <td>0</td>\n",
       "      <td>1</td>\n",
       "      <td>0</td>\n",
       "      <td>0</td>\n",
       "    </tr>\n",
       "    <tr>\n",
       "      <th>1</th>\n",
       "      <td>BWA.4_1</td>\n",
       "      <td>Gaborone</td>\n",
       "      <td>BWA</td>\n",
       "      <td>72</td>\n",
       "      <td>5.0</td>\n",
       "      <td>1</td>\n",
       "      <td>4</td>\n",
       "      <td>Extremely_High</td>\n",
       "      <td>8.769247</td>\n",
       "      <td>43.846234</td>\n",
       "      <td>...</td>\n",
       "      <td>0</td>\n",
       "      <td>0</td>\n",
       "      <td>0</td>\n",
       "      <td>0</td>\n",
       "      <td>0</td>\n",
       "      <td>1</td>\n",
       "      <td>0</td>\n",
       "      <td>0</td>\n",
       "      <td>0</td>\n",
       "      <td>0</td>\n",
       "    </tr>\n",
       "    <tr>\n",
       "      <th>2</th>\n",
       "      <td>BWA.6_1</td>\n",
       "      <td>Jwaneng</td>\n",
       "      <td>BWA</td>\n",
       "      <td>72</td>\n",
       "      <td>5.0</td>\n",
       "      <td>1</td>\n",
       "      <td>4</td>\n",
       "      <td>Extremely_High</td>\n",
       "      <td>0.105124</td>\n",
       "      <td>0.525620</td>\n",
       "      <td>...</td>\n",
       "      <td>0</td>\n",
       "      <td>0</td>\n",
       "      <td>0</td>\n",
       "      <td>0</td>\n",
       "      <td>0</td>\n",
       "      <td>1</td>\n",
       "      <td>0</td>\n",
       "      <td>0</td>\n",
       "      <td>0</td>\n",
       "      <td>0</td>\n",
       "    </tr>\n",
       "    <tr>\n",
       "      <th>3</th>\n",
       "      <td>DJI.3_1</td>\n",
       "      <td>Djibouti</td>\n",
       "      <td>DJI</td>\n",
       "      <td>262</td>\n",
       "      <td>5.0</td>\n",
       "      <td>1</td>\n",
       "      <td>4</td>\n",
       "      <td>Extremely_High</td>\n",
       "      <td>5.514121</td>\n",
       "      <td>27.570607</td>\n",
       "      <td>...</td>\n",
       "      <td>0</td>\n",
       "      <td>0</td>\n",
       "      <td>0</td>\n",
       "      <td>0</td>\n",
       "      <td>0</td>\n",
       "      <td>1</td>\n",
       "      <td>0</td>\n",
       "      <td>0</td>\n",
       "      <td>0</td>\n",
       "      <td>0</td>\n",
       "    </tr>\n",
       "    <tr>\n",
       "      <th>4</th>\n",
       "      <td>ECU.9_1</td>\n",
       "      <td>Galápagos</td>\n",
       "      <td>ECU</td>\n",
       "      <td>218</td>\n",
       "      <td>5.0</td>\n",
       "      <td>1</td>\n",
       "      <td>4</td>\n",
       "      <td>Extremely_High</td>\n",
       "      <td>0.545693</td>\n",
       "      <td>2.728464</td>\n",
       "      <td>...</td>\n",
       "      <td>0</td>\n",
       "      <td>0</td>\n",
       "      <td>0</td>\n",
       "      <td>0</td>\n",
       "      <td>0</td>\n",
       "      <td>0</td>\n",
       "      <td>1</td>\n",
       "      <td>0</td>\n",
       "      <td>0</td>\n",
       "      <td>0</td>\n",
       "    </tr>\n",
       "  </tbody>\n",
       "</table>\n",
       "<p>5 rows × 183 columns</p>\n",
       "</div>"
      ],
      "text/plain": [
       "     gid_1     name_1 iso_a3  iso_n3  score  score_ranked  cat  \\\n",
       "0  AFG.2_1    Badghis    AFG       4    5.0             1    4   \n",
       "1  BWA.4_1   Gaborone    BWA      72    5.0             1    4   \n",
       "2  BWA.6_1    Jwaneng    BWA      72    5.0             1    4   \n",
       "3  DJI.3_1   Djibouti    DJI     262    5.0             1    4   \n",
       "4  ECU.9_1  Galápagos    ECU     218    5.0             1    4   \n",
       "\n",
       "            label  sum_weights  sum_weighted_indicator  ...  name_0_Venezuela  \\\n",
       "0  Extremely_High   690.095871             3450.479353  ...                 0   \n",
       "1  Extremely_High     8.769247               43.846234  ...                 0   \n",
       "2  Extremely_High     0.105124                0.525620  ...                 0   \n",
       "3  Extremely_High     5.514121               27.570607  ...                 0   \n",
       "4  Extremely_High     0.545693                2.728464  ...                 0   \n",
       "\n",
       "   name_0_Vietnam name_0_Yemen  name_0_Zambia  name_0_Zimbabwe  \\\n",
       "0               0            0              0                0   \n",
       "1               0            0              0                0   \n",
       "2               0            0              0                0   \n",
       "3               0            0              0                0   \n",
       "4               0            0              0                0   \n",
       "\n",
       "   un_region_Africa  un_region_Americas  un_region_Asia  un_region_Europe  \\\n",
       "0                 0                   0               1                 0   \n",
       "1                 1                   0               0                 0   \n",
       "2                 1                   0               0                 0   \n",
       "3                 1                   0               0                 0   \n",
       "4                 0                   1               0                 0   \n",
       "\n",
       "   un_region_Oceania  \n",
       "0                  0  \n",
       "1                  0  \n",
       "2                  0  \n",
       "3                  0  \n",
       "4                  0  \n",
       "\n",
       "[5 rows x 183 columns]"
      ]
     },
     "execution_count": 71,
     "metadata": {},
     "output_type": "execute_result"
    }
   ],
   "source": [
    "df.head()"
   ]
  },
  {
   "cell_type": "code",
   "execution_count": 116,
   "metadata": {},
   "outputs": [
    {
     "data": {
      "text/plain": [
       "Index(['gid_1', 'name_1', 'iso_a3', 'iso_n3', 'score', 'score_ranked', 'cat',\n",
       "       'label', 'sum_weights', 'sum_weighted_indicator',\n",
       "       ...\n",
       "       'name_0_Venezuela', 'name_0_Vietnam', 'name_0_Yemen', 'name_0_Zambia',\n",
       "       'name_0_Zimbabwe', 'un_region_Africa', 'un_region_Americas',\n",
       "       'un_region_Asia', 'un_region_Europe', 'un_region_Oceania'],\n",
       "      dtype='object', length=183)"
      ]
     },
     "execution_count": 116,
     "metadata": {},
     "output_type": "execute_result"
    }
   ],
   "source": [
    "df.columns"
   ]
  },
  {
   "cell_type": "code",
   "execution_count": 148,
   "metadata": {},
   "outputs": [],
   "source": [
    "def handle_categorical_variables(data):\n",
    "    data = pd.get_dummies(data, drop_first=True, columns=['label'])\n",
    "    data.label = LabelEncoder().fit_transform(data.label)\n",
    "    return data"
   ]
  },
  {
   "cell_type": "code",
   "execution_count": 123,
   "metadata": {},
   "outputs": [
    {
     "data": {
      "text/html": [
       "<div>\n",
       "<style scoped>\n",
       "    .dataframe tbody tr th:only-of-type {\n",
       "        vertical-align: middle;\n",
       "    }\n",
       "\n",
       "    .dataframe tbody tr th {\n",
       "        vertical-align: top;\n",
       "    }\n",
       "\n",
       "    .dataframe thead th {\n",
       "        text-align: right;\n",
       "    }\n",
       "</style>\n",
       "<table border=\"1\" class=\"dataframe\">\n",
       "  <thead>\n",
       "    <tr style=\"text-align: right;\">\n",
       "      <th></th>\n",
       "      <th>gid_1</th>\n",
       "      <th>name_1</th>\n",
       "      <th>iso_a3</th>\n",
       "      <th>iso_n3</th>\n",
       "      <th>score</th>\n",
       "      <th>score_ranked</th>\n",
       "      <th>cat</th>\n",
       "      <th>sum_weights</th>\n",
       "      <th>sum_weighted_indicator</th>\n",
       "      <th>count_valid</th>\n",
       "      <th>...</th>\n",
       "      <th>wb_region_Europe &amp; Central Asia</th>\n",
       "      <th>wb_region_Latin America &amp; Caribbean</th>\n",
       "      <th>wb_region_Middle East &amp; North Africa</th>\n",
       "      <th>wb_region_North America</th>\n",
       "      <th>wb_region_South Asia</th>\n",
       "      <th>wb_region_Sub-Saharan Africa</th>\n",
       "      <th>label_High</th>\n",
       "      <th>label_Low</th>\n",
       "      <th>label_Low_Medium</th>\n",
       "      <th>label_Medium_High</th>\n",
       "    </tr>\n",
       "  </thead>\n",
       "  <tbody>\n",
       "    <tr>\n",
       "      <th>0</th>\n",
       "      <td>AFG.2_1</td>\n",
       "      <td>Badghis</td>\n",
       "      <td>AFG</td>\n",
       "      <td>4</td>\n",
       "      <td>5.0</td>\n",
       "      <td>1</td>\n",
       "      <td>4</td>\n",
       "      <td>690.095871</td>\n",
       "      <td>3450.479353</td>\n",
       "      <td>29790</td>\n",
       "      <td>...</td>\n",
       "      <td>0</td>\n",
       "      <td>0</td>\n",
       "      <td>0</td>\n",
       "      <td>0</td>\n",
       "      <td>1</td>\n",
       "      <td>0</td>\n",
       "      <td>0</td>\n",
       "      <td>0</td>\n",
       "      <td>0</td>\n",
       "      <td>0</td>\n",
       "    </tr>\n",
       "    <tr>\n",
       "      <th>1</th>\n",
       "      <td>BWA.4_1</td>\n",
       "      <td>Gaborone</td>\n",
       "      <td>BWA</td>\n",
       "      <td>72</td>\n",
       "      <td>5.0</td>\n",
       "      <td>1</td>\n",
       "      <td>4</td>\n",
       "      <td>8.769247</td>\n",
       "      <td>43.846234</td>\n",
       "      <td>401</td>\n",
       "      <td>...</td>\n",
       "      <td>0</td>\n",
       "      <td>0</td>\n",
       "      <td>0</td>\n",
       "      <td>0</td>\n",
       "      <td>0</td>\n",
       "      <td>1</td>\n",
       "      <td>0</td>\n",
       "      <td>0</td>\n",
       "      <td>0</td>\n",
       "      <td>0</td>\n",
       "    </tr>\n",
       "    <tr>\n",
       "      <th>2</th>\n",
       "      <td>BWA.6_1</td>\n",
       "      <td>Jwaneng</td>\n",
       "      <td>BWA</td>\n",
       "      <td>72</td>\n",
       "      <td>5.0</td>\n",
       "      <td>1</td>\n",
       "      <td>4</td>\n",
       "      <td>0.105124</td>\n",
       "      <td>0.525620</td>\n",
       "      <td>26</td>\n",
       "      <td>...</td>\n",
       "      <td>0</td>\n",
       "      <td>0</td>\n",
       "      <td>0</td>\n",
       "      <td>0</td>\n",
       "      <td>0</td>\n",
       "      <td>1</td>\n",
       "      <td>0</td>\n",
       "      <td>0</td>\n",
       "      <td>0</td>\n",
       "      <td>0</td>\n",
       "    </tr>\n",
       "    <tr>\n",
       "      <th>3</th>\n",
       "      <td>DJI.3_1</td>\n",
       "      <td>Djibouti</td>\n",
       "      <td>DJI</td>\n",
       "      <td>262</td>\n",
       "      <td>5.0</td>\n",
       "      <td>1</td>\n",
       "      <td>4</td>\n",
       "      <td>5.514121</td>\n",
       "      <td>27.570607</td>\n",
       "      <td>1029</td>\n",
       "      <td>...</td>\n",
       "      <td>0</td>\n",
       "      <td>0</td>\n",
       "      <td>1</td>\n",
       "      <td>0</td>\n",
       "      <td>0</td>\n",
       "      <td>0</td>\n",
       "      <td>0</td>\n",
       "      <td>0</td>\n",
       "      <td>0</td>\n",
       "      <td>0</td>\n",
       "    </tr>\n",
       "    <tr>\n",
       "      <th>4</th>\n",
       "      <td>ECU.9_1</td>\n",
       "      <td>Galápagos</td>\n",
       "      <td>ECU</td>\n",
       "      <td>218</td>\n",
       "      <td>5.0</td>\n",
       "      <td>1</td>\n",
       "      <td>4</td>\n",
       "      <td>0.545693</td>\n",
       "      <td>2.728464</td>\n",
       "      <td>10154</td>\n",
       "      <td>...</td>\n",
       "      <td>0</td>\n",
       "      <td>1</td>\n",
       "      <td>0</td>\n",
       "      <td>0</td>\n",
       "      <td>0</td>\n",
       "      <td>0</td>\n",
       "      <td>0</td>\n",
       "      <td>0</td>\n",
       "      <td>0</td>\n",
       "      <td>0</td>\n",
       "    </tr>\n",
       "  </tbody>\n",
       "</table>\n",
       "<p>5 rows × 192 columns</p>\n",
       "</div>"
      ],
      "text/plain": [
       "     gid_1     name_1 iso_a3  iso_n3  score  score_ranked  cat  sum_weights  \\\n",
       "0  AFG.2_1    Badghis    AFG       4    5.0             1    4   690.095871   \n",
       "1  BWA.4_1   Gaborone    BWA      72    5.0             1    4     8.769247   \n",
       "2  BWA.6_1    Jwaneng    BWA      72    5.0             1    4     0.105124   \n",
       "3  DJI.3_1   Djibouti    DJI     262    5.0             1    4     5.514121   \n",
       "4  ECU.9_1  Galápagos    ECU     218    5.0             1    4     0.545693   \n",
       "\n",
       "   sum_weighted_indicator  count_valid  ...  wb_region_Europe & Central Asia  \\\n",
       "0             3450.479353        29790  ...                                0   \n",
       "1               43.846234          401  ...                                0   \n",
       "2                0.525620           26  ...                                0   \n",
       "3               27.570607         1029  ...                                0   \n",
       "4                2.728464        10154  ...                                0   \n",
       "\n",
       "   wb_region_Latin America & Caribbean  wb_region_Middle East & North Africa  \\\n",
       "0                                    0                                     0   \n",
       "1                                    0                                     0   \n",
       "2                                    0                                     0   \n",
       "3                                    0                                     1   \n",
       "4                                    1                                     0   \n",
       "\n",
       "   wb_region_North America  wb_region_South Asia  \\\n",
       "0                        0                     1   \n",
       "1                        0                     0   \n",
       "2                        0                     0   \n",
       "3                        0                     0   \n",
       "4                        0                     0   \n",
       "\n",
       "   wb_region_Sub-Saharan Africa  label_High  label_Low  label_Low_Medium  \\\n",
       "0                             0           0          0                 0   \n",
       "1                             1           0          0                 0   \n",
       "2                             1           0          0                 0   \n",
       "3                             0           0          0                 0   \n",
       "4                             0           0          0                 0   \n",
       "\n",
       "   label_Medium_High  \n",
       "0                  0  \n",
       "1                  0  \n",
       "2                  0  \n",
       "3                  0  \n",
       "4                  0  \n",
       "\n",
       "[5 rows x 192 columns]"
      ]
     },
     "execution_count": 123,
     "metadata": {},
     "output_type": "execute_result"
    }
   ],
   "source": [
    "data.head()"
   ]
  },
  {
   "cell_type": "code",
   "execution_count": 125,
   "metadata": {},
   "outputs": [
    {
     "data": {
      "text/plain": [
       "Index(['gid_1', 'name_1', 'iso_a3', 'iso_n3', 'score', 'score_ranked', 'cat',\n",
       "       'sum_weights', 'sum_weighted_indicator', 'count_valid',\n",
       "       ...\n",
       "       'wb_region_Europe & Central Asia',\n",
       "       'wb_region_Latin America & Caribbean',\n",
       "       'wb_region_Middle East & North Africa', 'wb_region_North America',\n",
       "       'wb_region_South Asia', 'wb_region_Sub-Saharan Africa', 'label_High',\n",
       "       'label_Low', 'label_Low_Medium', 'label_Medium_High'],\n",
       "      dtype='object', length=192)"
      ]
     },
     "execution_count": 125,
     "metadata": {},
     "output_type": "execute_result"
    }
   ],
   "source": [
    "data.columns"
   ]
  },
  {
   "cell_type": "code",
   "execution_count": 152,
   "metadata": {},
   "outputs": [],
   "source": [
    "data.drop(labels=['gid_1','name_1','iso_a3'], axis=1, inplace=True)"
   ]
  },
  {
   "cell_type": "code",
   "execution_count": 153,
   "metadata": {},
   "outputs": [],
   "source": [
    "data.drop(labels=['iso_n3'], axis=1, inplace=True)"
   ]
  },
  {
   "cell_type": "code",
   "execution_count": 154,
   "metadata": {},
   "outputs": [
    {
     "data": {
      "text/html": [
       "<div>\n",
       "<style scoped>\n",
       "    .dataframe tbody tr th:only-of-type {\n",
       "        vertical-align: middle;\n",
       "    }\n",
       "\n",
       "    .dataframe tbody tr th {\n",
       "        vertical-align: top;\n",
       "    }\n",
       "\n",
       "    .dataframe thead th {\n",
       "        text-align: right;\n",
       "    }\n",
       "</style>\n",
       "<table border=\"1\" class=\"dataframe\">\n",
       "  <thead>\n",
       "    <tr style=\"text-align: right;\">\n",
       "      <th></th>\n",
       "      <th>score</th>\n",
       "      <th>score_ranked</th>\n",
       "      <th>cat</th>\n",
       "      <th>label</th>\n",
       "      <th>sum_weights</th>\n",
       "      <th>sum_weighted_indicator</th>\n",
       "      <th>count_valid</th>\n",
       "      <th>fraction_valid</th>\n",
       "      <th>population_2019_million</th>\n",
       "      <th>name_0_Afghanistan</th>\n",
       "      <th>...</th>\n",
       "      <th>un_region_Asia</th>\n",
       "      <th>un_region_Europe</th>\n",
       "      <th>un_region_Oceania</th>\n",
       "      <th>wb_region_East Asia &amp; Pacific</th>\n",
       "      <th>wb_region_Europe &amp; Central Asia</th>\n",
       "      <th>wb_region_Latin America &amp; Caribbean</th>\n",
       "      <th>wb_region_Middle East &amp; North Africa</th>\n",
       "      <th>wb_region_North America</th>\n",
       "      <th>wb_region_South Asia</th>\n",
       "      <th>wb_region_Sub-Saharan Africa</th>\n",
       "    </tr>\n",
       "  </thead>\n",
       "  <tbody>\n",
       "    <tr>\n",
       "      <th>0</th>\n",
       "      <td>5.0</td>\n",
       "      <td>1</td>\n",
       "      <td>4</td>\n",
       "      <td>Extremely_High</td>\n",
       "      <td>690.095871</td>\n",
       "      <td>3450.479353</td>\n",
       "      <td>29790</td>\n",
       "      <td>1.000000</td>\n",
       "      <td>37.209007</td>\n",
       "      <td>1</td>\n",
       "      <td>...</td>\n",
       "      <td>1</td>\n",
       "      <td>0</td>\n",
       "      <td>0</td>\n",
       "      <td>0</td>\n",
       "      <td>0</td>\n",
       "      <td>0</td>\n",
       "      <td>0</td>\n",
       "      <td>0</td>\n",
       "      <td>1</td>\n",
       "      <td>0</td>\n",
       "    </tr>\n",
       "    <tr>\n",
       "      <th>1</th>\n",
       "      <td>5.0</td>\n",
       "      <td>1</td>\n",
       "      <td>4</td>\n",
       "      <td>Extremely_High</td>\n",
       "      <td>8.769247</td>\n",
       "      <td>43.846234</td>\n",
       "      <td>401</td>\n",
       "      <td>1.000000</td>\n",
       "      <td>2.374636</td>\n",
       "      <td>0</td>\n",
       "      <td>...</td>\n",
       "      <td>0</td>\n",
       "      <td>0</td>\n",
       "      <td>0</td>\n",
       "      <td>0</td>\n",
       "      <td>0</td>\n",
       "      <td>0</td>\n",
       "      <td>0</td>\n",
       "      <td>0</td>\n",
       "      <td>0</td>\n",
       "      <td>1</td>\n",
       "    </tr>\n",
       "    <tr>\n",
       "      <th>2</th>\n",
       "      <td>5.0</td>\n",
       "      <td>1</td>\n",
       "      <td>4</td>\n",
       "      <td>Extremely_High</td>\n",
       "      <td>0.105124</td>\n",
       "      <td>0.525620</td>\n",
       "      <td>26</td>\n",
       "      <td>1.000000</td>\n",
       "      <td>2.374636</td>\n",
       "      <td>0</td>\n",
       "      <td>...</td>\n",
       "      <td>0</td>\n",
       "      <td>0</td>\n",
       "      <td>0</td>\n",
       "      <td>0</td>\n",
       "      <td>0</td>\n",
       "      <td>0</td>\n",
       "      <td>0</td>\n",
       "      <td>0</td>\n",
       "      <td>0</td>\n",
       "      <td>1</td>\n",
       "    </tr>\n",
       "    <tr>\n",
       "      <th>3</th>\n",
       "      <td>5.0</td>\n",
       "      <td>1</td>\n",
       "      <td>4</td>\n",
       "      <td>Extremely_High</td>\n",
       "      <td>5.514121</td>\n",
       "      <td>27.570607</td>\n",
       "      <td>1029</td>\n",
       "      <td>1.000000</td>\n",
       "      <td>0.985690</td>\n",
       "      <td>0</td>\n",
       "      <td>...</td>\n",
       "      <td>0</td>\n",
       "      <td>0</td>\n",
       "      <td>0</td>\n",
       "      <td>0</td>\n",
       "      <td>0</td>\n",
       "      <td>0</td>\n",
       "      <td>1</td>\n",
       "      <td>0</td>\n",
       "      <td>0</td>\n",
       "      <td>0</td>\n",
       "    </tr>\n",
       "    <tr>\n",
       "      <th>4</th>\n",
       "      <td>5.0</td>\n",
       "      <td>1</td>\n",
       "      <td>4</td>\n",
       "      <td>Extremely_High</td>\n",
       "      <td>0.545693</td>\n",
       "      <td>2.728464</td>\n",
       "      <td>10154</td>\n",
       "      <td>0.974887</td>\n",
       "      <td>17.100444</td>\n",
       "      <td>0</td>\n",
       "      <td>...</td>\n",
       "      <td>0</td>\n",
       "      <td>0</td>\n",
       "      <td>0</td>\n",
       "      <td>0</td>\n",
       "      <td>0</td>\n",
       "      <td>1</td>\n",
       "      <td>0</td>\n",
       "      <td>0</td>\n",
       "      <td>0</td>\n",
       "      <td>0</td>\n",
       "    </tr>\n",
       "  </tbody>\n",
       "</table>\n",
       "<p>5 rows × 185 columns</p>\n",
       "</div>"
      ],
      "text/plain": [
       "   score  score_ranked  cat           label  sum_weights  \\\n",
       "0    5.0             1    4  Extremely_High   690.095871   \n",
       "1    5.0             1    4  Extremely_High     8.769247   \n",
       "2    5.0             1    4  Extremely_High     0.105124   \n",
       "3    5.0             1    4  Extremely_High     5.514121   \n",
       "4    5.0             1    4  Extremely_High     0.545693   \n",
       "\n",
       "   sum_weighted_indicator  count_valid  fraction_valid  \\\n",
       "0             3450.479353        29790        1.000000   \n",
       "1               43.846234          401        1.000000   \n",
       "2                0.525620           26        1.000000   \n",
       "3               27.570607         1029        1.000000   \n",
       "4                2.728464        10154        0.974887   \n",
       "\n",
       "   population_2019_million  name_0_Afghanistan  ...  un_region_Asia  \\\n",
       "0                37.209007                   1  ...               1   \n",
       "1                 2.374636                   0  ...               0   \n",
       "2                 2.374636                   0  ...               0   \n",
       "3                 0.985690                   0  ...               0   \n",
       "4                17.100444                   0  ...               0   \n",
       "\n",
       "   un_region_Europe  un_region_Oceania  wb_region_East Asia & Pacific  \\\n",
       "0                 0                  0                              0   \n",
       "1                 0                  0                              0   \n",
       "2                 0                  0                              0   \n",
       "3                 0                  0                              0   \n",
       "4                 0                  0                              0   \n",
       "\n",
       "   wb_region_Europe & Central Asia  wb_region_Latin America & Caribbean  \\\n",
       "0                                0                                    0   \n",
       "1                                0                                    0   \n",
       "2                                0                                    0   \n",
       "3                                0                                    0   \n",
       "4                                0                                    1   \n",
       "\n",
       "   wb_region_Middle East & North Africa  wb_region_North America  \\\n",
       "0                                     0                        0   \n",
       "1                                     0                        0   \n",
       "2                                     0                        0   \n",
       "3                                     1                        0   \n",
       "4                                     0                        0   \n",
       "\n",
       "   wb_region_South Asia  wb_region_Sub-Saharan Africa  \n",
       "0                     1                             0  \n",
       "1                     0                             1  \n",
       "2                     0                             1  \n",
       "3                     0                             0  \n",
       "4                     0                             0  \n",
       "\n",
       "[5 rows x 185 columns]"
      ]
     },
     "execution_count": 154,
     "metadata": {},
     "output_type": "execute_result"
    }
   ],
   "source": [
    "data.head()"
   ]
  },
  {
   "cell_type": "code",
   "execution_count": 155,
   "metadata": {},
   "outputs": [],
   "source": [
    "rand_state_ = 42\n",
    "X_train, X_test, y_train, y_test = train_test_split(data.drop(['label'], axis=1), data1.label, test_size=0.3, random_state=rand_state_)"
   ]
  },
  {
   "cell_type": "code",
   "execution_count": 156,
   "metadata": {},
   "outputs": [],
   "source": [
    "class EvaluateClassifier():\n",
    "    def __init__(self):\n",
    "        self.classifiers = {}\n",
    "\n",
    "    def evaluate_model(self, modelName, train_predictions, test_predictions):\n",
    "        self.classifiers[modelName] = {\n",
    "            'train_score': accuracy_score(y_train, train_predictions),            \n",
    "            'test_score': accuracy_score(y_test, test_predictions)\n",
    "        }\n",
    "\n",
    "    def fit_and_predict_using_RandomSearchCV(self, classifier, grid_params):\n",
    "        random_cv_model = RandomizedSearchCV(estimator=classifier, param_distributions=grid_params, cv=10)\n",
    "        random_cv_model.fit(X_train, y_train)\n",
    "        self.evaluate_model(classifier.__class__.__name__, random_cv_model.predict(X_train), random_cv_model.predict(X_test))\n",
    "        self.classifiers[classifier.__class__.__name__]['estimator'] = random_cv_model.estimator\n",
    "        return self.classifiers[classifier.__class__.__name__]\n",
    "\n",
    "    def voting_classifier(self, classifier_names):\n",
    "        selected_classifiers = [(classifier_name, self.classifiers[classifier_name]['estimator']) for classifier_name in classifier_names]\n",
    "        voting_classifier = VotingClassifier(estimators=selected_classifiers, voting='soft')\n",
    "        voting_classifier.fit(X_train, y_train)\n",
    "        self.evaluate_model(voting_classifier.__class__.__name__, voting_classifier.predict(X_train), voting_classifier.predict(X_test))\n",
    "        self.classifiers[voting_classifier.__class__.__name__]['estimator'] = voting_classifier\n",
    "        return self.classifiers[voting_classifier.__class__.__name__]"
   ]
  },
  {
   "cell_type": "code",
   "execution_count": 157,
   "metadata": {},
   "outputs": [],
   "source": [
    "eval_classifier = EvaluateClassifier()"
   ]
  },
  {
   "cell_type": "markdown",
   "metadata": {},
   "source": [
    "## I have used Many Different Classifier for Tutorial Purpose, but few of the advanced algorithms overfitted the model, so only use whenever required.  "
   ]
  },
  {
   "cell_type": "markdown",
   "metadata": {},
   "source": [
    "## Decision Tree"
   ]
  },
  {
   "cell_type": "code",
   "execution_count": 162,
   "metadata": {},
   "outputs": [
    {
     "data": {
      "text/plain": [
       "{'train_score': 0.5662423385195663,\n",
       " 'test_score': 0.5142857142857142,\n",
       " 'estimator': DecisionTreeClassifier()}"
      ]
     },
     "execution_count": 162,
     "metadata": {},
     "output_type": "execute_result"
    }
   ],
   "source": [
    "# Decision Tree\n",
    "dt_grid_param = {\n",
    "    'splitter': ['best', 'random'],\n",
    "    'criterion': ['gini', 'entropy'],\n",
    "    'max_depth': [3, 4],\n",
    "    'min_samples_split': [2, 3, 4],\n",
    "    'max_features': ['sqrt'],\n",
    "    'random_state': [rand_state_]\n",
    "}\n",
    "\n",
    "eval_classifier.fit_and_predict_using_RandomSearchCV(DecisionTreeClassifier(), dt_grid_param)"
   ]
  },
  {
   "cell_type": "markdown",
   "metadata": {},
   "source": [
    "## Random Forest"
   ]
  },
  {
   "cell_type": "code",
   "execution_count": 197,
   "metadata": {},
   "outputs": [
    {
     "data": {
      "text/plain": [
       "{'train_score': 0.9438943894389439,\n",
       " 'test_score': 0.9065934065934066,\n",
       " 'estimator': RandomForestClassifier()}"
      ]
     },
     "execution_count": 197,
     "metadata": {},
     "output_type": "execute_result"
    }
   ],
   "source": [
    "# Random Forest\n",
    "rf_grid_param = {\n",
    "    'n_estimators': [10, 30, 60, 90, 100],\n",
    "    'criterion': ['gini', 'entropy'],\n",
    "    'max_depth': [3, 4],\n",
    "    'min_samples_split': [2, 3, 4],\n",
    "    'max_features': ['sqrt'],\n",
    "    'random_state': [rand_state_]\n",
    "}\n",
    "\n",
    "eval_classifier.fit_and_predict_using_RandomSearchCV(RandomForestClassifier(), rf_grid_param)"
   ]
  },
  {
   "cell_type": "markdown",
   "metadata": {},
   "source": [
    "## KNN Classifier"
   ]
  },
  {
   "cell_type": "code",
   "execution_count": 200,
   "metadata": {},
   "outputs": [
    {
     "data": {
      "text/plain": [
       "{'train_score': 1.0,\n",
       " 'test_score': 0.7351648351648352,\n",
       " 'estimator': KNeighborsClassifier()}"
      ]
     },
     "execution_count": 200,
     "metadata": {},
     "output_type": "execute_result"
    }
   ],
   "source": [
    "# KNN clasifier\n",
    "knn_grid_params = {\n",
    "    'n_neighbors': [5, 6, 7, 8, 9],\n",
    "    'weights': ['uniform', 'distance'],\n",
    "    'algorithm': ['ball_tree', 'kd_tree', 'brute'],\n",
    "    'p': [1, 2]\n",
    "}\n",
    "\n",
    "eval_classifier.fit_and_predict_using_RandomSearchCV(KNeighborsClassifier(), knn_grid_params)"
   ]
  },
  {
   "cell_type": "markdown",
   "metadata": {},
   "source": [
    "## Extra Trees Classifier"
   ]
  },
  {
   "cell_type": "code",
   "execution_count": 203,
   "metadata": {},
   "outputs": [
    {
     "data": {
      "text/plain": [
       "{'train_score': 1.0, 'test_score': 1.0, 'estimator': ExtraTreesClassifier()}"
      ]
     },
     "execution_count": 203,
     "metadata": {},
     "output_type": "execute_result"
    }
   ],
   "source": [
    "# ExtraTreesClassifier\n",
    "eval_classifier.fit_and_predict_using_RandomSearchCV(ExtraTreesClassifier(), {\n",
    "    'n_estimators': [20, 40],\n",
    "    'min_samples_split': [2, 3],\n",
    "    'criterion': ['gini', 'entropy'],\n",
    "    'max_features': ['sqrt']\n",
    "})"
   ]
  },
  {
   "cell_type": "markdown",
   "metadata": {},
   "source": [
    "## Ridge Classifier"
   ]
  },
  {
   "cell_type": "code",
   "execution_count": 205,
   "metadata": {},
   "outputs": [
    {
     "data": {
      "text/plain": [
       "{'train_score': 0.8472418670438473,\n",
       " 'test_score': 0.7692307692307693,\n",
       " 'estimator': RidgeClassifier()}"
      ]
     },
     "execution_count": 205,
     "metadata": {},
     "output_type": "execute_result"
    }
   ],
   "source": [
    "# RidgeClassifier\n",
    "eval_classifier.fit_and_predict_using_RandomSearchCV(RidgeClassifier(), {\n",
    "    'alpha': [0.8, 1, 7, 13, 17],\n",
    "    'random_state': [rand_state_]\n",
    "})"
   ]
  },
  {
   "cell_type": "markdown",
   "metadata": {},
   "source": [
    "## Different Approach for Calculation for Logistic Regression"
   ]
  },
  {
   "cell_type": "code",
   "execution_count": 172,
   "metadata": {},
   "outputs": [],
   "source": [
    "lor = LogisticRegression(max_iter=900)"
   ]
  },
  {
   "cell_type": "code",
   "execution_count": 173,
   "metadata": {},
   "outputs": [
    {
     "data": {
      "text/plain": [
       "LogisticRegression(max_iter=900)"
      ]
     },
     "execution_count": 173,
     "metadata": {},
     "output_type": "execute_result"
    }
   ],
   "source": [
    "lor.fit(X_train,y_train)"
   ]
  },
  {
   "cell_type": "code",
   "execution_count": 175,
   "metadata": {},
   "outputs": [],
   "source": [
    "y_pred = lor.predict(X_test)"
   ]
  },
  {
   "cell_type": "code",
   "execution_count": 176,
   "metadata": {},
   "outputs": [
    {
     "name": "stdout",
     "output_type": "stream",
     "text": [
      "0.7263736263736263\n"
     ]
    }
   ],
   "source": [
    "score = accuracy_score(y_pred,y_test)\n",
    "print(score)"
   ]
  },
  {
   "cell_type": "code",
   "execution_count": 179,
   "metadata": {},
   "outputs": [],
   "source": [
    "def print_heatmap(matrix, score, figsize=(9, 9)):\n",
    "    plt.figure(figsize=figsize)\n",
    "    sns.heatmap(matrix, annot=True,cmap='Blues_r')\n",
    "    plt.xlabel('Prediction')\n",
    "    plt.ylabel('Actual')\n",
    "    plt.title(\"Accuracy Score: {0}\".format(score), size=15)"
   ]
  },
  {
   "cell_type": "code",
   "execution_count": 183,
   "metadata": {},
   "outputs": [
    {
     "data": {
      "text/plain": [
       "array([[ 53,  43,   8,   3,  16],\n",
       "       [  5,  50,   7,  10,  31],\n",
       "       [  0,   0, 403,   0,   0],\n",
       "       [  0,   0,  67,  81,   0],\n",
       "       [  0,   1,  30,  28,  74]], dtype=int64)"
      ]
     },
     "execution_count": 183,
     "metadata": {},
     "output_type": "execute_result"
    }
   ],
   "source": [
    "cm = confusion_matrix(y_test,y_pred)\n",
    "cm"
   ]
  },
  {
   "cell_type": "code",
   "execution_count": 185,
   "metadata": {},
   "outputs": [
    {
     "data": {
      "image/png": "[encoded data removed]",
      "text/plain": [
       "<Figure size 648x648 with 2 Axes>"
      ]
     },
     "metadata": {
      "needs_background": "light"
     },
     "output_type": "display_data"
    }
   ],
   "source": [
    "print_heatmap(cm, score)"
   ]
  },
  {
   "cell_type": "code",
   "execution_count": 187,
   "metadata": {},
   "outputs": [
    {
     "name": "stdout",
     "output_type": "stream",
     "text": [
      "Logistic Regression Classifier :  72.63736263736263 %\n"
     ]
    }
   ],
   "source": [
    "print(\"Logistic Regression Classifier : \",score*100,\"%\")"
   ]
  },
  {
   "cell_type": "code",
   "execution_count": 195,
   "metadata": {},
   "outputs": [
    {
     "name": "stdout",
     "output_type": "stream",
     "text": [
      "Precision Score :  0.7263736263736263\n",
      "Recall Score :  0.7263736263736263\n",
      "f1_score :  0.7263736263736263\n"
     ]
    }
   ],
   "source": [
    "print(\"Precision Score : \",precision_score(y_test, y_pred, pos_label='positive',average='micro'))\n",
    "print(\"Recall Score : \",recall_score(y_test, y_pred, pos_label='positive',average='micro'))\n",
    "print(\"f1_score : \",f1_score(y_test, y_pred, pos_label='positive',average='micro'))"
   ]
  },
  {
   "cell_type": "code",
   "execution_count": 196,
   "metadata": {},
   "outputs": [],
   "source": [
    "import pickle\n",
    "filename = 'results_province_water.pkl'\n",
    "pickle.dump(lor, open(filename, 'wb'))"
   ]
  },
  {
   "cell_type": "markdown",
   "metadata": {},
   "source": [
    "## Logistic Regression"
   ]
  },
  {
   "cell_type": "code",
   "execution_count": 208,
   "metadata": {},
   "outputs": [
    {
     "data": {
      "text/plain": [
       "{'train_score': 0.9995285242809995,\n",
       " 'test_score': 0.9978021978021978,\n",
       " 'estimator': LogisticRegression()}"
      ]
     },
     "execution_count": 208,
     "metadata": {},
     "output_type": "execute_result"
    }
   ],
   "source": [
    "# LogisticRegression\n",
    "eval_classifier.fit_and_predict_using_RandomSearchCV(LogisticRegression(), {\n",
    "    'C': [0.5, 1.0, 1,5],\n",
    "    'random_state': [rand_state_],\n",
    "    'solver': ['newton-cg', 'lbfgs', 'liblinear', 'sag', 'saga'],\n",
    "    'max_iter': [50, 100, 150],\n",
    "    'multi_class': ['auto'],\n",
    "    'warm_start': [True]\n",
    "})"
   ]
  },
  {
   "cell_type": "markdown",
   "metadata": {},
   "source": [
    "## XGboost Classifier"
   ]
  },
  {
   "cell_type": "code",
   "execution_count": 225,
   "metadata": {},
   "outputs": [],
   "source": [
    "# XGboost Classifier - Due to extreme gradient boosting - Taking lot of time - Not feasible\n",
    "\n",
    "# xgb_grid_param = {\n",
    "#     'max_depth': [3, 4, 5],\n",
    "#     'learning_rate': [.1, .06, .03, .01],\n",
    "#     'n_estimators': [80, 100, 120],\n",
    "#     'booster': ['gbtree', 'gblinear', 'dart'],\n",
    "#     'gamma': [0, 2, 4],\n",
    "#     'random_state': [rand_state_]\n",
    "# }\n",
    "\n",
    "# eval_classifier.fit_and_predict_using_RandomSearchCV(XGBClassifier(), xgb_grid_param)"
   ]
  },
  {
   "cell_type": "markdown",
   "metadata": {},
   "source": [
    "## Bagging Classifier"
   ]
  },
  {
   "cell_type": "code",
   "execution_count": 211,
   "metadata": {},
   "outputs": [],
   "source": [
    "# Due to extreme gradient boosting - Taking lot of time - Not feasible\n",
    "\n",
    "# BaggingClassifier\n",
    "# eval_classifier.fit_and_predict_using_RandomSearchCV(BaggingClassifier(), {\n",
    "#     'base_estimator': [dt_classifier, xgb_classifier],\n",
    "#     'n_estimators': [10, 20, 30],\n",
    "#     'random_state': [rand_state_],\n",
    "#     'bootstrap': [True, False],\n",
    "#     'bootstrap_features': [True, False]\n",
    "# })"
   ]
  },
  {
   "cell_type": "markdown",
   "metadata": {},
   "source": [
    "## AdaBoost Technique"
   ]
  },
  {
   "cell_type": "code",
   "execution_count": 214,
   "metadata": {},
   "outputs": [],
   "source": [
    "# AdaBoostClassifier -Due to extreme gradient boosting - Taking lot of time - Not feasible\n",
    "\n",
    "# dt_classifier = DecisionTreeClassifier(criterion='entropy', max_depth=3, min_samples_leaf=1, min_samples_split=3, random_state=rand_state_, splitter='best')\n",
    "# xgb_classifier = XGBClassifier(booster='dart', gamma=2, learning_rate=0.1, max_depth=3, n_estimators=100, random_state=rand_state_)\n",
    "\n",
    "# eval_classifier.fit_and_predict_using_RandomSearchCV(AdaBoostClassifier(), {\n",
    "#     'base_estimator': [dt_classifier, xgb_classifier],\n",
    "#     'n_estimators': [50, 70, 90],\n",
    "#     'random_state': [rand_state_],\n",
    "#     'algorithm': ['SAMME', 'SAMME.R'],\n",
    "#     'learning_rate': [0.8, 1.0, 1.3]\n",
    "# })"
   ]
  },
  {
   "cell_type": "markdown",
   "metadata": {},
   "source": [
    "## Gradient Boosting"
   ]
  },
  {
   "cell_type": "code",
   "execution_count": 215,
   "metadata": {},
   "outputs": [
    {
     "data": {
      "text/plain": [
       "{'train_score': 1.0,\n",
       " 'test_score': 1.0,\n",
       " 'estimator': GradientBoostingClassifier()}"
      ]
     },
     "execution_count": 215,
     "metadata": {},
     "output_type": "execute_result"
    }
   ],
   "source": [
    "# GradientBoostingClassifier - Overfit the model, not feasible\n",
    "\n",
    "eval_classifier.fit_and_predict_using_RandomSearchCV(GradientBoostingClassifier(), {\n",
    "    'loss': ['deviance', 'exponential'],\n",
    "    'n_estimators': [100, 120, 150],\n",
    "    'random_state': [rand_state_],\n",
    "    'min_samples_split': [2, 3, 4],\n",
    "    'max_depth': [3, 4, 5],\n",
    "    'min_samples_split': [2, 3, 4]\n",
    "})"
   ]
  },
  {
   "cell_type": "markdown",
   "metadata": {},
   "source": [
    "## Voting Classifier"
   ]
  },
  {
   "cell_type": "code",
   "execution_count": 218,
   "metadata": {},
   "outputs": [],
   "source": [
    "# Voting Classifier - not feasible\n",
    "# voting_classifier = eval_classifier.voting_classifier(['RandomForestClassifier', 'AdaBoostClassifier'])\n",
    "# voting_classifier"
   ]
  },
  {
   "cell_type": "code",
   "execution_count": 220,
   "metadata": {},
   "outputs": [
    {
     "data": {
      "text/html": [
       "<div>\n",
       "<style scoped>\n",
       "    .dataframe tbody tr th:only-of-type {\n",
       "        vertical-align: middle;\n",
       "    }\n",
       "\n",
       "    .dataframe tbody tr th {\n",
       "        vertical-align: top;\n",
       "    }\n",
       "\n",
       "    .dataframe thead th {\n",
       "        text-align: right;\n",
       "    }\n",
       "</style>\n",
       "<table border=\"1\" class=\"dataframe\">\n",
       "  <thead>\n",
       "    <tr style=\"text-align: right;\">\n",
       "      <th></th>\n",
       "      <th>Test Score</th>\n",
       "      <th>Training Score</th>\n",
       "    </tr>\n",
       "    <tr>\n",
       "      <th>ModelName</th>\n",
       "      <th></th>\n",
       "      <th></th>\n",
       "    </tr>\n",
       "  </thead>\n",
       "  <tbody>\n",
       "    <tr>\n",
       "      <th>DecisionTreeClassifier</th>\n",
       "      <td>0.514286</td>\n",
       "      <td>0.566242</td>\n",
       "    </tr>\n",
       "    <tr>\n",
       "      <th>RandomForestClassifier</th>\n",
       "      <td>0.906593</td>\n",
       "      <td>0.943894</td>\n",
       "    </tr>\n",
       "    <tr>\n",
       "      <th>KNeighborsClassifier</th>\n",
       "      <td>0.735165</td>\n",
       "      <td>1.000000</td>\n",
       "    </tr>\n",
       "    <tr>\n",
       "      <th>ExtraTreesClassifier</th>\n",
       "      <td>1.000000</td>\n",
       "      <td>1.000000</td>\n",
       "    </tr>\n",
       "    <tr>\n",
       "      <th>RidgeClassifier</th>\n",
       "      <td>0.769231</td>\n",
       "      <td>0.847242</td>\n",
       "    </tr>\n",
       "    <tr>\n",
       "      <th>LogisticRegression</th>\n",
       "      <td>0.997802</td>\n",
       "      <td>0.999529</td>\n",
       "    </tr>\n",
       "    <tr>\n",
       "      <th>GradientBoostingClassifier</th>\n",
       "      <td>1.000000</td>\n",
       "      <td>1.000000</td>\n",
       "    </tr>\n",
       "  </tbody>\n",
       "</table>\n",
       "</div>"
      ],
      "text/plain": [
       "                            Test Score  Training Score\n",
       "ModelName                                             \n",
       "DecisionTreeClassifier        0.514286        0.566242\n",
       "RandomForestClassifier        0.906593        0.943894\n",
       "KNeighborsClassifier          0.735165        1.000000\n",
       "ExtraTreesClassifier          1.000000        1.000000\n",
       "RidgeClassifier               0.769231        0.847242\n",
       "LogisticRegression            0.997802        0.999529\n",
       "GradientBoostingClassifier    1.000000        1.000000"
      ]
     },
     "execution_count": 220,
     "metadata": {},
     "output_type": "execute_result"
    }
   ],
   "source": [
    "score_df = pd.DataFrame([{'ModelName': name, 'Test Score': props['test_score'], 'Training Score': props['train_score']} for name, props in eval_classifier.classifiers.items()])\n",
    "score_df.set_index('ModelName')\n",
    "\n",
    "# Advanced models are overfitting the results. "
   ]
  },
  {
   "cell_type": "code",
   "execution_count": 226,
   "metadata": {},
   "outputs": [],
   "source": [
    "import pickle\n",
    "filename = 'results_province_water_modeling.pkl'\n",
    "pickle.dump(eval_classifier, open(filename, 'wb'))"
   ]
  },
  {
   "cell_type": "markdown",
   "metadata": {},
   "source": [
    "## Different Approach for Calculation for Decision Tree"
   ]
  },
  {
   "cell_type": "code",
   "execution_count": 228,
   "metadata": {},
   "outputs": [],
   "source": [
    "from sklearn.tree import DecisionTreeClassifier"
   ]
  },
  {
   "cell_type": "code",
   "execution_count": 230,
   "metadata": {},
   "outputs": [
    {
     "data": {
      "text/plain": [
       "DecisionTreeClassifier(max_depth=10)"
      ]
     },
     "execution_count": 230,
     "metadata": {},
     "output_type": "execute_result"
    }
   ],
   "source": [
    "dtree = DecisionTreeClassifier(max_depth=10)\n",
    "dtree"
   ]
  },
  {
   "cell_type": "code",
   "execution_count": 231,
   "metadata": {},
   "outputs": [
    {
     "data": {
      "text/plain": [
       "DecisionTreeClassifier(max_depth=10)"
      ]
     },
     "execution_count": 231,
     "metadata": {},
     "output_type": "execute_result"
    }
   ],
   "source": [
    "dtree.fit(X_train,y_train)"
   ]
  },
  {
   "cell_type": "code",
   "execution_count": 233,
   "metadata": {},
   "outputs": [],
   "source": [
    "dtree_y_pred = dtree.predict(X_test)"
   ]
  },
  {
   "cell_type": "code",
   "execution_count": 234,
   "metadata": {},
   "outputs": [
    {
     "data": {
      "text/plain": [
       "0.9989010989010989"
      ]
     },
     "execution_count": 234,
     "metadata": {},
     "output_type": "execute_result"
    }
   ],
   "source": [
    "dtree_accuracy_score = accuracy_score(y_test,dtree_y_pred)\n",
    "\n",
    "dtree_accuracy_score"
   ]
  },
  {
   "cell_type": "code",
   "execution_count": 237,
   "metadata": {},
   "outputs": [
    {
     "data": {
      "text/plain": [
       "array([[123,   0,   0,   0,   0],\n",
       "       [  0, 103,   0,   0,   0],\n",
       "       [  0,   0, 403,   0,   0],\n",
       "       [  0,   0,   1, 147,   0],\n",
       "       [  0,   0,   0,   0, 133]], dtype=int64)"
      ]
     },
     "execution_count": 237,
     "metadata": {},
     "output_type": "execute_result"
    }
   ],
   "source": [
    "cf_dtree = confusion_matrix(y_test, dtree_y_pred)\n",
    "cf_dtree"
   ]
  },
  {
   "cell_type": "code",
   "execution_count": 239,
   "metadata": {},
   "outputs": [
    {
     "data": {
      "image/png": "[encoded data removed]",
      "text/plain": [
       "<Figure size 648x648 with 2 Axes>"
      ]
     },
     "metadata": {
      "needs_background": "light"
     },
     "output_type": "display_data"
    }
   ],
   "source": [
    "print_heatmap(cf_dtree,dtree_accuracy_score)"
   ]
  },
  {
   "cell_type": "code",
   "execution_count": 241,
   "metadata": {},
   "outputs": [
    {
     "name": "stdout",
     "output_type": "stream",
     "text": [
      "Collecting graphviz\n",
      "  Downloading graphviz-0.16-py2.py3-none-any.whl (19 kB)\n",
      "Installing collected packages: graphviz\n",
      "Successfully installed graphviz-0.16\n"
     ]
    }
   ],
   "source": [
    "!pip install graphviz"
   ]
  },
  {
   "cell_type": "code",
   "execution_count": 243,
   "metadata": {},
   "outputs": [],
   "source": [
    "from sklearn import tree"
   ]
  },
  {
   "cell_type": "code",
   "execution_count": 247,
   "metadata": {},
   "outputs": [],
   "source": [
    "import graphviz \n",
    "dot_data = tree.export_graphviz(dtree, out_file=None,filled=True, rounded=True,special_characters=True)"
   ]
  },
  {
   "cell_type": "code",
   "execution_count": 250,
   "metadata": {},
   "outputs": [],
   "source": [
    "# As to restart the kernal, not executing the below 2 cells. This will show how the decision tree is formed. \n",
    "\n",
    "# conda install python-graphviz"
   ]
  },
  {
   "cell_type": "code",
   "execution_count": 249,
   "metadata": {},
   "outputs": [],
   "source": [
    "# graph = graphviz.Source(dot_data) \n",
    "\n",
    "# graph"
   ]
  },
  {
   "cell_type": "markdown",
   "metadata": {},
   "source": [
    "## Different Approach for Calculation for Random Forest"
   ]
  },
  {
   "cell_type": "code",
   "execution_count": 253,
   "metadata": {},
   "outputs": [],
   "source": [
    "from sklearn.ensemble import RandomForestClassifier\n",
    "\n",
    "rf = RandomForestClassifier(max_depth = 10,n_estimators = 100)"
   ]
  },
  {
   "cell_type": "code",
   "execution_count": 255,
   "metadata": {},
   "outputs": [
    {
     "data": {
      "text/plain": [
       "RandomForestClassifier(max_depth=10)"
      ]
     },
     "execution_count": 255,
     "metadata": {},
     "output_type": "execute_result"
    }
   ],
   "source": [
    "rf.fit(X_train,y_train)"
   ]
  },
  {
   "cell_type": "code",
   "execution_count": 258,
   "metadata": {},
   "outputs": [],
   "source": [
    "rf_y_pred = rf.predict(X_test)"
   ]
  },
  {
   "cell_type": "code",
   "execution_count": 260,
   "metadata": {},
   "outputs": [
    {
     "data": {
      "text/plain": [
       "0.9978021978021978"
      ]
     },
     "execution_count": 260,
     "metadata": {},
     "output_type": "execute_result"
    }
   ],
   "source": [
    "rf_accuracy  = accuracy_score(y_test,rf_y_pred)\n",
    "\n",
    "rf_accuracy"
   ]
  },
  {
   "cell_type": "code",
   "execution_count": 263,
   "metadata": {},
   "outputs": [
    {
     "data": {
      "text/plain": [
       "array([[123,   0,   0,   0,   0],\n",
       "       [  0, 102,   0,   0,   1],\n",
       "       [  0,   0, 403,   0,   0],\n",
       "       [  0,   0,   0, 148,   0],\n",
       "       [  0,   0,   0,   1, 132]], dtype=int64)"
      ]
     },
     "execution_count": 263,
     "metadata": {},
     "output_type": "execute_result"
    }
   ],
   "source": [
    "rf_cm = confusion_matrix(y_test,rf_y_pred)\n",
    "\n",
    "rf_cm"
   ]
  },
  {
   "cell_type": "code",
   "execution_count": 267,
   "metadata": {},
   "outputs": [
    {
     "data": {
      "image/png": "[encoded data removed]",
      "text/plain": [
       "<Figure size 648x648 with 2 Axes>"
      ]
     },
     "metadata": {
      "needs_background": "light"
     },
     "output_type": "display_data"
    }
   ],
   "source": [
    "print_heatmap(rf_cm,rf_accuracy)"
   ]
  },
  {
   "cell_type": "code",
   "execution_count": null,
   "metadata": {},
   "outputs": [],
   "source": []
  }
 ],
 "metadata": {
  "kernelspec": {
   "display_name": "Python 3",
   "language": "python",
   "name": "python3"
  },
  "language_info": {
   "codemirror_mode": {
    "name": "ipython",
    "version": 3
   },
   "file_extension": ".py",
   "mimetype": "text/x-python",
   "name": "python",
   "nbconvert_exporter": "python",
   "pygments_lexer": "ipython3",
   "version": "3.8.5"
  }
 },
 "nbformat": 4,
 "nbformat_minor": 4
}
