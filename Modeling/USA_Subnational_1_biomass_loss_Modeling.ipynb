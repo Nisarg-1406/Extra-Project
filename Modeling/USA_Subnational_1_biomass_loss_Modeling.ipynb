{
 "cells": [
  {
   "cell_type": "code",
   "execution_count": 2,
   "metadata": {},
   "outputs": [],
   "source": [
    "import numpy as np # linear algebra\n",
    "import pandas as pd # data processing, CSV file I/O (e.g. pd.read_csv)\n",
    "import matplotlib.pyplot as plt\n",
    "import seaborn as sns # for plot visualization"
   ]
  },
  {
   "cell_type": "code",
   "execution_count": 3,
   "metadata": {},
   "outputs": [],
   "source": [
    "from sklearn.ensemble import RandomForestClassifier, AdaBoostClassifier, BaggingClassifier, ExtraTreesClassifier, GradientBoostingClassifier, VotingClassifier\n",
    "from sklearn.linear_model import RidgeClassifier, RidgeClassifierCV, LogisticRegression, LogisticRegressionCV"
   ]
  },
  {
   "cell_type": "code",
   "execution_count": 6,
   "metadata": {},
   "outputs": [],
   "source": [
    "from xgboost import XGBClassifier\n",
    "from sklearn.tree import DecisionTreeClassifier\n",
    "from sklearn.model_selection import train_test_split, cross_val_score, GridSearchCV, RandomizedSearchCV\n",
    "from sklearn.metrics import f1_score, accuracy_score\n",
    "from sklearn.preprocessing import LabelEncoder\n",
    "from sklearn.neighbors import KNeighborsClassifier\n",
    "import re\n",
    "\n",
    "import warnings\n",
    "# ignoring all the warnings\n",
    "warnings.filterwarnings(\"ignore\")"
   ]
  },
  {
   "cell_type": "code",
   "execution_count": 9,
   "metadata": {},
   "outputs": [],
   "source": [
    "from sklearn.model_selection import train_test_split\n",
    "from sklearn.linear_model import LogisticRegression\n",
    "from sklearn.metrics import confusion_matrix,accuracy_score"
   ]
  },
  {
   "cell_type": "code",
   "execution_count": 12,
   "metadata": {},
   "outputs": [],
   "source": [
    "from sklearn.metrics import recall_score\n",
    "from sklearn.metrics import precision_score\n",
    "from sklearn.metrics import f1_score"
   ]
  },
  {
   "cell_type": "code",
   "execution_count": 15,
   "metadata": {},
   "outputs": [],
   "source": [
    "import warnings\n",
    "warnings.filterwarnings(\"ignore\")\n",
    "from python_utils import *"
   ]
  },
  {
   "cell_type": "code",
   "execution_count": 16,
   "metadata": {},
   "outputs": [],
   "source": [
    "df = pd.read_csv('USA_Subnational_1_biomass_loss.csv')"
   ]
  },
  {
   "cell_type": "code",
   "execution_count": 17,
   "metadata": {},
   "outputs": [
    {
     "data": {
      "text/html": [
       "<div>\n",
       "<style scoped>\n",
       "    .dataframe tbody tr th:only-of-type {\n",
       "        vertical-align: middle;\n",
       "    }\n",
       "\n",
       "    .dataframe tbody tr th {\n",
       "        vertical-align: top;\n",
       "    }\n",
       "\n",
       "    .dataframe thead th {\n",
       "        text-align: right;\n",
       "    }\n",
       "</style>\n",
       "<table border=\"1\" class=\"dataframe\">\n",
       "  <thead>\n",
       "    <tr style=\"text-align: right;\">\n",
       "      <th></th>\n",
       "      <th>country</th>\n",
       "      <th>subnational1</th>\n",
       "      <th>threshold</th>\n",
       "      <th>area_ha</th>\n",
       "      <th>extent_2000_ha</th>\n",
       "      <th>extent_2010_ha</th>\n",
       "      <th>abg_biomass_stock_2000_Mg</th>\n",
       "      <th>avg_biomass_per_ha_Mg</th>\n",
       "    </tr>\n",
       "  </thead>\n",
       "  <tbody>\n",
       "    <tr>\n",
       "      <th>0</th>\n",
       "      <td>United States</td>\n",
       "      <td>Alabama</td>\n",
       "      <td>10</td>\n",
       "      <td>13363464</td>\n",
       "      <td>9600146</td>\n",
       "      <td>9223176</td>\n",
       "      <td>1099303768</td>\n",
       "      <td>115</td>\n",
       "    </tr>\n",
       "    <tr>\n",
       "      <th>1</th>\n",
       "      <td>United States</td>\n",
       "      <td>Alabama</td>\n",
       "      <td>15</td>\n",
       "      <td>13363464</td>\n",
       "      <td>9474931</td>\n",
       "      <td>9129167</td>\n",
       "      <td>1095970776</td>\n",
       "      <td>116</td>\n",
       "    </tr>\n",
       "    <tr>\n",
       "      <th>2</th>\n",
       "      <td>United States</td>\n",
       "      <td>Alabama</td>\n",
       "      <td>20</td>\n",
       "      <td>13363464</td>\n",
       "      <td>9345561</td>\n",
       "      <td>9018703</td>\n",
       "      <td>1091712091</td>\n",
       "      <td>117</td>\n",
       "    </tr>\n",
       "    <tr>\n",
       "      <th>3</th>\n",
       "      <td>United States</td>\n",
       "      <td>Alabama</td>\n",
       "      <td>25</td>\n",
       "      <td>13363464</td>\n",
       "      <td>9241762</td>\n",
       "      <td>8983057</td>\n",
       "      <td>1088231701</td>\n",
       "      <td>118</td>\n",
       "    </tr>\n",
       "    <tr>\n",
       "      <th>4</th>\n",
       "      <td>United States</td>\n",
       "      <td>Alabama</td>\n",
       "      <td>30</td>\n",
       "      <td>13363464</td>\n",
       "      <td>9097763</td>\n",
       "      <td>8727123</td>\n",
       "      <td>1083171996</td>\n",
       "      <td>119</td>\n",
       "    </tr>\n",
       "  </tbody>\n",
       "</table>\n",
       "</div>"
      ],
      "text/plain": [
       "         country subnational1  threshold   area_ha  extent_2000_ha  \\\n",
       "0  United States      Alabama         10  13363464         9600146   \n",
       "1  United States      Alabama         15  13363464         9474931   \n",
       "2  United States      Alabama         20  13363464         9345561   \n",
       "3  United States      Alabama         25  13363464         9241762   \n",
       "4  United States      Alabama         30  13363464         9097763   \n",
       "\n",
       "   extent_2010_ha  abg_biomass_stock_2000_Mg  avg_biomass_per_ha_Mg  \n",
       "0         9223176                 1099303768                    115  \n",
       "1         9129167                 1095970776                    116  \n",
       "2         9018703                 1091712091                    117  \n",
       "3         8983057                 1088231701                    118  \n",
       "4         8727123                 1083171996                    119  "
      ]
     },
     "execution_count": 17,
     "metadata": {},
     "output_type": "execute_result"
    }
   ],
   "source": [
    "df.head()"
   ]
  },
  {
   "cell_type": "code",
   "execution_count": 20,
   "metadata": {},
   "outputs": [
    {
     "data": {
      "text/html": [
       "<div>\n",
       "<style scoped>\n",
       "    .dataframe tbody tr th:only-of-type {\n",
       "        vertical-align: middle;\n",
       "    }\n",
       "\n",
       "    .dataframe tbody tr th {\n",
       "        vertical-align: top;\n",
       "    }\n",
       "\n",
       "    .dataframe thead th {\n",
       "        text-align: right;\n",
       "    }\n",
       "</style>\n",
       "<table border=\"1\" class=\"dataframe\">\n",
       "  <thead>\n",
       "    <tr style=\"text-align: right;\">\n",
       "      <th></th>\n",
       "      <th>threshold</th>\n",
       "      <th>area_ha</th>\n",
       "      <th>extent_2000_ha</th>\n",
       "      <th>extent_2010_ha</th>\n",
       "      <th>abg_biomass_stock_2000_Mg</th>\n",
       "      <th>avg_biomass_per_ha_Mg</th>\n",
       "    </tr>\n",
       "  </thead>\n",
       "  <tbody>\n",
       "    <tr>\n",
       "      <th>count</th>\n",
       "      <td>357.000000</td>\n",
       "      <td>3.570000e+02</td>\n",
       "      <td>3.570000e+02</td>\n",
       "      <td>3.570000e+02</td>\n",
       "      <td>3.570000e+02</td>\n",
       "      <td>357.000000</td>\n",
       "    </tr>\n",
       "    <tr>\n",
       "      <th>mean</th>\n",
       "      <td>32.142857</td>\n",
       "      <td>1.857026e+07</td>\n",
       "      <td>5.381306e+06</td>\n",
       "      <td>5.143689e+06</td>\n",
       "      <td>7.089286e+08</td>\n",
       "      <td>128.260504</td>\n",
       "    </tr>\n",
       "    <tr>\n",
       "      <th>std</th>\n",
       "      <td>21.218878</td>\n",
       "      <td>2.231642e+07</td>\n",
       "      <td>6.804037e+06</td>\n",
       "      <td>7.365764e+06</td>\n",
       "      <td>8.477328e+08</td>\n",
       "      <td>65.617267</td>\n",
       "    </tr>\n",
       "    <tr>\n",
       "      <th>min</th>\n",
       "      <td>10.000000</td>\n",
       "      <td>1.660700e+04</td>\n",
       "      <td>1.852000e+03</td>\n",
       "      <td>1.692000e+03</td>\n",
       "      <td>2.611990e+05</td>\n",
       "      <td>39.000000</td>\n",
       "    </tr>\n",
       "    <tr>\n",
       "      <th>25%</th>\n",
       "      <td>15.000000</td>\n",
       "      <td>8.436323e+06</td>\n",
       "      <td>1.302552e+06</td>\n",
       "      <td>1.146548e+06</td>\n",
       "      <td>1.525300e+08</td>\n",
       "      <td>99.000000</td>\n",
       "    </tr>\n",
       "    <tr>\n",
       "      <th>50%</th>\n",
       "      <td>25.000000</td>\n",
       "      <td>1.458448e+07</td>\n",
       "      <td>5.153934e+06</td>\n",
       "      <td>4.507031e+06</td>\n",
       "      <td>5.899075e+08</td>\n",
       "      <td>118.000000</td>\n",
       "    </tr>\n",
       "    <tr>\n",
       "      <th>75%</th>\n",
       "      <td>50.000000</td>\n",
       "      <td>2.198325e+07</td>\n",
       "      <td>7.659617e+06</td>\n",
       "      <td>7.286851e+06</td>\n",
       "      <td>8.669050e+08</td>\n",
       "      <td>133.000000</td>\n",
       "    </tr>\n",
       "    <tr>\n",
       "      <th>max</th>\n",
       "      <td>75.000000</td>\n",
       "      <td>1.505256e+08</td>\n",
       "      <td>5.655094e+07</td>\n",
       "      <td>6.293574e+07</td>\n",
       "      <td>4.108871e+09</td>\n",
       "      <td>509.000000</td>\n",
       "    </tr>\n",
       "  </tbody>\n",
       "</table>\n",
       "</div>"
      ],
      "text/plain": [
       "        threshold       area_ha  extent_2000_ha  extent_2010_ha  \\\n",
       "count  357.000000  3.570000e+02    3.570000e+02    3.570000e+02   \n",
       "mean    32.142857  1.857026e+07    5.381306e+06    5.143689e+06   \n",
       "std     21.218878  2.231642e+07    6.804037e+06    7.365764e+06   \n",
       "min     10.000000  1.660700e+04    1.852000e+03    1.692000e+03   \n",
       "25%     15.000000  8.436323e+06    1.302552e+06    1.146548e+06   \n",
       "50%     25.000000  1.458448e+07    5.153934e+06    4.507031e+06   \n",
       "75%     50.000000  2.198325e+07    7.659617e+06    7.286851e+06   \n",
       "max     75.000000  1.505256e+08    5.655094e+07    6.293574e+07   \n",
       "\n",
       "       abg_biomass_stock_2000_Mg  avg_biomass_per_ha_Mg  \n",
       "count               3.570000e+02             357.000000  \n",
       "mean                7.089286e+08             128.260504  \n",
       "std                 8.477328e+08              65.617267  \n",
       "min                 2.611990e+05              39.000000  \n",
       "25%                 1.525300e+08              99.000000  \n",
       "50%                 5.899075e+08             118.000000  \n",
       "75%                 8.669050e+08             133.000000  \n",
       "max                 4.108871e+09             509.000000  "
      ]
     },
     "execution_count": 20,
     "metadata": {},
     "output_type": "execute_result"
    }
   ],
   "source": [
    "df.describe()"
   ]
  },
  {
   "cell_type": "code",
   "execution_count": 21,
   "metadata": {},
   "outputs": [
    {
     "data": {
      "text/plain": [
       "country                      object\n",
       "subnational1                 object\n",
       "threshold                     int64\n",
       "area_ha                       int64\n",
       "extent_2000_ha                int64\n",
       "extent_2010_ha                int64\n",
       "abg_biomass_stock_2000_Mg     int64\n",
       "avg_biomass_per_ha_Mg         int64\n",
       "dtype: object"
      ]
     },
     "execution_count": 21,
     "metadata": {},
     "output_type": "execute_result"
    }
   ],
   "source": [
    "df.dtypes"
   ]
  },
  {
   "cell_type": "code",
   "execution_count": 28,
   "metadata": {},
   "outputs": [
    {
     "data": {
      "text/plain": [
       "country                      0\n",
       "subnational1                 0\n",
       "threshold                    0\n",
       "area_ha                      0\n",
       "extent_2000_ha               0\n",
       "extent_2010_ha               0\n",
       "abg_biomass_stock_2000_Mg    0\n",
       "avg_biomass_per_ha_Mg        0\n",
       "dtype: int64"
      ]
     },
     "execution_count": 28,
     "metadata": {},
     "output_type": "execute_result"
    }
   ],
   "source": [
    "df.isna().sum()"
   ]
  },
  {
   "cell_type": "code",
   "execution_count": 23,
   "metadata": {},
   "outputs": [
    {
     "data": {
      "text/html": [
       "<div>\n",
       "<style scoped>\n",
       "    .dataframe tbody tr th:only-of-type {\n",
       "        vertical-align: middle;\n",
       "    }\n",
       "\n",
       "    .dataframe tbody tr th {\n",
       "        vertical-align: top;\n",
       "    }\n",
       "\n",
       "    .dataframe thead th {\n",
       "        text-align: right;\n",
       "    }\n",
       "</style>\n",
       "<table border=\"1\" class=\"dataframe\">\n",
       "  <thead>\n",
       "    <tr style=\"text-align: right;\">\n",
       "      <th></th>\n",
       "      <th>threshold</th>\n",
       "      <th>area_ha</th>\n",
       "      <th>extent_2000_ha</th>\n",
       "      <th>extent_2010_ha</th>\n",
       "      <th>abg_biomass_stock_2000_Mg</th>\n",
       "      <th>avg_biomass_per_ha_Mg</th>\n",
       "    </tr>\n",
       "  </thead>\n",
       "  <tbody>\n",
       "    <tr>\n",
       "      <th>threshold</th>\n",
       "      <td>1.000000e+00</td>\n",
       "      <td>2.475035e-18</td>\n",
       "      <td>-0.107415</td>\n",
       "      <td>-0.106677</td>\n",
       "      <td>-0.053980</td>\n",
       "      <td>0.159029</td>\n",
       "    </tr>\n",
       "    <tr>\n",
       "      <th>area_ha</th>\n",
       "      <td>2.475035e-18</td>\n",
       "      <td>1.000000e+00</td>\n",
       "      <td>0.799431</td>\n",
       "      <td>0.793361</td>\n",
       "      <td>0.498134</td>\n",
       "      <td>0.012826</td>\n",
       "    </tr>\n",
       "    <tr>\n",
       "      <th>extent_2000_ha</th>\n",
       "      <td>-1.074145e-01</td>\n",
       "      <td>7.994314e-01</td>\n",
       "      <td>1.000000</td>\n",
       "      <td>0.996977</td>\n",
       "      <td>0.666198</td>\n",
       "      <td>0.041359</td>\n",
       "    </tr>\n",
       "    <tr>\n",
       "      <th>extent_2010_ha</th>\n",
       "      <td>-1.066773e-01</td>\n",
       "      <td>7.933609e-01</td>\n",
       "      <td>0.996977</td>\n",
       "      <td>1.000000</td>\n",
       "      <td>0.646058</td>\n",
       "      <td>0.025091</td>\n",
       "    </tr>\n",
       "    <tr>\n",
       "      <th>abg_biomass_stock_2000_Mg</th>\n",
       "      <td>-5.398043e-02</td>\n",
       "      <td>4.981344e-01</td>\n",
       "      <td>0.666198</td>\n",
       "      <td>0.646058</td>\n",
       "      <td>1.000000</td>\n",
       "      <td>0.714343</td>\n",
       "    </tr>\n",
       "    <tr>\n",
       "      <th>avg_biomass_per_ha_Mg</th>\n",
       "      <td>1.590294e-01</td>\n",
       "      <td>1.282571e-02</td>\n",
       "      <td>0.041359</td>\n",
       "      <td>0.025091</td>\n",
       "      <td>0.714343</td>\n",
       "      <td>1.000000</td>\n",
       "    </tr>\n",
       "  </tbody>\n",
       "</table>\n",
       "</div>"
      ],
      "text/plain": [
       "                              threshold       area_ha  extent_2000_ha  \\\n",
       "threshold                  1.000000e+00  2.475035e-18       -0.107415   \n",
       "area_ha                    2.475035e-18  1.000000e+00        0.799431   \n",
       "extent_2000_ha            -1.074145e-01  7.994314e-01        1.000000   \n",
       "extent_2010_ha            -1.066773e-01  7.933609e-01        0.996977   \n",
       "abg_biomass_stock_2000_Mg -5.398043e-02  4.981344e-01        0.666198   \n",
       "avg_biomass_per_ha_Mg      1.590294e-01  1.282571e-02        0.041359   \n",
       "\n",
       "                           extent_2010_ha  abg_biomass_stock_2000_Mg  \\\n",
       "threshold                       -0.106677                  -0.053980   \n",
       "area_ha                          0.793361                   0.498134   \n",
       "extent_2000_ha                   0.996977                   0.666198   \n",
       "extent_2010_ha                   1.000000                   0.646058   \n",
       "abg_biomass_stock_2000_Mg        0.646058                   1.000000   \n",
       "avg_biomass_per_ha_Mg            0.025091                   0.714343   \n",
       "\n",
       "                           avg_biomass_per_ha_Mg  \n",
       "threshold                               0.159029  \n",
       "area_ha                                 0.012826  \n",
       "extent_2000_ha                          0.041359  \n",
       "extent_2010_ha                          0.025091  \n",
       "abg_biomass_stock_2000_Mg               0.714343  \n",
       "avg_biomass_per_ha_Mg                   1.000000  "
      ]
     },
     "execution_count": 23,
     "metadata": {},
     "output_type": "execute_result"
    }
   ],
   "source": [
    "df.corr()"
   ]
  },
  {
   "cell_type": "code",
   "execution_count": 24,
   "metadata": {},
   "outputs": [],
   "source": [
    "corr_matrix = df.corr().abs()"
   ]
  },
  {
   "cell_type": "code",
   "execution_count": 26,
   "metadata": {},
   "outputs": [
    {
     "data": {
      "image/png": "[encoded data removed]",
      "text/plain": [
       "<Figure size 1080x720 with 2 Axes>"
      ]
     },
     "metadata": {
      "needs_background": "light"
     },
     "output_type": "display_data"
    }
   ],
   "source": [
    "f, ax = plt.subplots(figsize=(15, 10)) \n",
    "heatmap = sns.heatmap(corr_matrix,linewidths = .5,cmap=\"coolwarm\",annot=True)"
   ]
  },
  {
   "cell_type": "code",
   "execution_count": 30,
   "metadata": {},
   "outputs": [
    {
     "data": {
      "text/plain": [
       "(357, 8)"
      ]
     },
     "execution_count": 30,
     "metadata": {},
     "output_type": "execute_result"
    }
   ],
   "source": [
    "df.shape"
   ]
  },
  {
   "cell_type": "code",
   "execution_count": 31,
   "metadata": {},
   "outputs": [
    {
     "data": {
      "text/plain": [
       "Index(['country', 'subnational1', 'threshold', 'area_ha', 'extent_2000_ha',\n",
       "       'extent_2010_ha', 'abg_biomass_stock_2000_Mg', 'avg_biomass_per_ha_Mg'],\n",
       "      dtype='object')"
      ]
     },
     "execution_count": 31,
     "metadata": {},
     "output_type": "execute_result"
    }
   ],
   "source": [
    "df.columns"
   ]
  },
  {
   "cell_type": "code",
   "execution_count": 33,
   "metadata": {},
   "outputs": [],
   "source": [
    "cond = [\n",
    "    (df['avg_biomass_per_ha_Mg'] >= 200),\n",
    "    (df['avg_biomass_per_ha_Mg'] <200) & (df['avg_biomass_per_ha_Mg'] >=100),\n",
    "    (df['avg_biomass_per_ha_Mg'] <100)\n",
    "    ]\n",
    "val = ['High', 'Medium', 'Low']\n",
    "df['avg_biomass_cat'] = np.select(cond,val)"
   ]
  },
  {
   "cell_type": "code",
   "execution_count": 35,
   "metadata": {},
   "outputs": [
    {
     "data": {
      "text/html": [
       "<div>\n",
       "<style scoped>\n",
       "    .dataframe tbody tr th:only-of-type {\n",
       "        vertical-align: middle;\n",
       "    }\n",
       "\n",
       "    .dataframe tbody tr th {\n",
       "        vertical-align: top;\n",
       "    }\n",
       "\n",
       "    .dataframe thead th {\n",
       "        text-align: right;\n",
       "    }\n",
       "</style>\n",
       "<table border=\"1\" class=\"dataframe\">\n",
       "  <thead>\n",
       "    <tr style=\"text-align: right;\">\n",
       "      <th></th>\n",
       "      <th>country</th>\n",
       "      <th>subnational1</th>\n",
       "      <th>threshold</th>\n",
       "      <th>area_ha</th>\n",
       "      <th>extent_2000_ha</th>\n",
       "      <th>extent_2010_ha</th>\n",
       "      <th>abg_biomass_stock_2000_Mg</th>\n",
       "      <th>avg_biomass_per_ha_Mg</th>\n",
       "      <th>avg_biomass_cat</th>\n",
       "    </tr>\n",
       "  </thead>\n",
       "  <tbody>\n",
       "    <tr>\n",
       "      <th>0</th>\n",
       "      <td>United States</td>\n",
       "      <td>Alabama</td>\n",
       "      <td>10</td>\n",
       "      <td>13363464</td>\n",
       "      <td>9600146</td>\n",
       "      <td>9223176</td>\n",
       "      <td>1099303768</td>\n",
       "      <td>115</td>\n",
       "      <td>Medium</td>\n",
       "    </tr>\n",
       "    <tr>\n",
       "      <th>1</th>\n",
       "      <td>United States</td>\n",
       "      <td>Alabama</td>\n",
       "      <td>15</td>\n",
       "      <td>13363464</td>\n",
       "      <td>9474931</td>\n",
       "      <td>9129167</td>\n",
       "      <td>1095970776</td>\n",
       "      <td>116</td>\n",
       "      <td>Medium</td>\n",
       "    </tr>\n",
       "    <tr>\n",
       "      <th>2</th>\n",
       "      <td>United States</td>\n",
       "      <td>Alabama</td>\n",
       "      <td>20</td>\n",
       "      <td>13363464</td>\n",
       "      <td>9345561</td>\n",
       "      <td>9018703</td>\n",
       "      <td>1091712091</td>\n",
       "      <td>117</td>\n",
       "      <td>Medium</td>\n",
       "    </tr>\n",
       "    <tr>\n",
       "      <th>3</th>\n",
       "      <td>United States</td>\n",
       "      <td>Alabama</td>\n",
       "      <td>25</td>\n",
       "      <td>13363464</td>\n",
       "      <td>9241762</td>\n",
       "      <td>8983057</td>\n",
       "      <td>1088231701</td>\n",
       "      <td>118</td>\n",
       "      <td>Medium</td>\n",
       "    </tr>\n",
       "    <tr>\n",
       "      <th>4</th>\n",
       "      <td>United States</td>\n",
       "      <td>Alabama</td>\n",
       "      <td>30</td>\n",
       "      <td>13363464</td>\n",
       "      <td>9097763</td>\n",
       "      <td>8727123</td>\n",
       "      <td>1083171996</td>\n",
       "      <td>119</td>\n",
       "      <td>Medium</td>\n",
       "    </tr>\n",
       "  </tbody>\n",
       "</table>\n",
       "</div>"
      ],
      "text/plain": [
       "         country subnational1  threshold   area_ha  extent_2000_ha  \\\n",
       "0  United States      Alabama         10  13363464         9600146   \n",
       "1  United States      Alabama         15  13363464         9474931   \n",
       "2  United States      Alabama         20  13363464         9345561   \n",
       "3  United States      Alabama         25  13363464         9241762   \n",
       "4  United States      Alabama         30  13363464         9097763   \n",
       "\n",
       "   extent_2010_ha  abg_biomass_stock_2000_Mg  avg_biomass_per_ha_Mg  \\\n",
       "0         9223176                 1099303768                    115   \n",
       "1         9129167                 1095970776                    116   \n",
       "2         9018703                 1091712091                    117   \n",
       "3         8983057                 1088231701                    118   \n",
       "4         8727123                 1083171996                    119   \n",
       "\n",
       "  avg_biomass_cat  \n",
       "0          Medium  \n",
       "1          Medium  \n",
       "2          Medium  \n",
       "3          Medium  \n",
       "4          Medium  "
      ]
     },
     "execution_count": 35,
     "metadata": {},
     "output_type": "execute_result"
    }
   ],
   "source": [
    "df.head()"
   ]
  },
  {
   "cell_type": "code",
   "execution_count": 36,
   "metadata": {},
   "outputs": [],
   "source": [
    "df1 = df.drop(labels=['country'], axis=1) "
   ]
  },
  {
   "cell_type": "code",
   "execution_count": 37,
   "metadata": {},
   "outputs": [
    {
     "data": {
      "text/html": [
       "<div>\n",
       "<style scoped>\n",
       "    .dataframe tbody tr th:only-of-type {\n",
       "        vertical-align: middle;\n",
       "    }\n",
       "\n",
       "    .dataframe tbody tr th {\n",
       "        vertical-align: top;\n",
       "    }\n",
       "\n",
       "    .dataframe thead th {\n",
       "        text-align: right;\n",
       "    }\n",
       "</style>\n",
       "<table border=\"1\" class=\"dataframe\">\n",
       "  <thead>\n",
       "    <tr style=\"text-align: right;\">\n",
       "      <th></th>\n",
       "      <th>subnational1</th>\n",
       "      <th>threshold</th>\n",
       "      <th>area_ha</th>\n",
       "      <th>extent_2000_ha</th>\n",
       "      <th>extent_2010_ha</th>\n",
       "      <th>abg_biomass_stock_2000_Mg</th>\n",
       "      <th>avg_biomass_per_ha_Mg</th>\n",
       "      <th>avg_biomass_cat</th>\n",
       "    </tr>\n",
       "  </thead>\n",
       "  <tbody>\n",
       "    <tr>\n",
       "      <th>0</th>\n",
       "      <td>Alabama</td>\n",
       "      <td>10</td>\n",
       "      <td>13363464</td>\n",
       "      <td>9600146</td>\n",
       "      <td>9223176</td>\n",
       "      <td>1099303768</td>\n",
       "      <td>115</td>\n",
       "      <td>Medium</td>\n",
       "    </tr>\n",
       "    <tr>\n",
       "      <th>1</th>\n",
       "      <td>Alabama</td>\n",
       "      <td>15</td>\n",
       "      <td>13363464</td>\n",
       "      <td>9474931</td>\n",
       "      <td>9129167</td>\n",
       "      <td>1095970776</td>\n",
       "      <td>116</td>\n",
       "      <td>Medium</td>\n",
       "    </tr>\n",
       "    <tr>\n",
       "      <th>2</th>\n",
       "      <td>Alabama</td>\n",
       "      <td>20</td>\n",
       "      <td>13363464</td>\n",
       "      <td>9345561</td>\n",
       "      <td>9018703</td>\n",
       "      <td>1091712091</td>\n",
       "      <td>117</td>\n",
       "      <td>Medium</td>\n",
       "    </tr>\n",
       "    <tr>\n",
       "      <th>3</th>\n",
       "      <td>Alabama</td>\n",
       "      <td>25</td>\n",
       "      <td>13363464</td>\n",
       "      <td>9241762</td>\n",
       "      <td>8983057</td>\n",
       "      <td>1088231701</td>\n",
       "      <td>118</td>\n",
       "      <td>Medium</td>\n",
       "    </tr>\n",
       "    <tr>\n",
       "      <th>4</th>\n",
       "      <td>Alabama</td>\n",
       "      <td>30</td>\n",
       "      <td>13363464</td>\n",
       "      <td>9097763</td>\n",
       "      <td>8727123</td>\n",
       "      <td>1083171996</td>\n",
       "      <td>119</td>\n",
       "      <td>Medium</td>\n",
       "    </tr>\n",
       "  </tbody>\n",
       "</table>\n",
       "</div>"
      ],
      "text/plain": [
       "  subnational1  threshold   area_ha  extent_2000_ha  extent_2010_ha  \\\n",
       "0      Alabama         10  13363464         9600146         9223176   \n",
       "1      Alabama         15  13363464         9474931         9129167   \n",
       "2      Alabama         20  13363464         9345561         9018703   \n",
       "3      Alabama         25  13363464         9241762         8983057   \n",
       "4      Alabama         30  13363464         9097763         8727123   \n",
       "\n",
       "   abg_biomass_stock_2000_Mg  avg_biomass_per_ha_Mg avg_biomass_cat  \n",
       "0                 1099303768                    115          Medium  \n",
       "1                 1095970776                    116          Medium  \n",
       "2                 1091712091                    117          Medium  \n",
       "3                 1088231701                    118          Medium  \n",
       "4                 1083171996                    119          Medium  "
      ]
     },
     "execution_count": 37,
     "metadata": {},
     "output_type": "execute_result"
    }
   ],
   "source": [
    "df1.head()"
   ]
  },
  {
   "cell_type": "code",
   "execution_count": 39,
   "metadata": {},
   "outputs": [
    {
     "data": {
      "text/html": [
       "<div>\n",
       "<style scoped>\n",
       "    .dataframe tbody tr th:only-of-type {\n",
       "        vertical-align: middle;\n",
       "    }\n",
       "\n",
       "    .dataframe tbody tr th {\n",
       "        vertical-align: top;\n",
       "    }\n",
       "\n",
       "    .dataframe thead th {\n",
       "        text-align: right;\n",
       "    }\n",
       "</style>\n",
       "<table border=\"1\" class=\"dataframe\">\n",
       "  <thead>\n",
       "    <tr style=\"text-align: right;\">\n",
       "      <th></th>\n",
       "      <th>country</th>\n",
       "      <th>subnational1</th>\n",
       "      <th>threshold</th>\n",
       "      <th>area_ha</th>\n",
       "      <th>extent_2000_ha</th>\n",
       "      <th>extent_2010_ha</th>\n",
       "      <th>abg_biomass_stock_2000_Mg</th>\n",
       "      <th>avg_biomass_per_ha_Mg</th>\n",
       "      <th>avg_biomass_cat</th>\n",
       "    </tr>\n",
       "  </thead>\n",
       "  <tbody>\n",
       "    <tr>\n",
       "      <th>0</th>\n",
       "      <td>United States</td>\n",
       "      <td>Alabama</td>\n",
       "      <td>10</td>\n",
       "      <td>13363464</td>\n",
       "      <td>9600146</td>\n",
       "      <td>9223176</td>\n",
       "      <td>1099303768</td>\n",
       "      <td>115</td>\n",
       "      <td>Medium</td>\n",
       "    </tr>\n",
       "    <tr>\n",
       "      <th>1</th>\n",
       "      <td>United States</td>\n",
       "      <td>Alabama</td>\n",
       "      <td>15</td>\n",
       "      <td>13363464</td>\n",
       "      <td>9474931</td>\n",
       "      <td>9129167</td>\n",
       "      <td>1095970776</td>\n",
       "      <td>116</td>\n",
       "      <td>Medium</td>\n",
       "    </tr>\n",
       "    <tr>\n",
       "      <th>2</th>\n",
       "      <td>United States</td>\n",
       "      <td>Alabama</td>\n",
       "      <td>20</td>\n",
       "      <td>13363464</td>\n",
       "      <td>9345561</td>\n",
       "      <td>9018703</td>\n",
       "      <td>1091712091</td>\n",
       "      <td>117</td>\n",
       "      <td>Medium</td>\n",
       "    </tr>\n",
       "    <tr>\n",
       "      <th>3</th>\n",
       "      <td>United States</td>\n",
       "      <td>Alabama</td>\n",
       "      <td>25</td>\n",
       "      <td>13363464</td>\n",
       "      <td>9241762</td>\n",
       "      <td>8983057</td>\n",
       "      <td>1088231701</td>\n",
       "      <td>118</td>\n",
       "      <td>Medium</td>\n",
       "    </tr>\n",
       "    <tr>\n",
       "      <th>4</th>\n",
       "      <td>United States</td>\n",
       "      <td>Alabama</td>\n",
       "      <td>30</td>\n",
       "      <td>13363464</td>\n",
       "      <td>9097763</td>\n",
       "      <td>8727123</td>\n",
       "      <td>1083171996</td>\n",
       "      <td>119</td>\n",
       "      <td>Medium</td>\n",
       "    </tr>\n",
       "  </tbody>\n",
       "</table>\n",
       "</div>"
      ],
      "text/plain": [
       "         country subnational1  threshold   area_ha  extent_2000_ha  \\\n",
       "0  United States      Alabama         10  13363464         9600146   \n",
       "1  United States      Alabama         15  13363464         9474931   \n",
       "2  United States      Alabama         20  13363464         9345561   \n",
       "3  United States      Alabama         25  13363464         9241762   \n",
       "4  United States      Alabama         30  13363464         9097763   \n",
       "\n",
       "   extent_2010_ha  abg_biomass_stock_2000_Mg  avg_biomass_per_ha_Mg  \\\n",
       "0         9223176                 1099303768                    115   \n",
       "1         9129167                 1095970776                    116   \n",
       "2         9018703                 1091712091                    117   \n",
       "3         8983057                 1088231701                    118   \n",
       "4         8727123                 1083171996                    119   \n",
       "\n",
       "  avg_biomass_cat  \n",
       "0          Medium  \n",
       "1          Medium  \n",
       "2          Medium  \n",
       "3          Medium  \n",
       "4          Medium  "
      ]
     },
     "execution_count": 39,
     "metadata": {},
     "output_type": "execute_result"
    }
   ],
   "source": [
    "df.head()"
   ]
  },
  {
   "cell_type": "code",
   "execution_count": 40,
   "metadata": {},
   "outputs": [],
   "source": [
    "data_onehot_encoded = df1.copy()\n",
    "data = pd.get_dummies(data_onehot_encoded, columns=['subnational1'])"
   ]
  },
  {
   "cell_type": "code",
   "execution_count": 41,
   "metadata": {},
   "outputs": [
    {
     "data": {
      "text/html": [
       "<div>\n",
       "<style scoped>\n",
       "    .dataframe tbody tr th:only-of-type {\n",
       "        vertical-align: middle;\n",
       "    }\n",
       "\n",
       "    .dataframe tbody tr th {\n",
       "        vertical-align: top;\n",
       "    }\n",
       "\n",
       "    .dataframe thead th {\n",
       "        text-align: right;\n",
       "    }\n",
       "</style>\n",
       "<table border=\"1\" class=\"dataframe\">\n",
       "  <thead>\n",
       "    <tr style=\"text-align: right;\">\n",
       "      <th></th>\n",
       "      <th>threshold</th>\n",
       "      <th>area_ha</th>\n",
       "      <th>extent_2000_ha</th>\n",
       "      <th>extent_2010_ha</th>\n",
       "      <th>abg_biomass_stock_2000_Mg</th>\n",
       "      <th>avg_biomass_per_ha_Mg</th>\n",
       "      <th>avg_biomass_cat</th>\n",
       "      <th>subnational1_Alabama</th>\n",
       "      <th>subnational1_Alaska</th>\n",
       "      <th>subnational1_Arizona</th>\n",
       "      <th>...</th>\n",
       "      <th>subnational1_South Dakota</th>\n",
       "      <th>subnational1_Tennessee</th>\n",
       "      <th>subnational1_Texas</th>\n",
       "      <th>subnational1_Utah</th>\n",
       "      <th>subnational1_Vermont</th>\n",
       "      <th>subnational1_Virginia</th>\n",
       "      <th>subnational1_Washington</th>\n",
       "      <th>subnational1_West Virginia</th>\n",
       "      <th>subnational1_Wisconsin</th>\n",
       "      <th>subnational1_Wyoming</th>\n",
       "    </tr>\n",
       "  </thead>\n",
       "  <tbody>\n",
       "    <tr>\n",
       "      <th>0</th>\n",
       "      <td>10</td>\n",
       "      <td>13363464</td>\n",
       "      <td>9600146</td>\n",
       "      <td>9223176</td>\n",
       "      <td>1099303768</td>\n",
       "      <td>115</td>\n",
       "      <td>Medium</td>\n",
       "      <td>1</td>\n",
       "      <td>0</td>\n",
       "      <td>0</td>\n",
       "      <td>...</td>\n",
       "      <td>0</td>\n",
       "      <td>0</td>\n",
       "      <td>0</td>\n",
       "      <td>0</td>\n",
       "      <td>0</td>\n",
       "      <td>0</td>\n",
       "      <td>0</td>\n",
       "      <td>0</td>\n",
       "      <td>0</td>\n",
       "      <td>0</td>\n",
       "    </tr>\n",
       "    <tr>\n",
       "      <th>1</th>\n",
       "      <td>15</td>\n",
       "      <td>13363464</td>\n",
       "      <td>9474931</td>\n",
       "      <td>9129167</td>\n",
       "      <td>1095970776</td>\n",
       "      <td>116</td>\n",
       "      <td>Medium</td>\n",
       "      <td>1</td>\n",
       "      <td>0</td>\n",
       "      <td>0</td>\n",
       "      <td>...</td>\n",
       "      <td>0</td>\n",
       "      <td>0</td>\n",
       "      <td>0</td>\n",
       "      <td>0</td>\n",
       "      <td>0</td>\n",
       "      <td>0</td>\n",
       "      <td>0</td>\n",
       "      <td>0</td>\n",
       "      <td>0</td>\n",
       "      <td>0</td>\n",
       "    </tr>\n",
       "    <tr>\n",
       "      <th>2</th>\n",
       "      <td>20</td>\n",
       "      <td>13363464</td>\n",
       "      <td>9345561</td>\n",
       "      <td>9018703</td>\n",
       "      <td>1091712091</td>\n",
       "      <td>117</td>\n",
       "      <td>Medium</td>\n",
       "      <td>1</td>\n",
       "      <td>0</td>\n",
       "      <td>0</td>\n",
       "      <td>...</td>\n",
       "      <td>0</td>\n",
       "      <td>0</td>\n",
       "      <td>0</td>\n",
       "      <td>0</td>\n",
       "      <td>0</td>\n",
       "      <td>0</td>\n",
       "      <td>0</td>\n",
       "      <td>0</td>\n",
       "      <td>0</td>\n",
       "      <td>0</td>\n",
       "    </tr>\n",
       "    <tr>\n",
       "      <th>3</th>\n",
       "      <td>25</td>\n",
       "      <td>13363464</td>\n",
       "      <td>9241762</td>\n",
       "      <td>8983057</td>\n",
       "      <td>1088231701</td>\n",
       "      <td>118</td>\n",
       "      <td>Medium</td>\n",
       "      <td>1</td>\n",
       "      <td>0</td>\n",
       "      <td>0</td>\n",
       "      <td>...</td>\n",
       "      <td>0</td>\n",
       "      <td>0</td>\n",
       "      <td>0</td>\n",
       "      <td>0</td>\n",
       "      <td>0</td>\n",
       "      <td>0</td>\n",
       "      <td>0</td>\n",
       "      <td>0</td>\n",
       "      <td>0</td>\n",
       "      <td>0</td>\n",
       "    </tr>\n",
       "    <tr>\n",
       "      <th>4</th>\n",
       "      <td>30</td>\n",
       "      <td>13363464</td>\n",
       "      <td>9097763</td>\n",
       "      <td>8727123</td>\n",
       "      <td>1083171996</td>\n",
       "      <td>119</td>\n",
       "      <td>Medium</td>\n",
       "      <td>1</td>\n",
       "      <td>0</td>\n",
       "      <td>0</td>\n",
       "      <td>...</td>\n",
       "      <td>0</td>\n",
       "      <td>0</td>\n",
       "      <td>0</td>\n",
       "      <td>0</td>\n",
       "      <td>0</td>\n",
       "      <td>0</td>\n",
       "      <td>0</td>\n",
       "      <td>0</td>\n",
       "      <td>0</td>\n",
       "      <td>0</td>\n",
       "    </tr>\n",
       "  </tbody>\n",
       "</table>\n",
       "<p>5 rows × 58 columns</p>\n",
       "</div>"
      ],
      "text/plain": [
       "   threshold   area_ha  extent_2000_ha  extent_2010_ha  \\\n",
       "0         10  13363464         9600146         9223176   \n",
       "1         15  13363464         9474931         9129167   \n",
       "2         20  13363464         9345561         9018703   \n",
       "3         25  13363464         9241762         8983057   \n",
       "4         30  13363464         9097763         8727123   \n",
       "\n",
       "   abg_biomass_stock_2000_Mg  avg_biomass_per_ha_Mg avg_biomass_cat  \\\n",
       "0                 1099303768                    115          Medium   \n",
       "1                 1095970776                    116          Medium   \n",
       "2                 1091712091                    117          Medium   \n",
       "3                 1088231701                    118          Medium   \n",
       "4                 1083171996                    119          Medium   \n",
       "\n",
       "   subnational1_Alabama  subnational1_Alaska  subnational1_Arizona  ...  \\\n",
       "0                     1                    0                     0  ...   \n",
       "1                     1                    0                     0  ...   \n",
       "2                     1                    0                     0  ...   \n",
       "3                     1                    0                     0  ...   \n",
       "4                     1                    0                     0  ...   \n",
       "\n",
       "   subnational1_South Dakota  subnational1_Tennessee  subnational1_Texas  \\\n",
       "0                          0                       0                   0   \n",
       "1                          0                       0                   0   \n",
       "2                          0                       0                   0   \n",
       "3                          0                       0                   0   \n",
       "4                          0                       0                   0   \n",
       "\n",
       "   subnational1_Utah  subnational1_Vermont  subnational1_Virginia  \\\n",
       "0                  0                     0                      0   \n",
       "1                  0                     0                      0   \n",
       "2                  0                     0                      0   \n",
       "3                  0                     0                      0   \n",
       "4                  0                     0                      0   \n",
       "\n",
       "   subnational1_Washington  subnational1_West Virginia  \\\n",
       "0                        0                           0   \n",
       "1                        0                           0   \n",
       "2                        0                           0   \n",
       "3                        0                           0   \n",
       "4                        0                           0   \n",
       "\n",
       "   subnational1_Wisconsin  subnational1_Wyoming  \n",
       "0                       0                     0  \n",
       "1                       0                     0  \n",
       "2                       0                     0  \n",
       "3                       0                     0  \n",
       "4                       0                     0  \n",
       "\n",
       "[5 rows x 58 columns]"
      ]
     },
     "execution_count": 41,
     "metadata": {},
     "output_type": "execute_result"
    }
   ],
   "source": [
    "data.head()"
   ]
  },
  {
   "cell_type": "code",
   "execution_count": 43,
   "metadata": {},
   "outputs": [
    {
     "data": {
      "text/plain": [
       "Medium    246\n",
       "Low        90\n",
       "High       21\n",
       "Name: avg_biomass_cat, dtype: int64"
      ]
     },
     "execution_count": 43,
     "metadata": {},
     "output_type": "execute_result"
    },
    {
     "data": {
      "image/png": "[encoded data removed]",
      "text/plain": [
       "<Figure size 432x288 with 1 Axes>"
      ]
     },
     "metadata": {
      "needs_background": "light"
     },
     "output_type": "display_data"
    }
   ],
   "source": [
    "sns.countplot(x=\"avg_biomass_cat\", data=data)\n",
    "data.loc[:,'avg_biomass_cat'].value_counts()"
   ]
  },
  {
   "cell_type": "code",
   "execution_count": 45,
   "metadata": {},
   "outputs": [
    {
     "data": {
      "text/plain": [
       "<seaborn.axisgrid.FacetGrid at 0x22ea02df370>"
      ]
     },
     "execution_count": 45,
     "metadata": {},
     "output_type": "execute_result"
    },
    {
     "data": {
      "image/png": "[encoded data removed]",
      "text/plain": [
       "<Figure size 525.25x432 with 1 Axes>"
      ]
     },
     "metadata": {
      "needs_background": "light"
     },
     "output_type": "display_data"
    }
   ],
   "source": [
    "sns.FacetGrid(data, hue=\"avg_biomass_cat\", size=6) \\\n",
    "   .map(sns.kdeplot, \"threshold\") \\\n",
    "   .add_legend()"
   ]
  },
  {
   "cell_type": "code",
   "execution_count": 48,
   "metadata": {},
   "outputs": [
    {
     "data": {
      "text/plain": [
       "<seaborn.axisgrid.FacetGrid at 0x22ea0296e20>"
      ]
     },
     "execution_count": 48,
     "metadata": {},
     "output_type": "execute_result"
    },
    {
     "data": {
      "image/png": "[encoded data removed]",
      "text/plain": [
       "<Figure size 525.25x432 with 1 Axes>"
      ]
     },
     "metadata": {
      "needs_background": "light"
     },
     "output_type": "display_data"
    }
   ],
   "source": [
    "sns.FacetGrid(data, hue=\"avg_biomass_cat\", size=6) \\\n",
    "   .map(sns.kdeplot, \"area_ha\") \\\n",
    "   .add_legend()"
   ]
  },
  {
   "cell_type": "code",
   "execution_count": 50,
   "metadata": {},
   "outputs": [
    {
     "data": {
      "text/plain": [
       "<seaborn.axisgrid.FacetGrid at 0x22ea0141d60>"
      ]
     },
     "execution_count": 50,
     "metadata": {},
     "output_type": "execute_result"
    },
    {
     "data": {
      "image/png": "[encoded data removed]",
      "text/plain": [
       "<Figure size 525.25x432 with 1 Axes>"
      ]
     },
     "metadata": {
      "needs_background": "light"
     },
     "output_type": "display_data"
    }
   ],
   "source": [
    "sns.FacetGrid(data, hue=\"avg_biomass_cat\", size=6) \\\n",
    "   .map(sns.kdeplot, \"extent_2000_ha\") \\\n",
    "   .add_legend()"
   ]
  },
  {
   "cell_type": "code",
   "execution_count": 53,
   "metadata": {},
   "outputs": [
    {
     "data": {
      "text/plain": [
       "<seaborn.axisgrid.FacetGrid at 0x22ea02f2640>"
      ]
     },
     "execution_count": 53,
     "metadata": {},
     "output_type": "execute_result"
    },
    {
     "data": {
      "image/png": "[encoded data removed]",
      "text/plain": [
       "<Figure size 525.25x432 with 1 Axes>"
      ]
     },
     "metadata": {
      "needs_background": "light"
     },
     "output_type": "display_data"
    }
   ],
   "source": [
    "sns.FacetGrid(data, hue=\"avg_biomass_cat\", size=6) \\\n",
    "   .map(sns.kdeplot, \"extent_2010_ha\") \\\n",
    "   .add_legend()"
   ]
  },
  {
   "cell_type": "code",
   "execution_count": 54,
   "metadata": {},
   "outputs": [],
   "source": [
    "rand_state_ = 42\n",
    "X_train, X_test, y_train, y_test = train_test_split(data.drop(['avg_biomass_cat'], axis=1), data.avg_biomass_cat, test_size=0.3, random_state=rand_state_)"
   ]
  },
  {
   "cell_type": "code",
   "execution_count": 58,
   "metadata": {},
   "outputs": [],
   "source": [
    "from sklearn.preprocessing import StandardScaler\n",
    "from sklearn.pipeline import Pipeline"
   ]
  },
  {
   "cell_type": "code",
   "execution_count": 59,
   "metadata": {},
   "outputs": [],
   "source": [
    "pipeline = Pipeline([('std_scalar', StandardScaler())])\n",
    "\n",
    "X_train = pipeline.fit_transform(X_train)\n",
    "X_test = pipeline.transform(X_test)"
   ]
  },
  {
   "cell_type": "code",
   "execution_count": 63,
   "metadata": {},
   "outputs": [],
   "source": [
    "class EvaluateClassifier():\n",
    "    def __init__(self):\n",
    "        self.classifiers = {}\n",
    "\n",
    "    def evaluate_model(self, modelName, train_predictions, test_predictions):\n",
    "        self.classifiers[modelName] = {\n",
    "            'train_score': accuracy_score(y_train, train_predictions),            \n",
    "            'test_score': accuracy_score(y_test, test_predictions)\n",
    "        }\n",
    "\n",
    "    def fit_and_predict_using_RandomSearchCV(self, classifier, grid_params):\n",
    "        random_cv_model = RandomizedSearchCV(estimator=classifier, param_distributions=grid_params, cv=10)\n",
    "        random_cv_model.fit(X_train, y_train)\n",
    "        self.evaluate_model(classifier.__class__.__name__, random_cv_model.predict(X_train), random_cv_model.predict(X_test))\n",
    "        self.classifiers[classifier.__class__.__name__]['estimator'] = random_cv_model.estimator\n",
    "        return self.classifiers[classifier.__class__.__name__]\n",
    "\n",
    "    def voting_classifier(self, classifier_names):\n",
    "        selected_classifiers = [(classifier_name, self.classifiers[classifier_name]['estimator']) for classifier_name in classifier_names]\n",
    "        voting_classifier = VotingClassifier(estimators=selected_classifiers, voting='soft')\n",
    "        voting_classifier.fit(X_train, y_train)\n",
    "        self.evaluate_model(voting_classifier.__class__.__name__, voting_classifier.predict(X_train), voting_classifier.predict(X_test))\n",
    "        self.classifiers[voting_classifier.__class__.__name__]['estimator'] = voting_classifier\n",
    "        return self.classifiers[voting_classifier.__class__.__name__]"
   ]
  },
  {
   "cell_type": "markdown",
   "metadata": {},
   "source": [
    "## Decision Tree"
   ]
  },
  {
   "cell_type": "code",
   "execution_count": 64,
   "metadata": {},
   "outputs": [],
   "source": [
    "eval_classifier1 = EvaluateClassifier()"
   ]
  },
  {
   "cell_type": "code",
   "execution_count": 70,
   "metadata": {},
   "outputs": [
    {
     "data": {
      "text/plain": [
       "{'train_score': 0.7791164658634538,\n",
       " 'test_score': 0.7685185185185185,\n",
       " 'estimator': DecisionTreeClassifier()}"
      ]
     },
     "execution_count": 70,
     "metadata": {},
     "output_type": "execute_result"
    }
   ],
   "source": [
    "# Decision Tree\n",
    "dt_grid_param = {\n",
    "    'splitter': ['best', 'random'],\n",
    "    'criterion': ['gini', 'entropy'],\n",
    "    'max_depth': [3, 4],\n",
    "    'min_samples_split': [2, 3, 4],\n",
    "    'max_features': ['sqrt'],\n",
    "    'random_state': [rand_state_]\n",
    "}\n",
    "\n",
    "acc_dt = eval_classifier1.fit_and_predict_using_RandomSearchCV(DecisionTreeClassifier(), dt_grid_param)\n",
    "acc_dt"
   ]
  },
  {
   "cell_type": "markdown",
   "metadata": {},
   "source": [
    "## Random Forest"
   ]
  },
  {
   "cell_type": "code",
   "execution_count": 71,
   "metadata": {},
   "outputs": [],
   "source": [
    "eval_classifier2 = EvaluateClassifier()"
   ]
  },
  {
   "cell_type": "code",
   "execution_count": 73,
   "metadata": {},
   "outputs": [
    {
     "data": {
      "text/plain": [
       "{'train_score': 0.9919678714859438,\n",
       " 'test_score': 0.9907407407407407,\n",
       " 'estimator': RandomForestClassifier()}"
      ]
     },
     "execution_count": 73,
     "metadata": {},
     "output_type": "execute_result"
    }
   ],
   "source": [
    "rf_grid_param = {\n",
    "    'n_estimators': [10, 30, 60, 90, 100],\n",
    "    'criterion': ['gini', 'entropy'],\n",
    "    'max_depth': [3, 4],\n",
    "    'min_samples_split': [2, 3, 4],\n",
    "    'max_features': ['sqrt'],\n",
    "    'random_state': [rand_state_]\n",
    "}\n",
    "\n",
    "acc_rf = eval_classifier2.fit_and_predict_using_RandomSearchCV(RandomForestClassifier(), rf_grid_param)\n",
    "acc_rf"
   ]
  },
  {
   "cell_type": "markdown",
   "metadata": {},
   "source": [
    "## KNN Clasifier"
   ]
  },
  {
   "cell_type": "code",
   "execution_count": 75,
   "metadata": {},
   "outputs": [],
   "source": [
    "eval_classifier3 = EvaluateClassifier()"
   ]
  },
  {
   "cell_type": "code",
   "execution_count": 76,
   "metadata": {},
   "outputs": [
    {
     "data": {
      "text/plain": [
       "{'train_score': 1.0,\n",
       " 'test_score': 0.9814814814814815,\n",
       " 'estimator': KNeighborsClassifier()}"
      ]
     },
     "execution_count": 76,
     "metadata": {},
     "output_type": "execute_result"
    }
   ],
   "source": [
    "# KNN clasifier\n",
    "knn_grid_params = {\n",
    "    'n_neighbors': [5, 6, 7, 8, 9],\n",
    "    'weights': ['uniform', 'distance'],\n",
    "    'algorithm': ['ball_tree', 'kd_tree', 'brute'],\n",
    "    'p': [1, 2]\n",
    "}\n",
    "\n",
    "eval_classifier3.fit_and_predict_using_RandomSearchCV(KNeighborsClassifier(), knn_grid_params)"
   ]
  },
  {
   "cell_type": "markdown",
   "metadata": {},
   "source": [
    "## Extra Trees Classifier"
   ]
  },
  {
   "cell_type": "code",
   "execution_count": 79,
   "metadata": {},
   "outputs": [],
   "source": [
    "eval_classifier4 = EvaluateClassifier()"
   ]
  },
  {
   "cell_type": "code",
   "execution_count": 81,
   "metadata": {},
   "outputs": [
    {
     "data": {
      "text/plain": [
       "{'train_score': 1.0,\n",
       " 'test_score': 0.9722222222222222,\n",
       " 'estimator': ExtraTreesClassifier()}"
      ]
     },
     "execution_count": 81,
     "metadata": {},
     "output_type": "execute_result"
    }
   ],
   "source": [
    "eval_classifier4.fit_and_predict_using_RandomSearchCV(ExtraTreesClassifier(), {\n",
    "    'n_estimators': [20, 40],\n",
    "    'min_samples_split': [2, 3],\n",
    "    'criterion': ['gini', 'entropy'],\n",
    "    'max_features': ['sqrt']\n",
    "})"
   ]
  },
  {
   "cell_type": "markdown",
   "metadata": {},
   "source": [
    "## Ridge Classifier"
   ]
  },
  {
   "cell_type": "code",
   "execution_count": 85,
   "metadata": {},
   "outputs": [],
   "source": [
    "eval_classifier5 = EvaluateClassifier()"
   ]
  },
  {
   "cell_type": "code",
   "execution_count": 87,
   "metadata": {},
   "outputs": [
    {
     "data": {
      "text/plain": [
       "{'train_score': 0.9518072289156626,\n",
       " 'test_score': 0.9722222222222222,\n",
       " 'estimator': RidgeClassifier()}"
      ]
     },
     "execution_count": 87,
     "metadata": {},
     "output_type": "execute_result"
    }
   ],
   "source": [
    "# RidgeClassifier\n",
    "eval_classifier5.fit_and_predict_using_RandomSearchCV(RidgeClassifier(), {\n",
    "    'alpha': [0.8, 1, 7, 13, 17],\n",
    "    'random_state': [rand_state_]\n",
    "})"
   ]
  },
  {
   "cell_type": "markdown",
   "metadata": {},
   "source": [
    "## Logistic Regression"
   ]
  },
  {
   "cell_type": "code",
   "execution_count": 89,
   "metadata": {},
   "outputs": [],
   "source": [
    "eval_classifier6 = EvaluateClassifier()"
   ]
  },
  {
   "cell_type": "code",
   "execution_count": 91,
   "metadata": {},
   "outputs": [
    {
     "data": {
      "text/plain": [
       "{'train_score': 0.9919678714859438,\n",
       " 'test_score': 0.9907407407407407,\n",
       " 'estimator': LogisticRegression()}"
      ]
     },
     "execution_count": 91,
     "metadata": {},
     "output_type": "execute_result"
    }
   ],
   "source": [
    "eval_classifier6.fit_and_predict_using_RandomSearchCV(LogisticRegression(), {\n",
    "    'C': [0.5, 1.0, 1,5],\n",
    "    'random_state': [rand_state_],\n",
    "    'solver': ['newton-cg', 'lbfgs', 'liblinear', 'sag', 'saga'],\n",
    "    'max_iter': [50, 100, 150],\n",
    "    'multi_class': ['auto'],\n",
    "    'warm_start': [True]\n",
    "})"
   ]
  },
  {
   "cell_type": "markdown",
   "metadata": {},
   "source": [
    "## Gradient Boosting Classifier"
   ]
  },
  {
   "cell_type": "code",
   "execution_count": 93,
   "metadata": {},
   "outputs": [],
   "source": [
    "eval_classifier7 = EvaluateClassifier()"
   ]
  },
  {
   "cell_type": "code",
   "execution_count": 95,
   "metadata": {},
   "outputs": [
    {
     "data": {
      "text/plain": [
       "{'train_score': 1.0,\n",
       " 'test_score': 1.0,\n",
       " 'estimator': GradientBoostingClassifier()}"
      ]
     },
     "execution_count": 95,
     "metadata": {},
     "output_type": "execute_result"
    }
   ],
   "source": [
    "# GradientBoostingClassifier - Overfit the model, not feasible\n",
    "\n",
    "eval_classifier7.fit_and_predict_using_RandomSearchCV(GradientBoostingClassifier(), {\n",
    "    'loss': ['deviance', 'exponential'],\n",
    "    'n_estimators': [100, 120, 150],\n",
    "    'random_state': [rand_state_],\n",
    "    'min_samples_split': [2, 3, 4],\n",
    "    'max_depth': [3, 4, 5],\n",
    "    'min_samples_split': [2, 3, 4]\n",
    "})"
   ]
  },
  {
   "cell_type": "markdown",
   "metadata": {},
   "source": [
    "## Chossing KNN classifier as the best model"
   ]
  },
  {
   "cell_type": "code",
   "execution_count": 99,
   "metadata": {},
   "outputs": [],
   "source": [
    "import pickle\n",
    "filename = 'USA_Subnational_1_biomass_loss.pkl'\n",
    "pickle.dump(eval_classifier3, open(filename, 'wb'))"
   ]
  }
 ],
 "metadata": {
  "kernelspec": {
   "display_name": "Python 3",
   "language": "python",
   "name": "python3"
  },
  "language_info": {
   "codemirror_mode": {
    "name": "ipython",
    "version": 3
   },
   "file_extension": ".py",
   "mimetype": "text/x-python",
   "name": "python",
   "nbconvert_exporter": "python",
   "pygments_lexer": "ipython3",
   "version": "3.8.5"
  }
 },
 "nbformat": 4,
 "nbformat_minor": 4
}
