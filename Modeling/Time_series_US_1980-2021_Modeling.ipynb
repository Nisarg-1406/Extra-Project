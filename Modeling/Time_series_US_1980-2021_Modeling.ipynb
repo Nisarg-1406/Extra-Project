{
 "cells": [
  {
   "cell_type": "code",
   "execution_count": 4,
   "metadata": {},
   "outputs": [],
   "source": [
    "import numpy as np\n",
    "import seaborn as sns"
   ]
  },
  {
   "cell_type": "code",
   "execution_count": 6,
   "metadata": {},
   "outputs": [],
   "source": [
    "import warnings\n",
    "import os\n",
    "import pandas as pd\n",
    "import pickle\n",
    "import matplotlib.pyplot as plt\n",
    "%matplotlib inline \n",
    "warnings.filterwarnings('ignore')"
   ]
  },
  {
   "cell_type": "code",
   "execution_count": 8,
   "metadata": {},
   "outputs": [],
   "source": [
    "df = pd.read_csv(\"time_series_US_1980_2021.csv\")"
   ]
  },
  {
   "cell_type": "code",
   "execution_count": 8,
   "metadata": {},
   "outputs": [
    {
     "data": {
      "text/html": [
       "<div>\n",
       "<style scoped>\n",
       "    .dataframe tbody tr th:only-of-type {\n",
       "        vertical-align: middle;\n",
       "    }\n",
       "\n",
       "    .dataframe tbody tr th {\n",
       "        vertical-align: top;\n",
       "    }\n",
       "\n",
       "    .dataframe thead th {\n",
       "        text-align: right;\n",
       "    }\n",
       "</style>\n",
       "<table border=\"1\" class=\"dataframe\">\n",
       "  <thead>\n",
       "    <tr style=\"text-align: right;\">\n",
       "      <th></th>\n",
       "      <th>Year</th>\n",
       "      <th>Drought Count</th>\n",
       "      <th>Drought Cost</th>\n",
       "      <th>Drought Lower 75</th>\n",
       "      <th>Drought Upper 75</th>\n",
       "      <th>Drought Lower 90</th>\n",
       "      <th>Drought Upper 90</th>\n",
       "      <th>Drought Lower 95</th>\n",
       "      <th>Drought Upper 95</th>\n",
       "      <th>Flooding Count</th>\n",
       "      <th>...</th>\n",
       "      <th>Winter Storm Lower 95</th>\n",
       "      <th>Winter Storm Upper 95</th>\n",
       "      <th>All Disasters Count</th>\n",
       "      <th>All Disasters Cost</th>\n",
       "      <th>All Disasters Lower 75</th>\n",
       "      <th>All Disasters Upper 75</th>\n",
       "      <th>All Disasters Lower 90</th>\n",
       "      <th>All Disasters Upper 90</th>\n",
       "      <th>All Disasters Lower 95</th>\n",
       "      <th>All Disasters Upper 95</th>\n",
       "    </tr>\n",
       "  </thead>\n",
       "  <tbody>\n",
       "    <tr>\n",
       "      <th>0</th>\n",
       "      <td>1980</td>\n",
       "      <td>1</td>\n",
       "      <td>33.9</td>\n",
       "      <td>26.9</td>\n",
       "      <td>40.4</td>\n",
       "      <td>25.0</td>\n",
       "      <td>42.5</td>\n",
       "      <td>23.9</td>\n",
       "      <td>43.7</td>\n",
       "      <td>1</td>\n",
       "      <td>...</td>\n",
       "      <td>0.0</td>\n",
       "      <td>0.0</td>\n",
       "      <td>3</td>\n",
       "      <td>38.3</td>\n",
       "      <td>29.7</td>\n",
       "      <td>45.7</td>\n",
       "      <td>27.4</td>\n",
       "      <td>49.5</td>\n",
       "      <td>25.9</td>\n",
       "      <td>51.9</td>\n",
       "    </tr>\n",
       "    <tr>\n",
       "      <th>1</th>\n",
       "      <td>1981</td>\n",
       "      <td>0</td>\n",
       "      <td>0.0</td>\n",
       "      <td>0.0</td>\n",
       "      <td>0.0</td>\n",
       "      <td>0.0</td>\n",
       "      <td>0.0</td>\n",
       "      <td>0.0</td>\n",
       "      <td>0.0</td>\n",
       "      <td>0</td>\n",
       "      <td>...</td>\n",
       "      <td>0.0</td>\n",
       "      <td>0.0</td>\n",
       "      <td>2</td>\n",
       "      <td>2.9</td>\n",
       "      <td>2.4</td>\n",
       "      <td>3.0</td>\n",
       "      <td>1.9</td>\n",
       "      <td>3.4</td>\n",
       "      <td>1.4</td>\n",
       "      <td>4.1</td>\n",
       "    </tr>\n",
       "    <tr>\n",
       "      <th>2</th>\n",
       "      <td>1982</td>\n",
       "      <td>0</td>\n",
       "      <td>0.0</td>\n",
       "      <td>0.0</td>\n",
       "      <td>0.0</td>\n",
       "      <td>0.0</td>\n",
       "      <td>0.0</td>\n",
       "      <td>0.0</td>\n",
       "      <td>0.0</td>\n",
       "      <td>0</td>\n",
       "      <td>...</td>\n",
       "      <td>0.1</td>\n",
       "      <td>2.7</td>\n",
       "      <td>3</td>\n",
       "      <td>4.4</td>\n",
       "      <td>3.7</td>\n",
       "      <td>4.8</td>\n",
       "      <td>3.1</td>\n",
       "      <td>5.1</td>\n",
       "      <td>1.9</td>\n",
       "      <td>6.1</td>\n",
       "    </tr>\n",
       "    <tr>\n",
       "      <th>3</th>\n",
       "      <td>1983</td>\n",
       "      <td>1</td>\n",
       "      <td>8.0</td>\n",
       "      <td>5.6</td>\n",
       "      <td>9.2</td>\n",
       "      <td>5.1</td>\n",
       "      <td>10.2</td>\n",
       "      <td>4.7</td>\n",
       "      <td>10.8</td>\n",
       "      <td>2</td>\n",
       "      <td>...</td>\n",
       "      <td>0.0</td>\n",
       "      <td>0.0</td>\n",
       "      <td>5</td>\n",
       "      <td>30.0</td>\n",
       "      <td>23.0</td>\n",
       "      <td>33.9</td>\n",
       "      <td>21.4</td>\n",
       "      <td>36.1</td>\n",
       "      <td>20.2</td>\n",
       "      <td>37.3</td>\n",
       "    </tr>\n",
       "    <tr>\n",
       "      <th>4</th>\n",
       "      <td>1984</td>\n",
       "      <td>0</td>\n",
       "      <td>0.0</td>\n",
       "      <td>0.0</td>\n",
       "      <td>0.0</td>\n",
       "      <td>0.0</td>\n",
       "      <td>0.0</td>\n",
       "      <td>0.0</td>\n",
       "      <td>0.0</td>\n",
       "      <td>0</td>\n",
       "      <td>...</td>\n",
       "      <td>0.0</td>\n",
       "      <td>0.0</td>\n",
       "      <td>2</td>\n",
       "      <td>2.8</td>\n",
       "      <td>2.5</td>\n",
       "      <td>3.0</td>\n",
       "      <td>2.2</td>\n",
       "      <td>3.3</td>\n",
       "      <td>2.0</td>\n",
       "      <td>3.6</td>\n",
       "    </tr>\n",
       "  </tbody>\n",
       "</table>\n",
       "<p>5 rows × 65 columns</p>\n",
       "</div>"
      ],
      "text/plain": [
       "   Year  Drought Count  Drought Cost  Drought Lower 75  Drought Upper 75  \\\n",
       "0  1980              1          33.9              26.9              40.4   \n",
       "1  1981              0           0.0               0.0               0.0   \n",
       "2  1982              0           0.0               0.0               0.0   \n",
       "3  1983              1           8.0               5.6               9.2   \n",
       "4  1984              0           0.0               0.0               0.0   \n",
       "\n",
       "   Drought Lower 90  Drought Upper 90  Drought Lower 95  Drought Upper 95  \\\n",
       "0              25.0              42.5              23.9              43.7   \n",
       "1               0.0               0.0               0.0               0.0   \n",
       "2               0.0               0.0               0.0               0.0   \n",
       "3               5.1              10.2               4.7              10.8   \n",
       "4               0.0               0.0               0.0               0.0   \n",
       "\n",
       "   Flooding Count  ...  Winter Storm Lower 95  Winter Storm Upper 95  \\\n",
       "0               1  ...                    0.0                    0.0   \n",
       "1               0  ...                    0.0                    0.0   \n",
       "2               0  ...                    0.1                    2.7   \n",
       "3               2  ...                    0.0                    0.0   \n",
       "4               0  ...                    0.0                    0.0   \n",
       "\n",
       "   All Disasters Count  All Disasters Cost  All Disasters Lower 75  \\\n",
       "0                    3                38.3                    29.7   \n",
       "1                    2                 2.9                     2.4   \n",
       "2                    3                 4.4                     3.7   \n",
       "3                    5                30.0                    23.0   \n",
       "4                    2                 2.8                     2.5   \n",
       "\n",
       "   All Disasters Upper 75  All Disasters Lower 90  All Disasters Upper 90  \\\n",
       "0                    45.7                    27.4                    49.5   \n",
       "1                     3.0                     1.9                     3.4   \n",
       "2                     4.8                     3.1                     5.1   \n",
       "3                    33.9                    21.4                    36.1   \n",
       "4                     3.0                     2.2                     3.3   \n",
       "\n",
       "   All Disasters Lower 95  All Disasters Upper 95  \n",
       "0                    25.9                    51.9  \n",
       "1                     1.4                     4.1  \n",
       "2                     1.9                     6.1  \n",
       "3                    20.2                    37.3  \n",
       "4                     2.0                     3.6  \n",
       "\n",
       "[5 rows x 65 columns]"
      ]
     },
     "execution_count": 8,
     "metadata": {},
     "output_type": "execute_result"
    }
   ],
   "source": [
    "df.head()"
   ]
  },
  {
   "cell_type": "code",
   "execution_count": 10,
   "metadata": {},
   "outputs": [
    {
     "data": {
      "text/html": [
       "<div>\n",
       "<style scoped>\n",
       "    .dataframe tbody tr th:only-of-type {\n",
       "        vertical-align: middle;\n",
       "    }\n",
       "\n",
       "    .dataframe tbody tr th {\n",
       "        vertical-align: top;\n",
       "    }\n",
       "\n",
       "    .dataframe thead th {\n",
       "        text-align: right;\n",
       "    }\n",
       "</style>\n",
       "<table border=\"1\" class=\"dataframe\">\n",
       "  <thead>\n",
       "    <tr style=\"text-align: right;\">\n",
       "      <th></th>\n",
       "      <th>Year</th>\n",
       "      <th>Drought Count</th>\n",
       "      <th>Drought Cost</th>\n",
       "      <th>Drought Lower 75</th>\n",
       "      <th>Drought Upper 75</th>\n",
       "      <th>Drought Lower 90</th>\n",
       "      <th>Drought Upper 90</th>\n",
       "      <th>Drought Lower 95</th>\n",
       "      <th>Drought Upper 95</th>\n",
       "      <th>Flooding Count</th>\n",
       "      <th>...</th>\n",
       "      <th>Winter Storm Lower 95</th>\n",
       "      <th>Winter Storm Upper 95</th>\n",
       "      <th>All Disasters Count</th>\n",
       "      <th>All Disasters Cost</th>\n",
       "      <th>All Disasters Lower 75</th>\n",
       "      <th>All Disasters Upper 75</th>\n",
       "      <th>All Disasters Lower 90</th>\n",
       "      <th>All Disasters Upper 90</th>\n",
       "      <th>All Disasters Lower 95</th>\n",
       "      <th>All Disasters Upper 95</th>\n",
       "    </tr>\n",
       "  </thead>\n",
       "  <tbody>\n",
       "    <tr>\n",
       "      <th>count</th>\n",
       "      <td>42.000000</td>\n",
       "      <td>42.000000</td>\n",
       "      <td>42.000000</td>\n",
       "      <td>42.000000</td>\n",
       "      <td>42.000000</td>\n",
       "      <td>42.000000</td>\n",
       "      <td>42.000000</td>\n",
       "      <td>42.000000</td>\n",
       "      <td>42.000000</td>\n",
       "      <td>42.000000</td>\n",
       "      <td>...</td>\n",
       "      <td>42.000000</td>\n",
       "      <td>42.000000</td>\n",
       "      <td>42.000000</td>\n",
       "      <td>42.000000</td>\n",
       "      <td>42.000000</td>\n",
       "      <td>42.00000</td>\n",
       "      <td>42.000000</td>\n",
       "      <td>42.000000</td>\n",
       "      <td>42.000000</td>\n",
       "      <td>42.000000</td>\n",
       "    </tr>\n",
       "    <tr>\n",
       "      <th>mean</th>\n",
       "      <td>2000.500000</td>\n",
       "      <td>0.666667</td>\n",
       "      <td>6.226190</td>\n",
       "      <td>5.445238</td>\n",
       "      <td>7.085714</td>\n",
       "      <td>5.195238</td>\n",
       "      <td>7.400000</td>\n",
       "      <td>5.040476</td>\n",
       "      <td>7.592857</td>\n",
       "      <td>0.785714</td>\n",
       "      <td>...</td>\n",
       "      <td>1.266667</td>\n",
       "      <td>1.940476</td>\n",
       "      <td>6.928571</td>\n",
       "      <td>45.845238</td>\n",
       "      <td>38.945238</td>\n",
       "      <td>50.97619</td>\n",
       "      <td>36.883333</td>\n",
       "      <td>53.780952</td>\n",
       "      <td>35.364286</td>\n",
       "      <td>55.661905</td>\n",
       "    </tr>\n",
       "    <tr>\n",
       "      <th>std</th>\n",
       "      <td>12.267844</td>\n",
       "      <td>0.477119</td>\n",
       "      <td>9.801047</td>\n",
       "      <td>8.210172</td>\n",
       "      <td>11.455099</td>\n",
       "      <td>7.802062</td>\n",
       "      <td>11.923619</td>\n",
       "      <td>7.597659</td>\n",
       "      <td>12.185625</td>\n",
       "      <td>0.976198</td>\n",
       "      <td>...</td>\n",
       "      <td>2.502357</td>\n",
       "      <td>3.893275</td>\n",
       "      <td>4.850913</td>\n",
       "      <td>61.478460</td>\n",
       "      <td>51.097917</td>\n",
       "      <td>69.29928</td>\n",
       "      <td>47.473412</td>\n",
       "      <td>74.735094</td>\n",
       "      <td>45.266640</td>\n",
       "      <td>77.423769</td>\n",
       "    </tr>\n",
       "    <tr>\n",
       "      <th>min</th>\n",
       "      <td>1980.000000</td>\n",
       "      <td>0.000000</td>\n",
       "      <td>0.000000</td>\n",
       "      <td>0.000000</td>\n",
       "      <td>0.000000</td>\n",
       "      <td>0.000000</td>\n",
       "      <td>0.000000</td>\n",
       "      <td>0.000000</td>\n",
       "      <td>0.000000</td>\n",
       "      <td>0.000000</td>\n",
       "      <td>...</td>\n",
       "      <td>0.000000</td>\n",
       "      <td>0.000000</td>\n",
       "      <td>0.000000</td>\n",
       "      <td>0.000000</td>\n",
       "      <td>0.000000</td>\n",
       "      <td>0.00000</td>\n",
       "      <td>0.000000</td>\n",
       "      <td>0.000000</td>\n",
       "      <td>0.000000</td>\n",
       "      <td>0.000000</td>\n",
       "    </tr>\n",
       "    <tr>\n",
       "      <th>25%</th>\n",
       "      <td>1990.250000</td>\n",
       "      <td>0.000000</td>\n",
       "      <td>0.000000</td>\n",
       "      <td>0.000000</td>\n",
       "      <td>0.000000</td>\n",
       "      <td>0.000000</td>\n",
       "      <td>0.000000</td>\n",
       "      <td>0.000000</td>\n",
       "      <td>0.000000</td>\n",
       "      <td>0.000000</td>\n",
       "      <td>...</td>\n",
       "      <td>0.000000</td>\n",
       "      <td>0.000000</td>\n",
       "      <td>3.250000</td>\n",
       "      <td>16.125000</td>\n",
       "      <td>13.300000</td>\n",
       "      <td>17.47500</td>\n",
       "      <td>12.400000</td>\n",
       "      <td>18.200000</td>\n",
       "      <td>12.050000</td>\n",
       "      <td>18.775000</td>\n",
       "    </tr>\n",
       "    <tr>\n",
       "      <th>50%</th>\n",
       "      <td>2000.500000</td>\n",
       "      <td>1.000000</td>\n",
       "      <td>3.900000</td>\n",
       "      <td>3.250000</td>\n",
       "      <td>4.200000</td>\n",
       "      <td>3.050000</td>\n",
       "      <td>4.400000</td>\n",
       "      <td>2.900000</td>\n",
       "      <td>4.600000</td>\n",
       "      <td>0.500000</td>\n",
       "      <td>...</td>\n",
       "      <td>0.000000</td>\n",
       "      <td>0.000000</td>\n",
       "      <td>6.000000</td>\n",
       "      <td>24.400000</td>\n",
       "      <td>22.150000</td>\n",
       "      <td>26.80000</td>\n",
       "      <td>21.200000</td>\n",
       "      <td>27.750000</td>\n",
       "      <td>20.300000</td>\n",
       "      <td>28.600000</td>\n",
       "    </tr>\n",
       "    <tr>\n",
       "      <th>75%</th>\n",
       "      <td>2010.750000</td>\n",
       "      <td>1.000000</td>\n",
       "      <td>7.100000</td>\n",
       "      <td>5.850000</td>\n",
       "      <td>7.600000</td>\n",
       "      <td>5.550000</td>\n",
       "      <td>7.950000</td>\n",
       "      <td>5.350000</td>\n",
       "      <td>8.250000</td>\n",
       "      <td>1.000000</td>\n",
       "      <td>...</td>\n",
       "      <td>1.700000</td>\n",
       "      <td>2.550000</td>\n",
       "      <td>9.750000</td>\n",
       "      <td>50.150000</td>\n",
       "      <td>40.300000</td>\n",
       "      <td>55.02500</td>\n",
       "      <td>38.125000</td>\n",
       "      <td>57.550000</td>\n",
       "      <td>36.475000</td>\n",
       "      <td>60.125000</td>\n",
       "    </tr>\n",
       "    <tr>\n",
       "      <th>max</th>\n",
       "      <td>2021.000000</td>\n",
       "      <td>1.000000</td>\n",
       "      <td>45.400000</td>\n",
       "      <td>34.600000</td>\n",
       "      <td>55.300000</td>\n",
       "      <td>32.800000</td>\n",
       "      <td>57.700000</td>\n",
       "      <td>32.300000</td>\n",
       "      <td>59.000000</td>\n",
       "      <td>4.000000</td>\n",
       "      <td>...</td>\n",
       "      <td>11.700000</td>\n",
       "      <td>20.600000</td>\n",
       "      <td>22.000000</td>\n",
       "      <td>327.800000</td>\n",
       "      <td>266.700000</td>\n",
       "      <td>377.30000</td>\n",
       "      <td>242.600000</td>\n",
       "      <td>412.700000</td>\n",
       "      <td>228.100000</td>\n",
       "      <td>427.800000</td>\n",
       "    </tr>\n",
       "  </tbody>\n",
       "</table>\n",
       "<p>8 rows × 65 columns</p>\n",
       "</div>"
      ],
      "text/plain": [
       "              Year  Drought Count  Drought Cost  Drought Lower 75  \\\n",
       "count    42.000000      42.000000     42.000000         42.000000   \n",
       "mean   2000.500000       0.666667      6.226190          5.445238   \n",
       "std      12.267844       0.477119      9.801047          8.210172   \n",
       "min    1980.000000       0.000000      0.000000          0.000000   \n",
       "25%    1990.250000       0.000000      0.000000          0.000000   \n",
       "50%    2000.500000       1.000000      3.900000          3.250000   \n",
       "75%    2010.750000       1.000000      7.100000          5.850000   \n",
       "max    2021.000000       1.000000     45.400000         34.600000   \n",
       "\n",
       "       Drought Upper 75  Drought Lower 90  Drought Upper 90  Drought Lower 95  \\\n",
       "count         42.000000         42.000000         42.000000         42.000000   \n",
       "mean           7.085714          5.195238          7.400000          5.040476   \n",
       "std           11.455099          7.802062         11.923619          7.597659   \n",
       "min            0.000000          0.000000          0.000000          0.000000   \n",
       "25%            0.000000          0.000000          0.000000          0.000000   \n",
       "50%            4.200000          3.050000          4.400000          2.900000   \n",
       "75%            7.600000          5.550000          7.950000          5.350000   \n",
       "max           55.300000         32.800000         57.700000         32.300000   \n",
       "\n",
       "       Drought Upper 95  Flooding Count  ...  Winter Storm Lower 95  \\\n",
       "count         42.000000       42.000000  ...              42.000000   \n",
       "mean           7.592857        0.785714  ...               1.266667   \n",
       "std           12.185625        0.976198  ...               2.502357   \n",
       "min            0.000000        0.000000  ...               0.000000   \n",
       "25%            0.000000        0.000000  ...               0.000000   \n",
       "50%            4.600000        0.500000  ...               0.000000   \n",
       "75%            8.250000        1.000000  ...               1.700000   \n",
       "max           59.000000        4.000000  ...              11.700000   \n",
       "\n",
       "       Winter Storm Upper 95  All Disasters Count  All Disasters Cost  \\\n",
       "count              42.000000            42.000000           42.000000   \n",
       "mean                1.940476             6.928571           45.845238   \n",
       "std                 3.893275             4.850913           61.478460   \n",
       "min                 0.000000             0.000000            0.000000   \n",
       "25%                 0.000000             3.250000           16.125000   \n",
       "50%                 0.000000             6.000000           24.400000   \n",
       "75%                 2.550000             9.750000           50.150000   \n",
       "max                20.600000            22.000000          327.800000   \n",
       "\n",
       "       All Disasters Lower 75  All Disasters Upper 75  All Disasters Lower 90  \\\n",
       "count               42.000000                42.00000               42.000000   \n",
       "mean                38.945238                50.97619               36.883333   \n",
       "std                 51.097917                69.29928               47.473412   \n",
       "min                  0.000000                 0.00000                0.000000   \n",
       "25%                 13.300000                17.47500               12.400000   \n",
       "50%                 22.150000                26.80000               21.200000   \n",
       "75%                 40.300000                55.02500               38.125000   \n",
       "max                266.700000               377.30000              242.600000   \n",
       "\n",
       "       All Disasters Upper 90  All Disasters Lower 95  All Disasters Upper 95  \n",
       "count               42.000000               42.000000               42.000000  \n",
       "mean                53.780952               35.364286               55.661905  \n",
       "std                 74.735094               45.266640               77.423769  \n",
       "min                  0.000000                0.000000                0.000000  \n",
       "25%                 18.200000               12.050000               18.775000  \n",
       "50%                 27.750000               20.300000               28.600000  \n",
       "75%                 57.550000               36.475000               60.125000  \n",
       "max                412.700000              228.100000              427.800000  \n",
       "\n",
       "[8 rows x 65 columns]"
      ]
     },
     "execution_count": 10,
     "metadata": {},
     "output_type": "execute_result"
    }
   ],
   "source": [
    "df.describe()"
   ]
  },
  {
   "cell_type": "code",
   "execution_count": 12,
   "metadata": {},
   "outputs": [
    {
     "data": {
      "text/plain": [
       "Year                        int64\n",
       "Drought Count               int64\n",
       "Drought Cost              float64\n",
       "Drought Lower 75          float64\n",
       "Drought Upper 75          float64\n",
       "                           ...   \n",
       "All Disasters Upper 75    float64\n",
       "All Disasters Lower 90    float64\n",
       "All Disasters Upper 90    float64\n",
       "All Disasters Lower 95    float64\n",
       "All Disasters Upper 95    float64\n",
       "Length: 65, dtype: object"
      ]
     },
     "execution_count": 12,
     "metadata": {},
     "output_type": "execute_result"
    }
   ],
   "source": [
    "df.dtypes"
   ]
  },
  {
   "cell_type": "code",
   "execution_count": 20,
   "metadata": {},
   "outputs": [
    {
     "data": {
      "text/plain": [
       "Index(['Year', 'Drought Count', 'Drought Cost', 'Drought Lower 75',\n",
       "       'Drought Upper 75', 'Drought Lower 90', 'Drought Upper 90',\n",
       "       'Drought Lower 95', 'Drought Upper 95', 'Flooding Count',\n",
       "       'Flooding Cost', 'Flooding Lower 75', 'Flooding Upper 75',\n",
       "       'Flooding Lower 90', 'Flooding Upper 90', 'Flooding Lower 95',\n",
       "       'Flooding Upper 95', 'Freeze Count', 'Freeze Cost', 'Freeze Lower 75',\n",
       "       'Freeze Upper 75', 'Freeze Lower 90', 'Freeze Upper 90',\n",
       "       'Freeze Lower 95', 'Freeze Upper 95', 'Severe Storm Count',\n",
       "       'Severe Storm Cost', 'Severe Storm Lower 75', 'Severe Storm Upper 75',\n",
       "       'Severe Storm Lower 90', 'Severe Storm Upper 90',\n",
       "       'Severe Storm Lower 95', 'Severe Storm Upper 95',\n",
       "       'Tropical Cyclone Count', 'Tropical Cyclone Cost',\n",
       "       'Tropical Cyclone Lower 75', 'Tropical Cyclone Upper 75',\n",
       "       'Tropical Cyclone Lower 90', 'Tropical Cyclone Upper 90',\n",
       "       'Tropical Cyclone Lower 95', 'Tropical Cyclone Upper 95',\n",
       "       'Wildfire Count', 'Wildfire Cost', 'Wildfire Lower 75',\n",
       "       'Wildfire Upper 75', 'Wildfire Lower 90', 'Wildfire Upper 90',\n",
       "       'Wildfire Lower 95', 'Wildfire Upper 95', 'Winter Storm Count',\n",
       "       'Winter Storm Cost', 'Winter Storm Lower 75', 'Winter Storm Upper 75',\n",
       "       'Winter Storm Lower 90', 'Winter Storm Upper 90',\n",
       "       'Winter Storm Lower 95', 'Winter Storm Upper 95', 'All Disasters Count',\n",
       "       'All Disasters Cost', 'All Disasters Lower 75',\n",
       "       'All Disasters Upper 75', 'All Disasters Lower 90',\n",
       "       'All Disasters Upper 90', 'All Disasters Lower 95',\n",
       "       'All Disasters Upper 95'],\n",
       "      dtype='object')"
      ]
     },
     "execution_count": 20,
     "metadata": {},
     "output_type": "execute_result"
    }
   ],
   "source": [
    "df.columns"
   ]
  },
  {
   "cell_type": "code",
   "execution_count": 12,
   "metadata": {},
   "outputs": [],
   "source": [
    "X = df.drop(['All Disasters Cost'],axis=1)\n",
    "y = df['All Disasters Cost']"
   ]
  },
  {
   "cell_type": "code",
   "execution_count": 15,
   "metadata": {},
   "outputs": [
    {
     "data": {
      "text/plain": [
       "Index(['Year', 'Drought Count', 'Drought Cost', 'Drought Lower 75',\n",
       "       'Drought Upper 75', 'Drought Lower 90', 'Drought Upper 90',\n",
       "       'Drought Lower 95', 'Drought Upper 95', 'Flooding Count',\n",
       "       'Flooding Cost', 'Flooding Lower 75', 'Flooding Upper 75',\n",
       "       'Flooding Lower 90', 'Flooding Upper 90', 'Flooding Lower 95',\n",
       "       'Flooding Upper 95', 'Freeze Count', 'Freeze Cost', 'Freeze Lower 75',\n",
       "       'Freeze Upper 75', 'Freeze Lower 90', 'Freeze Upper 90',\n",
       "       'Freeze Lower 95', 'Freeze Upper 95', 'Severe Storm Count',\n",
       "       'Severe Storm Cost', 'Severe Storm Lower 75', 'Severe Storm Upper 75',\n",
       "       'Severe Storm Lower 90', 'Severe Storm Upper 90',\n",
       "       'Severe Storm Lower 95', 'Severe Storm Upper 95',\n",
       "       'Tropical Cyclone Count', 'Tropical Cyclone Cost',\n",
       "       'Tropical Cyclone Lower 75', 'Tropical Cyclone Upper 75',\n",
       "       'Tropical Cyclone Lower 90', 'Tropical Cyclone Upper 90',\n",
       "       'Tropical Cyclone Lower 95', 'Tropical Cyclone Upper 95',\n",
       "       'Wildfire Count', 'Wildfire Cost', 'Wildfire Lower 75',\n",
       "       'Wildfire Upper 75', 'Wildfire Lower 90', 'Wildfire Upper 90',\n",
       "       'Wildfire Lower 95', 'Wildfire Upper 95', 'Winter Storm Count',\n",
       "       'Winter Storm Cost', 'Winter Storm Lower 75', 'Winter Storm Upper 75',\n",
       "       'Winter Storm Lower 90', 'Winter Storm Upper 90',\n",
       "       'Winter Storm Lower 95', 'Winter Storm Upper 95', 'All Disasters Count',\n",
       "       'All Disasters Lower 75', 'All Disasters Upper 75',\n",
       "       'All Disasters Lower 90', 'All Disasters Upper 90',\n",
       "       'All Disasters Lower 95', 'All Disasters Upper 95'],\n",
       "      dtype='object')"
      ]
     },
     "execution_count": 15,
     "metadata": {},
     "output_type": "execute_result"
    }
   ],
   "source": [
    "X.columns"
   ]
  },
  {
   "cell_type": "markdown",
   "metadata": {},
   "source": [
    "## Linear Regression"
   ]
  },
  {
   "cell_type": "code",
   "execution_count": 20,
   "metadata": {},
   "outputs": [],
   "source": [
    "from sklearn.model_selection import train_test_split\n",
    "from sklearn.linear_model import LinearRegression\n",
    "X_train, X_test, y_train, y_test = train_test_split(X, y, test_size=0.2, random_state=1)"
   ]
  },
  {
   "cell_type": "code",
   "execution_count": 21,
   "metadata": {},
   "outputs": [
    {
     "data": {
      "text/plain": [
       "LinearRegression()"
      ]
     },
     "execution_count": 21,
     "metadata": {},
     "output_type": "execute_result"
    }
   ],
   "source": [
    "model = LinearRegression()\n",
    "model.fit(X_train,y_train)"
   ]
  },
  {
   "cell_type": "code",
   "execution_count": 26,
   "metadata": {},
   "outputs": [
    {
     "name": "stdout",
     "output_type": "stream",
     "text": [
      "coefficient of determination: 1.0\n"
     ]
    }
   ],
   "source": [
    "r_sq = model.score(X_train,y_train)\n",
    "print('coefficient of determination:', r_sq)"
   ]
  },
  {
   "cell_type": "code",
   "execution_count": 30,
   "metadata": {},
   "outputs": [
    {
     "name": "stdout",
     "output_type": "stream",
     "text": [
      "intercept: -7.450858432472394\n",
      "slope: [ 3.74980294e-03  5.60467303e-02  9.10323847e-01 -1.01010639e-01\n",
      "  1.36598583e-01 -7.86087783e-03  2.52320086e-02  4.01285221e-02\n",
      " -3.38005360e-01 -2.88107189e-01  8.17604561e-01  5.21109585e-02\n",
      "  1.31764606e-02 -2.07016535e-01  6.26846104e-02 -9.82055849e-02\n",
      " -1.89499693e-02  8.58774811e-02  2.01549720e-01  1.66452864e-01\n",
      " -8.23292496e-02  1.70969375e-01  3.59275064e-02 -1.81465198e-02\n",
      "  1.67942321e-01  4.65538032e-02  7.93178524e-01 -1.33086738e-01\n",
      " -3.33309933e-01  1.73242045e-01  1.27258949e-01  1.56163653e-02\n",
      "  3.60969403e-03  5.38345305e-02  7.50281912e-01 -2.00324047e-01\n",
      "  1.67034786e-01  8.13257811e-02 -2.08330711e-01  3.18655607e-02\n",
      "  2.20879328e-02  2.17273859e-02  1.71345026e-01  4.53105219e-03\n",
      " -3.49206155e-02  8.02758873e-02  3.25644630e-02 -1.40848316e-02\n",
      "  2.85400128e-01  2.39296524e-02  3.68068197e-01  4.08915816e-02\n",
      "  2.94712574e-01  6.76013442e-02  4.82490497e-02 -8.70819096e-02\n",
      " -1.24515110e-01 -1.37605973e-04 -1.70434968e-01  1.60962606e-01\n",
      "  3.58537020e-01  1.23585877e-01 -1.29908398e-01 -2.43036362e-03]\n"
     ]
    }
   ],
   "source": [
    "print('intercept:', model.intercept_)\n",
    "print('slope:', model.coef_)"
   ]
  },
  {
   "cell_type": "code",
   "execution_count": 31,
   "metadata": {},
   "outputs": [],
   "source": [
    "y_pred = model.predict(X_test)"
   ]
  },
  {
   "cell_type": "code",
   "execution_count": 35,
   "metadata": {},
   "outputs": [
    {
     "name": "stdout",
     "output_type": "stream",
     "text": [
      "The Mean Square Error(MSE):  0.4602252033860975\n",
      "R square: 0.998992734226704\n"
     ]
    }
   ],
   "source": [
    "from sklearn.metrics import mean_squared_error\n",
    "mse = mean_squared_error(y_pred, y_test)\n",
    "R_square = model.score(X_test,y_test)\n",
    "print('The Mean Square Error(MSE): ',mse)\n",
    "print('R square:',R_square)"
   ]
  },
  {
   "cell_type": "code",
   "execution_count": 36,
   "metadata": {},
   "outputs": [],
   "source": [
    "from sklearn.preprocessing import StandardScaler\n",
    "from sklearn.pipeline import Pipeline"
   ]
  },
  {
   "cell_type": "code",
   "execution_count": 38,
   "metadata": {},
   "outputs": [],
   "source": [
    "pipeline = Pipeline([('std_scalar', StandardScaler())])\n",
    "\n",
    "X_train = pipeline.fit_transform(X_train)\n",
    "X_test = pipeline.transform(X_test)"
   ]
  },
  {
   "cell_type": "code",
   "execution_count": 40,
   "metadata": {},
   "outputs": [
    {
     "data": {
      "text/html": [
       "<div>\n",
       "<style scoped>\n",
       "    .dataframe tbody tr th:only-of-type {\n",
       "        vertical-align: middle;\n",
       "    }\n",
       "\n",
       "    .dataframe tbody tr th {\n",
       "        vertical-align: top;\n",
       "    }\n",
       "\n",
       "    .dataframe thead th {\n",
       "        text-align: right;\n",
       "    }\n",
       "</style>\n",
       "<table border=\"1\" class=\"dataframe\">\n",
       "  <thead>\n",
       "    <tr style=\"text-align: right;\">\n",
       "      <th></th>\n",
       "      <th>Coefficient</th>\n",
       "    </tr>\n",
       "  </thead>\n",
       "  <tbody>\n",
       "    <tr>\n",
       "      <th>Year</th>\n",
       "      <td>0.003750</td>\n",
       "    </tr>\n",
       "    <tr>\n",
       "      <th>Drought Count</th>\n",
       "      <td>0.056047</td>\n",
       "    </tr>\n",
       "    <tr>\n",
       "      <th>Drought Cost</th>\n",
       "      <td>0.910324</td>\n",
       "    </tr>\n",
       "    <tr>\n",
       "      <th>Drought Lower 75</th>\n",
       "      <td>-0.101011</td>\n",
       "    </tr>\n",
       "    <tr>\n",
       "      <th>Drought Upper 75</th>\n",
       "      <td>0.136599</td>\n",
       "    </tr>\n",
       "    <tr>\n",
       "      <th>...</th>\n",
       "      <td>...</td>\n",
       "    </tr>\n",
       "    <tr>\n",
       "      <th>All Disasters Upper 75</th>\n",
       "      <td>0.160963</td>\n",
       "    </tr>\n",
       "    <tr>\n",
       "      <th>All Disasters Lower 90</th>\n",
       "      <td>0.358537</td>\n",
       "    </tr>\n",
       "    <tr>\n",
       "      <th>All Disasters Upper 90</th>\n",
       "      <td>0.123586</td>\n",
       "    </tr>\n",
       "    <tr>\n",
       "      <th>All Disasters Lower 95</th>\n",
       "      <td>-0.129908</td>\n",
       "    </tr>\n",
       "    <tr>\n",
       "      <th>All Disasters Upper 95</th>\n",
       "      <td>-0.002430</td>\n",
       "    </tr>\n",
       "  </tbody>\n",
       "</table>\n",
       "<p>64 rows × 1 columns</p>\n",
       "</div>"
      ],
      "text/plain": [
       "                        Coefficient\n",
       "Year                       0.003750\n",
       "Drought Count              0.056047\n",
       "Drought Cost               0.910324\n",
       "Drought Lower 75          -0.101011\n",
       "Drought Upper 75           0.136599\n",
       "...                             ...\n",
       "All Disasters Upper 75     0.160963\n",
       "All Disasters Lower 90     0.358537\n",
       "All Disasters Upper 90     0.123586\n",
       "All Disasters Lower 95    -0.129908\n",
       "All Disasters Upper 95    -0.002430\n",
       "\n",
       "[64 rows x 1 columns]"
      ]
     },
     "execution_count": 40,
     "metadata": {},
     "output_type": "execute_result"
    }
   ],
   "source": [
    "coeff_df = pd.DataFrame(model.coef_, X.columns, columns=['Coefficient'])\n",
    "coeff_df"
   ]
  },
  {
   "cell_type": "code",
   "execution_count": 41,
   "metadata": {},
   "outputs": [],
   "source": [
    "pred = model.predict(X_test)"
   ]
  },
  {
   "cell_type": "code",
   "execution_count": 45,
   "metadata": {},
   "outputs": [
    {
     "data": {
      "image/png": "[encoded data removed]",
      "text/plain": [
       "<Figure size 432x288 with 1 Axes>"
      ]
     },
     "metadata": {
      "needs_background": "light"
     },
     "output_type": "display_data"
    }
   ],
   "source": [
    "plt.scatter(y_test, pred,  color='red')\n",
    "plt.show()"
   ]
  },
  {
   "cell_type": "code",
   "execution_count": 48,
   "metadata": {},
   "outputs": [],
   "source": [
    "from sklearn import metrics\n",
    "from sklearn.model_selection import cross_val_score\n",
    "from sklearn.metrics import mean_absolute_error\n",
    "from sklearn.metrics import mean_squared_error\n",
    "\n",
    "def cross_val(model):\n",
    "    pred = cross_val_score(model,X,y,cv=10)\n",
    "    return pred.mean()"
   ]
  },
  {
   "cell_type": "code",
   "execution_count": 51,
   "metadata": {},
   "outputs": [],
   "source": [
    "def print_evaluate(true, predicted):\n",
    "    mae = mean_absolute_error(true,predicted)\n",
    "    mse = mean_squared_error(true,predicted)\n",
    "    rmse = np.sqrt(metrics.mean_squared_error(true, predicted))\n",
    "    r2_square = metrics.r2_score(true, predicted)\n",
    "    print('MAE:', mae)\n",
    "    print('MSE:', mse)\n",
    "    print('RMSE:', rmse)\n",
    "    print('R2 Square', r2_square)\n",
    "    print('__________________________________')"
   ]
  },
  {
   "cell_type": "code",
   "execution_count": 54,
   "metadata": {},
   "outputs": [],
   "source": [
    "def evaluate(true, predicted):\n",
    "    mae = metrics.mean_absolute_error(true, predicted)\n",
    "    mse = metrics.mean_squared_error(true, predicted)\n",
    "    rmse = np.sqrt(metrics.mean_squared_error(true, predicted))\n",
    "    r2_square = metrics.r2_score(true, predicted)\n",
    "    return mae, mse, rmse, r2_square"
   ]
  },
  {
   "cell_type": "code",
   "execution_count": 55,
   "metadata": {},
   "outputs": [
    {
     "name": "stdout",
     "output_type": "stream",
     "text": [
      "MAE: 37.72858837610248\n",
      "MSE: 1823.6034040712948\n",
      "RMSE: 42.703669679212524\n",
      "R2 Square -2.9912053478871776\n",
      "__________________________________\n",
      "MAE: 57.64176752338149\n",
      "MSE: 7609.04242797563\n",
      "RMSE: 87.22982533500586\n",
      "R2 Square -0.697261880466526\n",
      "__________________________________\n"
     ]
    }
   ],
   "source": [
    "test_pred = model.predict(X_test)\n",
    "train_pred = model.predict(X_train)\n",
    "print_evaluate(y_test, test_pred)\n",
    "print_evaluate(y_train, train_pred)"
   ]
  },
  {
   "cell_type": "code",
   "execution_count": 56,
   "metadata": {},
   "outputs": [
    {
     "data": {
      "text/html": [
       "<div>\n",
       "<style scoped>\n",
       "    .dataframe tbody tr th:only-of-type {\n",
       "        vertical-align: middle;\n",
       "    }\n",
       "\n",
       "    .dataframe tbody tr th {\n",
       "        vertical-align: top;\n",
       "    }\n",
       "\n",
       "    .dataframe thead th {\n",
       "        text-align: right;\n",
       "    }\n",
       "</style>\n",
       "<table border=\"1\" class=\"dataframe\">\n",
       "  <thead>\n",
       "    <tr style=\"text-align: right;\">\n",
       "      <th></th>\n",
       "      <th>Model</th>\n",
       "      <th>MAE</th>\n",
       "      <th>MSE</th>\n",
       "      <th>RMSE</th>\n",
       "      <th>R2 Square</th>\n",
       "      <th>Cross Validation</th>\n",
       "    </tr>\n",
       "  </thead>\n",
       "  <tbody>\n",
       "    <tr>\n",
       "      <th>0</th>\n",
       "      <td>Linear Regression</td>\n",
       "      <td>37.728588</td>\n",
       "      <td>1823.603404</td>\n",
       "      <td>42.70367</td>\n",
       "      <td>-2.991205</td>\n",
       "      <td>0.999551</td>\n",
       "    </tr>\n",
       "  </tbody>\n",
       "</table>\n",
       "</div>"
      ],
      "text/plain": [
       "               Model        MAE          MSE      RMSE  R2 Square  \\\n",
       "0  Linear Regression  37.728588  1823.603404  42.70367  -2.991205   \n",
       "\n",
       "   Cross Validation  \n",
       "0          0.999551  "
      ]
     },
     "execution_count": 56,
     "metadata": {},
     "output_type": "execute_result"
    }
   ],
   "source": [
    "res = pd.DataFrame(data=[[\"Linear Regression\", *evaluate(y_test, test_pred) , cross_val(LinearRegression())]], \n",
    "                          columns=['Model', 'MAE', 'MSE', 'RMSE', 'R2 Square', \"Cross Validation\"])\n",
    "res"
   ]
  },
  {
   "cell_type": "markdown",
   "metadata": {},
   "source": [
    "## Supoort Vector Machine"
   ]
  },
  {
   "cell_type": "code",
   "execution_count": 58,
   "metadata": {},
   "outputs": [],
   "source": [
    "from sklearn.svm import SVR\n",
    "sv_regressor = SVR(kernel='rbf').fit(X, y)"
   ]
  },
  {
   "cell_type": "code",
   "execution_count": 59,
   "metadata": {},
   "outputs": [],
   "source": [
    "pred = sv_regressor.predict(X_test)"
   ]
  },
  {
   "cell_type": "code",
   "execution_count": 61,
   "metadata": {},
   "outputs": [
    {
     "data": {
      "image/png": "[encoded data removed]",
      "text/plain": [
       "<Figure size 432x288 with 1 Axes>"
      ]
     },
     "metadata": {
      "needs_background": "light"
     },
     "output_type": "display_data"
    }
   ],
   "source": [
    "plt.scatter(y_test, pred)\n",
    "plt.show()"
   ]
  },
  {
   "cell_type": "code",
   "execution_count": 62,
   "metadata": {},
   "outputs": [
    {
     "name": "stdout",
     "output_type": "stream",
     "text": [
      "Test set evaluation:\n",
      "_____________________________________\n",
      "MAE: 15.24114570056468\n",
      "MSE: 484.81219571175797\n",
      "RMSE: 22.018451255975247\n",
      "R2 Square -0.06107776719748004\n",
      "__________________________________\n",
      "Train set evaluation:\n",
      "_____________________________________\n",
      "MAE: 36.71159925582261\n",
      "MSE: 5136.3743362634505\n",
      "RMSE: 71.66850309768895\n",
      "R2 Square -0.14571215067673826\n",
      "__________________________________\n"
     ]
    }
   ],
   "source": [
    "test_pred = sv_regressor.predict(X_test)\n",
    "train_pred = sv_regressor.predict(X_train)\n",
    "\n",
    "print('Test set evaluation:\\n_____________________________________')\n",
    "print_evaluate(y_test, test_pred)\n",
    "print('Train set evaluation:\\n_____________________________________')\n",
    "print_evaluate(y_train, train_pred)"
   ]
  },
  {
   "cell_type": "code",
   "execution_count": 63,
   "metadata": {},
   "outputs": [
    {
     "data": {
      "text/html": [
       "<div>\n",
       "<style scoped>\n",
       "    .dataframe tbody tr th:only-of-type {\n",
       "        vertical-align: middle;\n",
       "    }\n",
       "\n",
       "    .dataframe tbody tr th {\n",
       "        vertical-align: top;\n",
       "    }\n",
       "\n",
       "    .dataframe thead th {\n",
       "        text-align: right;\n",
       "    }\n",
       "</style>\n",
       "<table border=\"1\" class=\"dataframe\">\n",
       "  <thead>\n",
       "    <tr style=\"text-align: right;\">\n",
       "      <th></th>\n",
       "      <th>Model</th>\n",
       "      <th>MAE</th>\n",
       "      <th>MSE</th>\n",
       "      <th>RMSE</th>\n",
       "      <th>R2 Square</th>\n",
       "      <th>Cross Validation</th>\n",
       "    </tr>\n",
       "  </thead>\n",
       "  <tbody>\n",
       "    <tr>\n",
       "      <th>0</th>\n",
       "      <td>Linear Regression</td>\n",
       "      <td>37.728588</td>\n",
       "      <td>1823.603404</td>\n",
       "      <td>42.703670</td>\n",
       "      <td>-2.991205</td>\n",
       "      <td>0.999551</td>\n",
       "    </tr>\n",
       "    <tr>\n",
       "      <th>1</th>\n",
       "      <td>Support vector regressor</td>\n",
       "      <td>15.241146</td>\n",
       "      <td>484.812196</td>\n",
       "      <td>22.018451</td>\n",
       "      <td>-0.061078</td>\n",
       "      <td>-0.653166</td>\n",
       "    </tr>\n",
       "  </tbody>\n",
       "</table>\n",
       "</div>"
      ],
      "text/plain": [
       "                      Model        MAE          MSE       RMSE  R2 Square  \\\n",
       "0         Linear Regression  37.728588  1823.603404  42.703670  -2.991205   \n",
       "1  Support vector regressor  15.241146   484.812196  22.018451  -0.061078   \n",
       "\n",
       "   Cross Validation  \n",
       "0          0.999551  \n",
       "1         -0.653166  "
      ]
     },
     "execution_count": 63,
     "metadata": {},
     "output_type": "execute_result"
    }
   ],
   "source": [
    "res_1 = pd.DataFrame(data=[[\"Support vector regressor\", *evaluate(y_test, test_pred) , cross_val(SVR())]], \n",
    "                            columns=['Model', 'MAE', 'MSE', 'RMSE', 'R2 Square', \"Cross Validation\"])\n",
    "res = res.append(res_1, ignore_index=True)\n",
    "res"
   ]
  },
  {
   "cell_type": "markdown",
   "metadata": {},
   "source": [
    "## Stochastic Gradient Descent"
   ]
  },
  {
   "cell_type": "code",
   "execution_count": 65,
   "metadata": {},
   "outputs": [
    {
     "data": {
      "text/plain": [
       "SGDRegressor(eta0=0.0001, max_iter=100000, n_iter_no_change=300)"
      ]
     },
     "execution_count": 65,
     "metadata": {},
     "output_type": "execute_result"
    }
   ],
   "source": [
    "from sklearn.linear_model import SGDRegressor\n",
    "\n",
    "sgd_reg = SGDRegressor(n_iter_no_change=300,eta0 = 0.0001, max_iter=100000)\n",
    "sgd_reg.fit(X_train, y_train)"
   ]
  },
  {
   "cell_type": "code",
   "execution_count": 67,
   "metadata": {},
   "outputs": [
    {
     "name": "stdout",
     "output_type": "stream",
     "text": [
      "Test set evaluation:\n",
      "_____________________________________\n",
      "MAE: 3.3065485732217694\n",
      "MSE: 15.147379242397157\n",
      "RMSE: 3.8919634174022186\n",
      "R2 Square 0.966847889785817\n",
      "__________________________________\n",
      "====================================\n",
      "Train set evaluation:\n",
      "_____________________________________\n",
      "MAE: 2.78168956743243\n",
      "MSE: 8.501520843471695\n",
      "RMSE: 2.9157367582605422\n",
      "R2 Square 0.9981036631888706\n",
      "__________________________________\n"
     ]
    }
   ],
   "source": [
    "test_pred = sgd_reg.predict(X_test)\n",
    "train_pred = sgd_reg.predict(X_train)\n",
    "\n",
    "print('Test set evaluation:\\n_____________________________________')\n",
    "print_evaluate(y_test, test_pred)\n",
    "print('====================================')\n",
    "print('Train set evaluation:\\n_____________________________________')\n",
    "print_evaluate(y_train, train_pred)"
   ]
  },
  {
   "cell_type": "code",
   "execution_count": 68,
   "metadata": {},
   "outputs": [
    {
     "data": {
      "text/html": [
       "<div>\n",
       "<style scoped>\n",
       "    .dataframe tbody tr th:only-of-type {\n",
       "        vertical-align: middle;\n",
       "    }\n",
       "\n",
       "    .dataframe tbody tr th {\n",
       "        vertical-align: top;\n",
       "    }\n",
       "\n",
       "    .dataframe thead th {\n",
       "        text-align: right;\n",
       "    }\n",
       "</style>\n",
       "<table border=\"1\" class=\"dataframe\">\n",
       "  <thead>\n",
       "    <tr style=\"text-align: right;\">\n",
       "      <th></th>\n",
       "      <th>Model</th>\n",
       "      <th>MAE</th>\n",
       "      <th>MSE</th>\n",
       "      <th>RMSE</th>\n",
       "      <th>R2 Square</th>\n",
       "      <th>Cross Validation</th>\n",
       "    </tr>\n",
       "  </thead>\n",
       "  <tbody>\n",
       "    <tr>\n",
       "      <th>0</th>\n",
       "      <td>Linear Regression</td>\n",
       "      <td>37.728588</td>\n",
       "      <td>1823.603404</td>\n",
       "      <td>42.703670</td>\n",
       "      <td>-2.991205</td>\n",
       "      <td>0.999551</td>\n",
       "    </tr>\n",
       "    <tr>\n",
       "      <th>1</th>\n",
       "      <td>Support vector regressor</td>\n",
       "      <td>15.241146</td>\n",
       "      <td>484.812196</td>\n",
       "      <td>22.018451</td>\n",
       "      <td>-0.061078</td>\n",
       "      <td>-0.653166</td>\n",
       "    </tr>\n",
       "    <tr>\n",
       "      <th>2</th>\n",
       "      <td>Stochastic Gradient Descent</td>\n",
       "      <td>3.306549</td>\n",
       "      <td>15.147379</td>\n",
       "      <td>3.891963</td>\n",
       "      <td>0.966848</td>\n",
       "      <td>0.000000</td>\n",
       "    </tr>\n",
       "  </tbody>\n",
       "</table>\n",
       "</div>"
      ],
      "text/plain": [
       "                         Model        MAE          MSE       RMSE  R2 Square  \\\n",
       "0            Linear Regression  37.728588  1823.603404  42.703670  -2.991205   \n",
       "1     Support vector regressor  15.241146   484.812196  22.018451  -0.061078   \n",
       "2  Stochastic Gradient Descent   3.306549    15.147379   3.891963   0.966848   \n",
       "\n",
       "   Cross Validation  \n",
       "0          0.999551  \n",
       "1         -0.653166  \n",
       "2          0.000000  "
      ]
     },
     "execution_count": 68,
     "metadata": {},
     "output_type": "execute_result"
    }
   ],
   "source": [
    "res_2 = pd.DataFrame(data=[[\"Stochastic Gradient Descent\", *evaluate(y_test, test_pred) , 0]], \n",
    "                            columns=['Model', 'MAE', 'MSE', 'RMSE', 'R2 Square', \"Cross Validation\"])\n",
    "res = res.append(res_2, ignore_index=True)\n",
    "res"
   ]
  },
  {
   "cell_type": "markdown",
   "metadata": {},
   "source": [
    "## Decision Tree Regressor"
   ]
  },
  {
   "cell_type": "code",
   "execution_count": 70,
   "metadata": {},
   "outputs": [],
   "source": [
    "from sklearn.tree import DecisionTreeRegressor\n",
    "dt_regressor = DecisionTreeRegressor(random_state=0).fit(X, y)"
   ]
  },
  {
   "cell_type": "code",
   "execution_count": 71,
   "metadata": {},
   "outputs": [
    {
     "data": {
      "text/plain": [
       "DecisionTreeRegressor(random_state=0)"
      ]
     },
     "execution_count": 71,
     "metadata": {},
     "output_type": "execute_result"
    }
   ],
   "source": [
    "dt_regressor.fit(X_train, y_train)"
   ]
  },
  {
   "cell_type": "code",
   "execution_count": 73,
   "metadata": {},
   "outputs": [
    {
     "name": "stdout",
     "output_type": "stream",
     "text": [
      "Test set evaluation:\n",
      "_____________________________________\n",
      "MAE: 5.966666666666667\n",
      "MSE: 109.27444444444447\n",
      "RMSE: 10.453441751138449\n",
      "R2 Square 0.7608379398281623\n",
      "__________________________________\n",
      "====================================\n",
      "Train set evaluation:\n",
      "_____________________________________\n",
      "MAE: 0.0\n",
      "MSE: 0.0\n",
      "RMSE: 0.0\n",
      "R2 Square 1.0\n",
      "__________________________________\n"
     ]
    }
   ],
   "source": [
    "test_pred = dt_regressor.predict(X_test)\n",
    "train_pred = dt_regressor.predict(X_train)\n",
    "\n",
    "print('Test set evaluation:\\n_____________________________________')\n",
    "print_evaluate(y_test, test_pred)\n",
    "print('====================================')\n",
    "print('Train set evaluation:\\n_____________________________________')\n",
    "print_evaluate(y_train, train_pred)"
   ]
  },
  {
   "cell_type": "code",
   "execution_count": 74,
   "metadata": {},
   "outputs": [
    {
     "data": {
      "text/html": [
       "<div>\n",
       "<style scoped>\n",
       "    .dataframe tbody tr th:only-of-type {\n",
       "        vertical-align: middle;\n",
       "    }\n",
       "\n",
       "    .dataframe tbody tr th {\n",
       "        vertical-align: top;\n",
       "    }\n",
       "\n",
       "    .dataframe thead th {\n",
       "        text-align: right;\n",
       "    }\n",
       "</style>\n",
       "<table border=\"1\" class=\"dataframe\">\n",
       "  <thead>\n",
       "    <tr style=\"text-align: right;\">\n",
       "      <th></th>\n",
       "      <th>Model</th>\n",
       "      <th>MAE</th>\n",
       "      <th>MSE</th>\n",
       "      <th>RMSE</th>\n",
       "      <th>R2 Square</th>\n",
       "      <th>Cross Validation</th>\n",
       "    </tr>\n",
       "  </thead>\n",
       "  <tbody>\n",
       "    <tr>\n",
       "      <th>0</th>\n",
       "      <td>Linear Regression</td>\n",
       "      <td>37.728588</td>\n",
       "      <td>1823.603404</td>\n",
       "      <td>42.703670</td>\n",
       "      <td>-2.991205</td>\n",
       "      <td>0.999551</td>\n",
       "    </tr>\n",
       "    <tr>\n",
       "      <th>1</th>\n",
       "      <td>Support vector regressor</td>\n",
       "      <td>15.241146</td>\n",
       "      <td>484.812196</td>\n",
       "      <td>22.018451</td>\n",
       "      <td>-0.061078</td>\n",
       "      <td>-0.653166</td>\n",
       "    </tr>\n",
       "    <tr>\n",
       "      <th>2</th>\n",
       "      <td>Stochastic Gradient Descent</td>\n",
       "      <td>3.306549</td>\n",
       "      <td>15.147379</td>\n",
       "      <td>3.891963</td>\n",
       "      <td>0.966848</td>\n",
       "      <td>0.000000</td>\n",
       "    </tr>\n",
       "    <tr>\n",
       "      <th>3</th>\n",
       "      <td>Decision Tree Regressor</td>\n",
       "      <td>5.966667</td>\n",
       "      <td>109.274444</td>\n",
       "      <td>10.453442</td>\n",
       "      <td>0.760838</td>\n",
       "      <td>0.000000</td>\n",
       "    </tr>\n",
       "  </tbody>\n",
       "</table>\n",
       "</div>"
      ],
      "text/plain": [
       "                         Model        MAE          MSE       RMSE  R2 Square  \\\n",
       "0            Linear Regression  37.728588  1823.603404  42.703670  -2.991205   \n",
       "1     Support vector regressor  15.241146   484.812196  22.018451  -0.061078   \n",
       "2  Stochastic Gradient Descent   3.306549    15.147379   3.891963   0.966848   \n",
       "3      Decision Tree Regressor   5.966667   109.274444  10.453442   0.760838   \n",
       "\n",
       "   Cross Validation  \n",
       "0          0.999551  \n",
       "1         -0.653166  \n",
       "2          0.000000  \n",
       "3          0.000000  "
      ]
     },
     "execution_count": 74,
     "metadata": {},
     "output_type": "execute_result"
    }
   ],
   "source": [
    "res_3 = pd.DataFrame(data=[[\"Decision Tree Regressor\", *evaluate(y_test, test_pred) , 0]], \n",
    "                            columns=['Model', 'MAE', 'MSE', 'RMSE', 'R2 Square', \"Cross Validation\"])\n",
    "res = res.append(res_3, ignore_index=True)\n",
    "res"
   ]
  },
  {
   "cell_type": "markdown",
   "metadata": {},
   "source": [
    "## Random Forest Regressor"
   ]
  },
  {
   "cell_type": "code",
   "execution_count": 76,
   "metadata": {},
   "outputs": [],
   "source": [
    "from  sklearn.ensemble import RandomForestRegressor\n",
    "rf_regressor = RandomForestRegressor(n_estimators=50, random_state=0).fit(X, y)"
   ]
  },
  {
   "cell_type": "code",
   "execution_count": 78,
   "metadata": {},
   "outputs": [
    {
     "name": "stdout",
     "output_type": "stream",
     "text": [
      "Test set evaluation:\n",
      "_____________________________________\n",
      "MAE: 2.624888888888889\n",
      "MSE: 15.51850133333336\n",
      "RMSE: 3.9393529079448264\n",
      "R2 Square 0.9660356383550747\n",
      "__________________________________\n",
      "====================================\n",
      "Train set evaluation:\n",
      "_____________________________________\n",
      "MAE: 4.730121212121218\n",
      "MSE: 124.1994078787884\n",
      "RMSE: 11.14447880696035\n",
      "R2 Square 0.9722962616433637\n",
      "__________________________________\n"
     ]
    }
   ],
   "source": [
    "rf_regressor.fit(X_train, y_train)\n",
    "\n",
    "test_pred = rf_regressor.predict(X_test)\n",
    "train_pred = rf_regressor.predict(X_train)\n",
    "\n",
    "print('Test set evaluation:\\n_____________________________________')\n",
    "print_evaluate(y_test, test_pred)\n",
    "print('====================================')\n",
    "print('Train set evaluation:\\n_____________________________________')\n",
    "print_evaluate(y_train, train_pred)"
   ]
  },
  {
   "cell_type": "code",
   "execution_count": 79,
   "metadata": {},
   "outputs": [
    {
     "data": {
      "text/html": [
       "<div>\n",
       "<style scoped>\n",
       "    .dataframe tbody tr th:only-of-type {\n",
       "        vertical-align: middle;\n",
       "    }\n",
       "\n",
       "    .dataframe tbody tr th {\n",
       "        vertical-align: top;\n",
       "    }\n",
       "\n",
       "    .dataframe thead th {\n",
       "        text-align: right;\n",
       "    }\n",
       "</style>\n",
       "<table border=\"1\" class=\"dataframe\">\n",
       "  <thead>\n",
       "    <tr style=\"text-align: right;\">\n",
       "      <th></th>\n",
       "      <th>Model</th>\n",
       "      <th>MAE</th>\n",
       "      <th>MSE</th>\n",
       "      <th>RMSE</th>\n",
       "      <th>R2 Square</th>\n",
       "      <th>Cross Validation</th>\n",
       "    </tr>\n",
       "  </thead>\n",
       "  <tbody>\n",
       "    <tr>\n",
       "      <th>0</th>\n",
       "      <td>Linear Regression</td>\n",
       "      <td>37.728588</td>\n",
       "      <td>1823.603404</td>\n",
       "      <td>42.703670</td>\n",
       "      <td>-2.991205</td>\n",
       "      <td>0.999551</td>\n",
       "    </tr>\n",
       "    <tr>\n",
       "      <th>1</th>\n",
       "      <td>Support vector regressor</td>\n",
       "      <td>15.241146</td>\n",
       "      <td>484.812196</td>\n",
       "      <td>22.018451</td>\n",
       "      <td>-0.061078</td>\n",
       "      <td>-0.653166</td>\n",
       "    </tr>\n",
       "    <tr>\n",
       "      <th>2</th>\n",
       "      <td>Stochastic Gradient Descent</td>\n",
       "      <td>3.306549</td>\n",
       "      <td>15.147379</td>\n",
       "      <td>3.891963</td>\n",
       "      <td>0.966848</td>\n",
       "      <td>0.000000</td>\n",
       "    </tr>\n",
       "    <tr>\n",
       "      <th>3</th>\n",
       "      <td>Decision Tree Regressor</td>\n",
       "      <td>5.966667</td>\n",
       "      <td>109.274444</td>\n",
       "      <td>10.453442</td>\n",
       "      <td>0.760838</td>\n",
       "      <td>0.000000</td>\n",
       "    </tr>\n",
       "    <tr>\n",
       "      <th>4</th>\n",
       "      <td>Random forest Regressor</td>\n",
       "      <td>2.624889</td>\n",
       "      <td>15.518501</td>\n",
       "      <td>3.939353</td>\n",
       "      <td>0.966036</td>\n",
       "      <td>0.000000</td>\n",
       "    </tr>\n",
       "  </tbody>\n",
       "</table>\n",
       "</div>"
      ],
      "text/plain": [
       "                         Model        MAE          MSE       RMSE  R2 Square  \\\n",
       "0            Linear Regression  37.728588  1823.603404  42.703670  -2.991205   \n",
       "1     Support vector regressor  15.241146   484.812196  22.018451  -0.061078   \n",
       "2  Stochastic Gradient Descent   3.306549    15.147379   3.891963   0.966848   \n",
       "3      Decision Tree Regressor   5.966667   109.274444  10.453442   0.760838   \n",
       "4      Random forest Regressor   2.624889    15.518501   3.939353   0.966036   \n",
       "\n",
       "   Cross Validation  \n",
       "0          0.999551  \n",
       "1         -0.653166  \n",
       "2          0.000000  \n",
       "3          0.000000  \n",
       "4          0.000000  "
      ]
     },
     "execution_count": 79,
     "metadata": {},
     "output_type": "execute_result"
    }
   ],
   "source": [
    "res_4 = pd.DataFrame(data=[[\"Random forest Regressor\", *evaluate(y_test, test_pred) , 0]], \n",
    "                            columns=['Model', 'MAE', 'MSE', 'RMSE', 'R2 Square', \"Cross Validation\"])\n",
    "res = res.append(res_4, ignore_index=True)\n",
    "res"
   ]
  },
  {
   "cell_type": "markdown",
   "metadata": {},
   "source": [
    "## Robust Regressor"
   ]
  },
  {
   "cell_type": "code",
   "execution_count": 81,
   "metadata": {},
   "outputs": [],
   "source": [
    "from sklearn.linear_model import TheilSenRegressor\n",
    "tr_regressor = TheilSenRegressor().fit(X, y)"
   ]
  },
  {
   "cell_type": "code",
   "execution_count": 83,
   "metadata": {},
   "outputs": [
    {
     "name": "stdout",
     "output_type": "stream",
     "text": [
      "Test set evaluation:\n",
      "_____________________________________\n",
      "MAE: 30.08856046941753\n",
      "MSE: 1289.2790241720604\n",
      "RMSE: 35.90653177587694\n",
      "R2 Square -1.8217633969678162\n",
      "__________________________________\n",
      "====================================\n",
      "Train set evaluation:\n",
      "_____________________________________\n",
      "MAE: 50.16299268311427\n",
      "MSE: 6777.576645900331\n",
      "RMSE: 82.32603868704197\n",
      "R2 Square -0.5117963386211846\n",
      "__________________________________\n"
     ]
    }
   ],
   "source": [
    "test_pred = tr_regressor.predict(X_test)\n",
    "train_pred = tr_regressor.predict(X_train)\n",
    "\n",
    "print('Test set evaluation:\\n_____________________________________')\n",
    "print_evaluate(y_test, test_pred)\n",
    "print('====================================')\n",
    "print('Train set evaluation:\\n_____________________________________')\n",
    "print_evaluate(y_train, train_pred)"
   ]
  },
  {
   "cell_type": "code",
   "execution_count": 84,
   "metadata": {},
   "outputs": [
    {
     "data": {
      "text/html": [
       "<div>\n",
       "<style scoped>\n",
       "    .dataframe tbody tr th:only-of-type {\n",
       "        vertical-align: middle;\n",
       "    }\n",
       "\n",
       "    .dataframe tbody tr th {\n",
       "        vertical-align: top;\n",
       "    }\n",
       "\n",
       "    .dataframe thead th {\n",
       "        text-align: right;\n",
       "    }\n",
       "</style>\n",
       "<table border=\"1\" class=\"dataframe\">\n",
       "  <thead>\n",
       "    <tr style=\"text-align: right;\">\n",
       "      <th></th>\n",
       "      <th>Model</th>\n",
       "      <th>MAE</th>\n",
       "      <th>MSE</th>\n",
       "      <th>RMSE</th>\n",
       "      <th>R2 Square</th>\n",
       "      <th>Cross Validation</th>\n",
       "    </tr>\n",
       "  </thead>\n",
       "  <tbody>\n",
       "    <tr>\n",
       "      <th>0</th>\n",
       "      <td>Linear Regression</td>\n",
       "      <td>37.728588</td>\n",
       "      <td>1823.603404</td>\n",
       "      <td>42.703670</td>\n",
       "      <td>-2.991205</td>\n",
       "      <td>0.999551</td>\n",
       "    </tr>\n",
       "    <tr>\n",
       "      <th>1</th>\n",
       "      <td>Support vector regressor</td>\n",
       "      <td>15.241146</td>\n",
       "      <td>484.812196</td>\n",
       "      <td>22.018451</td>\n",
       "      <td>-0.061078</td>\n",
       "      <td>-0.653166</td>\n",
       "    </tr>\n",
       "    <tr>\n",
       "      <th>2</th>\n",
       "      <td>Stochastic Gradient Descent</td>\n",
       "      <td>3.306549</td>\n",
       "      <td>15.147379</td>\n",
       "      <td>3.891963</td>\n",
       "      <td>0.966848</td>\n",
       "      <td>0.000000</td>\n",
       "    </tr>\n",
       "    <tr>\n",
       "      <th>3</th>\n",
       "      <td>Decision Tree Regressor</td>\n",
       "      <td>5.966667</td>\n",
       "      <td>109.274444</td>\n",
       "      <td>10.453442</td>\n",
       "      <td>0.760838</td>\n",
       "      <td>0.000000</td>\n",
       "    </tr>\n",
       "    <tr>\n",
       "      <th>4</th>\n",
       "      <td>Random forest Regressor</td>\n",
       "      <td>2.624889</td>\n",
       "      <td>15.518501</td>\n",
       "      <td>3.939353</td>\n",
       "      <td>0.966036</td>\n",
       "      <td>0.000000</td>\n",
       "    </tr>\n",
       "    <tr>\n",
       "      <th>5</th>\n",
       "      <td>Robust Regression</td>\n",
       "      <td>30.088560</td>\n",
       "      <td>1289.279024</td>\n",
       "      <td>35.906532</td>\n",
       "      <td>-1.821763</td>\n",
       "      <td>0.999750</td>\n",
       "    </tr>\n",
       "  </tbody>\n",
       "</table>\n",
       "</div>"
      ],
      "text/plain": [
       "                         Model        MAE          MSE       RMSE  R2 Square  \\\n",
       "0            Linear Regression  37.728588  1823.603404  42.703670  -2.991205   \n",
       "1     Support vector regressor  15.241146   484.812196  22.018451  -0.061078   \n",
       "2  Stochastic Gradient Descent   3.306549    15.147379   3.891963   0.966848   \n",
       "3      Decision Tree Regressor   5.966667   109.274444  10.453442   0.760838   \n",
       "4      Random forest Regressor   2.624889    15.518501   3.939353   0.966036   \n",
       "5            Robust Regression  30.088560  1289.279024  35.906532  -1.821763   \n",
       "\n",
       "   Cross Validation  \n",
       "0          0.999551  \n",
       "1         -0.653166  \n",
       "2          0.000000  \n",
       "3          0.000000  \n",
       "4          0.000000  \n",
       "5          0.999750  "
      ]
     },
     "execution_count": 84,
     "metadata": {},
     "output_type": "execute_result"
    }
   ],
   "source": [
    "res_5 = pd.DataFrame(data=[[\"Robust Regression\", *evaluate(y_test, test_pred) , cross_val(TheilSenRegressor())]], \n",
    "                            columns=['Model', 'MAE', 'MSE', 'RMSE', 'R2 Square', \"Cross Validation\"])\n",
    "res = res.append(res_5, ignore_index=True)\n",
    "res"
   ]
  },
  {
   "cell_type": "markdown",
   "metadata": {},
   "source": [
    "## Ridge Regressor"
   ]
  },
  {
   "cell_type": "code",
   "execution_count": 85,
   "metadata": {},
   "outputs": [
    {
     "data": {
      "text/plain": [
       "Ridge(alpha=100, random_state=42, tol=0.0005)"
      ]
     },
     "execution_count": 85,
     "metadata": {},
     "output_type": "execute_result"
    }
   ],
   "source": [
    "from sklearn.linear_model import Ridge\n",
    "\n",
    "ridge_regressor = Ridge(alpha=100, tol=0.0005, random_state=42)\n",
    "ridge_regressor.fit(X_train, y_train)"
   ]
  },
  {
   "cell_type": "code",
   "execution_count": 87,
   "metadata": {},
   "outputs": [
    {
     "data": {
      "image/png": "[encoded data removed]",
      "text/plain": [
       "<Figure size 432x288 with 1 Axes>"
      ]
     },
     "metadata": {
      "needs_background": "light"
     },
     "output_type": "display_data"
    }
   ],
   "source": [
    "pred = ridge_regressor.predict(X_test)\n",
    "\n",
    "plt.scatter(y_test, pred)\n",
    "plt.show()"
   ]
  },
  {
   "cell_type": "code",
   "execution_count": 89,
   "metadata": {},
   "outputs": [
    {
     "name": "stdout",
     "output_type": "stream",
     "text": [
      "Test set evaluation:\n",
      "_____________________________________\n",
      "MAE: 5.9219625937002025\n",
      "MSE: 41.27698984496365\n",
      "RMSE: 6.424717102329382\n",
      "R2 Square 0.9096596648996698\n",
      "__________________________________\n",
      "====================================\n",
      "Train set evaluation:\n",
      "_____________________________________\n",
      "MAE: 8.269309668931827\n",
      "MSE: 161.44731621077585\n",
      "RMSE: 12.706192042101987\n",
      "R2 Square 0.9639877976628556\n",
      "__________________________________\n"
     ]
    }
   ],
   "source": [
    "test_pred = ridge_regressor.predict(X_test)\n",
    "train_pred = ridge_regressor.predict(X_train)\n",
    "\n",
    "print('Test set evaluation:\\n_____________________________________')\n",
    "print_evaluate(y_test, test_pred)\n",
    "print('====================================')\n",
    "print('Train set evaluation:\\n_____________________________________')\n",
    "print_evaluate(y_train, train_pred)"
   ]
  },
  {
   "cell_type": "code",
   "execution_count": 90,
   "metadata": {},
   "outputs": [
    {
     "data": {
      "text/html": [
       "<div>\n",
       "<style scoped>\n",
       "    .dataframe tbody tr th:only-of-type {\n",
       "        vertical-align: middle;\n",
       "    }\n",
       "\n",
       "    .dataframe tbody tr th {\n",
       "        vertical-align: top;\n",
       "    }\n",
       "\n",
       "    .dataframe thead th {\n",
       "        text-align: right;\n",
       "    }\n",
       "</style>\n",
       "<table border=\"1\" class=\"dataframe\">\n",
       "  <thead>\n",
       "    <tr style=\"text-align: right;\">\n",
       "      <th></th>\n",
       "      <th>Model</th>\n",
       "      <th>MAE</th>\n",
       "      <th>MSE</th>\n",
       "      <th>RMSE</th>\n",
       "      <th>R2 Square</th>\n",
       "      <th>Cross Validation</th>\n",
       "    </tr>\n",
       "  </thead>\n",
       "  <tbody>\n",
       "    <tr>\n",
       "      <th>0</th>\n",
       "      <td>Linear Regression</td>\n",
       "      <td>37.728588</td>\n",
       "      <td>1823.603404</td>\n",
       "      <td>42.703670</td>\n",
       "      <td>-2.991205</td>\n",
       "      <td>0.999551</td>\n",
       "    </tr>\n",
       "    <tr>\n",
       "      <th>1</th>\n",
       "      <td>Support vector regressor</td>\n",
       "      <td>15.241146</td>\n",
       "      <td>484.812196</td>\n",
       "      <td>22.018451</td>\n",
       "      <td>-0.061078</td>\n",
       "      <td>-0.653166</td>\n",
       "    </tr>\n",
       "    <tr>\n",
       "      <th>2</th>\n",
       "      <td>Stochastic Gradient Descent</td>\n",
       "      <td>3.306549</td>\n",
       "      <td>15.147379</td>\n",
       "      <td>3.891963</td>\n",
       "      <td>0.966848</td>\n",
       "      <td>0.000000</td>\n",
       "    </tr>\n",
       "    <tr>\n",
       "      <th>3</th>\n",
       "      <td>Decision Tree Regressor</td>\n",
       "      <td>5.966667</td>\n",
       "      <td>109.274444</td>\n",
       "      <td>10.453442</td>\n",
       "      <td>0.760838</td>\n",
       "      <td>0.000000</td>\n",
       "    </tr>\n",
       "    <tr>\n",
       "      <th>4</th>\n",
       "      <td>Random forest Regressor</td>\n",
       "      <td>2.624889</td>\n",
       "      <td>15.518501</td>\n",
       "      <td>3.939353</td>\n",
       "      <td>0.966036</td>\n",
       "      <td>0.000000</td>\n",
       "    </tr>\n",
       "    <tr>\n",
       "      <th>5</th>\n",
       "      <td>Robust Regression</td>\n",
       "      <td>30.088560</td>\n",
       "      <td>1289.279024</td>\n",
       "      <td>35.906532</td>\n",
       "      <td>-1.821763</td>\n",
       "      <td>0.999750</td>\n",
       "    </tr>\n",
       "    <tr>\n",
       "      <th>6</th>\n",
       "      <td>Ridge Regression</td>\n",
       "      <td>5.921963</td>\n",
       "      <td>41.276990</td>\n",
       "      <td>6.424717</td>\n",
       "      <td>0.909660</td>\n",
       "      <td>0.997317</td>\n",
       "    </tr>\n",
       "  </tbody>\n",
       "</table>\n",
       "</div>"
      ],
      "text/plain": [
       "                         Model        MAE          MSE       RMSE  R2 Square  \\\n",
       "0            Linear Regression  37.728588  1823.603404  42.703670  -2.991205   \n",
       "1     Support vector regressor  15.241146   484.812196  22.018451  -0.061078   \n",
       "2  Stochastic Gradient Descent   3.306549    15.147379   3.891963   0.966848   \n",
       "3      Decision Tree Regressor   5.966667   109.274444  10.453442   0.760838   \n",
       "4      Random forest Regressor   2.624889    15.518501   3.939353   0.966036   \n",
       "5            Robust Regression  30.088560  1289.279024  35.906532  -1.821763   \n",
       "6             Ridge Regression   5.921963    41.276990   6.424717   0.909660   \n",
       "\n",
       "   Cross Validation  \n",
       "0          0.999551  \n",
       "1         -0.653166  \n",
       "2          0.000000  \n",
       "3          0.000000  \n",
       "4          0.000000  \n",
       "5          0.999750  \n",
       "6          0.997317  "
      ]
     },
     "execution_count": 90,
     "metadata": {},
     "output_type": "execute_result"
    }
   ],
   "source": [
    "res_6 = pd.DataFrame(data=[[\"Ridge Regression\", *evaluate(y_test, test_pred) , cross_val(Ridge())]], \n",
    "                            columns=['Model', 'MAE', 'MSE', 'RMSE', 'R2 Square', \"Cross Validation\"])\n",
    "res= res.append(res_6, ignore_index=True)\n",
    "res"
   ]
  },
  {
   "cell_type": "markdown",
   "metadata": {},
   "source": [
    "## Elastic Net Regressor"
   ]
  },
  {
   "cell_type": "code",
   "execution_count": 92,
   "metadata": {},
   "outputs": [
    {
     "data": {
      "text/plain": [
       "ElasticNet(alpha=0.1, l1_ratio=0.9, random_state=42, selection='random')"
      ]
     },
     "execution_count": 92,
     "metadata": {},
     "output_type": "execute_result"
    }
   ],
   "source": [
    "from sklearn.linear_model import ElasticNet\n",
    "\n",
    "elastinet_regressor = ElasticNet(alpha=0.1, l1_ratio=0.9, selection='random', random_state=42)\n",
    "elastinet_regressor.fit(X_train, y_train)"
   ]
  },
  {
   "cell_type": "code",
   "execution_count": 94,
   "metadata": {},
   "outputs": [
    {
     "name": "stdout",
     "output_type": "stream",
     "text": [
      "Test set evaluation:\n",
      "_____________________________________\n",
      "MAE: 0.9909691436453651\n",
      "MSE: 1.702865253263553\n",
      "RMSE: 1.3049387929184852\n",
      "R2 Square 0.9962730466008216\n",
      "__________________________________\n",
      "====================================\n",
      "Train set evaluation:\n",
      "_____________________________________\n",
      "MAE: 0.548233456698099\n",
      "MSE: 0.46824689779891476\n",
      "RMSE: 0.6842856843445687\n",
      "R2 Square 0.9998955535314984\n",
      "__________________________________\n"
     ]
    }
   ],
   "source": [
    "test_pred = elastinet_regressor.predict(X_test)\n",
    "train_pred = elastinet_regressor.predict(X_train)\n",
    "\n",
    "print('Test set evaluation:\\n_____________________________________')\n",
    "print_evaluate(y_test, test_pred)\n",
    "print('====================================')\n",
    "print('Train set evaluation:\\n_____________________________________')\n",
    "print_evaluate(y_train, train_pred)"
   ]
  },
  {
   "cell_type": "code",
   "execution_count": 95,
   "metadata": {},
   "outputs": [
    {
     "data": {
      "text/html": [
       "<div>\n",
       "<style scoped>\n",
       "    .dataframe tbody tr th:only-of-type {\n",
       "        vertical-align: middle;\n",
       "    }\n",
       "\n",
       "    .dataframe tbody tr th {\n",
       "        vertical-align: top;\n",
       "    }\n",
       "\n",
       "    .dataframe thead th {\n",
       "        text-align: right;\n",
       "    }\n",
       "</style>\n",
       "<table border=\"1\" class=\"dataframe\">\n",
       "  <thead>\n",
       "    <tr style=\"text-align: right;\">\n",
       "      <th></th>\n",
       "      <th>Model</th>\n",
       "      <th>MAE</th>\n",
       "      <th>MSE</th>\n",
       "      <th>RMSE</th>\n",
       "      <th>R2 Square</th>\n",
       "      <th>Cross Validation</th>\n",
       "    </tr>\n",
       "  </thead>\n",
       "  <tbody>\n",
       "    <tr>\n",
       "      <th>0</th>\n",
       "      <td>Linear Regression</td>\n",
       "      <td>37.728588</td>\n",
       "      <td>1823.603404</td>\n",
       "      <td>42.703670</td>\n",
       "      <td>-2.991205</td>\n",
       "      <td>0.999551</td>\n",
       "    </tr>\n",
       "    <tr>\n",
       "      <th>1</th>\n",
       "      <td>Support vector regressor</td>\n",
       "      <td>15.241146</td>\n",
       "      <td>484.812196</td>\n",
       "      <td>22.018451</td>\n",
       "      <td>-0.061078</td>\n",
       "      <td>-0.653166</td>\n",
       "    </tr>\n",
       "    <tr>\n",
       "      <th>2</th>\n",
       "      <td>Stochastic Gradient Descent</td>\n",
       "      <td>3.306549</td>\n",
       "      <td>15.147379</td>\n",
       "      <td>3.891963</td>\n",
       "      <td>0.966848</td>\n",
       "      <td>0.000000</td>\n",
       "    </tr>\n",
       "    <tr>\n",
       "      <th>3</th>\n",
       "      <td>Decision Tree Regressor</td>\n",
       "      <td>5.966667</td>\n",
       "      <td>109.274444</td>\n",
       "      <td>10.453442</td>\n",
       "      <td>0.760838</td>\n",
       "      <td>0.000000</td>\n",
       "    </tr>\n",
       "    <tr>\n",
       "      <th>4</th>\n",
       "      <td>Random forest Regressor</td>\n",
       "      <td>2.624889</td>\n",
       "      <td>15.518501</td>\n",
       "      <td>3.939353</td>\n",
       "      <td>0.966036</td>\n",
       "      <td>0.000000</td>\n",
       "    </tr>\n",
       "    <tr>\n",
       "      <th>5</th>\n",
       "      <td>Robust Regression</td>\n",
       "      <td>30.088560</td>\n",
       "      <td>1289.279024</td>\n",
       "      <td>35.906532</td>\n",
       "      <td>-1.821763</td>\n",
       "      <td>0.999750</td>\n",
       "    </tr>\n",
       "    <tr>\n",
       "      <th>6</th>\n",
       "      <td>Ridge Regression</td>\n",
       "      <td>5.921963</td>\n",
       "      <td>41.276990</td>\n",
       "      <td>6.424717</td>\n",
       "      <td>0.909660</td>\n",
       "      <td>0.997317</td>\n",
       "    </tr>\n",
       "    <tr>\n",
       "      <th>7</th>\n",
       "      <td>Elastic Net Regression</td>\n",
       "      <td>0.990969</td>\n",
       "      <td>1.702865</td>\n",
       "      <td>1.304939</td>\n",
       "      <td>0.996273</td>\n",
       "      <td>0.987425</td>\n",
       "    </tr>\n",
       "  </tbody>\n",
       "</table>\n",
       "</div>"
      ],
      "text/plain": [
       "                         Model        MAE          MSE       RMSE  R2 Square  \\\n",
       "0            Linear Regression  37.728588  1823.603404  42.703670  -2.991205   \n",
       "1     Support vector regressor  15.241146   484.812196  22.018451  -0.061078   \n",
       "2  Stochastic Gradient Descent   3.306549    15.147379   3.891963   0.966848   \n",
       "3      Decision Tree Regressor   5.966667   109.274444  10.453442   0.760838   \n",
       "4      Random forest Regressor   2.624889    15.518501   3.939353   0.966036   \n",
       "5            Robust Regression  30.088560  1289.279024  35.906532  -1.821763   \n",
       "6             Ridge Regression   5.921963    41.276990   6.424717   0.909660   \n",
       "7       Elastic Net Regression   0.990969     1.702865   1.304939   0.996273   \n",
       "\n",
       "   Cross Validation  \n",
       "0          0.999551  \n",
       "1         -0.653166  \n",
       "2          0.000000  \n",
       "3          0.000000  \n",
       "4          0.000000  \n",
       "5          0.999750  \n",
       "6          0.997317  \n",
       "7          0.987425  "
      ]
     },
     "execution_count": 95,
     "metadata": {},
     "output_type": "execute_result"
    }
   ],
   "source": [
    "res_7 = pd.DataFrame(data=[[\"Elastic Net Regression\", *evaluate(y_test, test_pred) , cross_val(ElasticNet())]], \n",
    "                            columns=['Model', 'MAE', 'MSE', 'RMSE', 'R2 Square', \"Cross Validation\"])\n",
    "res = res.append(res_7, ignore_index=True)\n",
    "res"
   ]
  },
  {
   "cell_type": "markdown",
   "metadata": {},
   "source": [
    "## LightGBM Regressor"
   ]
  },
  {
   "cell_type": "code",
   "execution_count": 97,
   "metadata": {},
   "outputs": [],
   "source": [
    "import lightgbm as lgb\n",
    "lgb_model = lgb.LGBMRegressor(n_estimators=300, max_depth=2, bagging_fraction=0.9, random_state=42)"
   ]
  },
  {
   "cell_type": "code",
   "execution_count": 99,
   "metadata": {},
   "outputs": [
    {
     "name": "stdout",
     "output_type": "stream",
     "text": [
      "[LightGBM] [Warning] bagging_fraction is set=0.9, subsample=1.0 will be ignored. Current value: bagging_fraction=0.9\n",
      "Test set evaluation:\n",
      "_____________________________________\n",
      "MAE: 27.10403997585027\n",
      "MSE: 868.1756158709028\n",
      "RMSE: 29.46481997010847\n",
      "R2 Square -0.9001210204111478\n",
      "__________________________________\n",
      "====================================\n",
      "Train set evaluation:\n",
      "_____________________________________\n",
      "MAE: 43.30247912196745\n",
      "MSE: 4483.128099173555\n",
      "RMSE: 66.9561655053032\n",
      "R2 Square 0.0\n",
      "__________________________________\n"
     ]
    }
   ],
   "source": [
    "lgb_model.fit(X_train, y_train)\n",
    "\n",
    "test_pred = lgb_model.predict(X_test)\n",
    "train_pred = lgb_model.predict(X_train)\n",
    "\n",
    "print('Test set evaluation:\\n_____________________________________')\n",
    "print_evaluate(y_test, test_pred)\n",
    "print('====================================')\n",
    "print('Train set evaluation:\\n_____________________________________')\n",
    "print_evaluate(y_train, train_pred)"
   ]
  },
  {
   "cell_type": "code",
   "execution_count": 100,
   "metadata": {},
   "outputs": [
    {
     "data": {
      "text/html": [
       "<div>\n",
       "<style scoped>\n",
       "    .dataframe tbody tr th:only-of-type {\n",
       "        vertical-align: middle;\n",
       "    }\n",
       "\n",
       "    .dataframe tbody tr th {\n",
       "        vertical-align: top;\n",
       "    }\n",
       "\n",
       "    .dataframe thead th {\n",
       "        text-align: right;\n",
       "    }\n",
       "</style>\n",
       "<table border=\"1\" class=\"dataframe\">\n",
       "  <thead>\n",
       "    <tr style=\"text-align: right;\">\n",
       "      <th></th>\n",
       "      <th>Model</th>\n",
       "      <th>MAE</th>\n",
       "      <th>MSE</th>\n",
       "      <th>RMSE</th>\n",
       "      <th>R2 Square</th>\n",
       "      <th>Cross Validation</th>\n",
       "    </tr>\n",
       "  </thead>\n",
       "  <tbody>\n",
       "    <tr>\n",
       "      <th>0</th>\n",
       "      <td>Linear Regression</td>\n",
       "      <td>37.728588</td>\n",
       "      <td>1823.603404</td>\n",
       "      <td>42.703670</td>\n",
       "      <td>-2.991205</td>\n",
       "      <td>0.999551</td>\n",
       "    </tr>\n",
       "    <tr>\n",
       "      <th>1</th>\n",
       "      <td>Support vector regressor</td>\n",
       "      <td>15.241146</td>\n",
       "      <td>484.812196</td>\n",
       "      <td>22.018451</td>\n",
       "      <td>-0.061078</td>\n",
       "      <td>-0.653166</td>\n",
       "    </tr>\n",
       "    <tr>\n",
       "      <th>2</th>\n",
       "      <td>Stochastic Gradient Descent</td>\n",
       "      <td>3.306549</td>\n",
       "      <td>15.147379</td>\n",
       "      <td>3.891963</td>\n",
       "      <td>0.966848</td>\n",
       "      <td>0.000000</td>\n",
       "    </tr>\n",
       "    <tr>\n",
       "      <th>3</th>\n",
       "      <td>Decision Tree Regressor</td>\n",
       "      <td>5.966667</td>\n",
       "      <td>109.274444</td>\n",
       "      <td>10.453442</td>\n",
       "      <td>0.760838</td>\n",
       "      <td>0.000000</td>\n",
       "    </tr>\n",
       "    <tr>\n",
       "      <th>4</th>\n",
       "      <td>Random forest Regressor</td>\n",
       "      <td>2.624889</td>\n",
       "      <td>15.518501</td>\n",
       "      <td>3.939353</td>\n",
       "      <td>0.966036</td>\n",
       "      <td>0.000000</td>\n",
       "    </tr>\n",
       "    <tr>\n",
       "      <th>5</th>\n",
       "      <td>Robust Regression</td>\n",
       "      <td>30.088560</td>\n",
       "      <td>1289.279024</td>\n",
       "      <td>35.906532</td>\n",
       "      <td>-1.821763</td>\n",
       "      <td>0.999750</td>\n",
       "    </tr>\n",
       "    <tr>\n",
       "      <th>6</th>\n",
       "      <td>Ridge Regression</td>\n",
       "      <td>5.921963</td>\n",
       "      <td>41.276990</td>\n",
       "      <td>6.424717</td>\n",
       "      <td>0.909660</td>\n",
       "      <td>0.997317</td>\n",
       "    </tr>\n",
       "    <tr>\n",
       "      <th>7</th>\n",
       "      <td>Elastic Net Regression</td>\n",
       "      <td>0.990969</td>\n",
       "      <td>1.702865</td>\n",
       "      <td>1.304939</td>\n",
       "      <td>0.996273</td>\n",
       "      <td>0.987425</td>\n",
       "    </tr>\n",
       "    <tr>\n",
       "      <th>8</th>\n",
       "      <td>LightGBM Regression</td>\n",
       "      <td>27.104040</td>\n",
       "      <td>868.175616</td>\n",
       "      <td>29.464820</td>\n",
       "      <td>-0.900121</td>\n",
       "      <td>0.000000</td>\n",
       "    </tr>\n",
       "  </tbody>\n",
       "</table>\n",
       "</div>"
      ],
      "text/plain": [
       "                         Model        MAE          MSE       RMSE  R2 Square  \\\n",
       "0            Linear Regression  37.728588  1823.603404  42.703670  -2.991205   \n",
       "1     Support vector regressor  15.241146   484.812196  22.018451  -0.061078   \n",
       "2  Stochastic Gradient Descent   3.306549    15.147379   3.891963   0.966848   \n",
       "3      Decision Tree Regressor   5.966667   109.274444  10.453442   0.760838   \n",
       "4      Random forest Regressor   2.624889    15.518501   3.939353   0.966036   \n",
       "5            Robust Regression  30.088560  1289.279024  35.906532  -1.821763   \n",
       "6             Ridge Regression   5.921963    41.276990   6.424717   0.909660   \n",
       "7       Elastic Net Regression   0.990969     1.702865   1.304939   0.996273   \n",
       "8          LightGBM Regression  27.104040   868.175616  29.464820  -0.900121   \n",
       "\n",
       "   Cross Validation  \n",
       "0          0.999551  \n",
       "1         -0.653166  \n",
       "2          0.000000  \n",
       "3          0.000000  \n",
       "4          0.000000  \n",
       "5          0.999750  \n",
       "6          0.997317  \n",
       "7          0.987425  \n",
       "8          0.000000  "
      ]
     },
     "execution_count": 100,
     "metadata": {},
     "output_type": "execute_result"
    }
   ],
   "source": [
    "res_8 = pd.DataFrame(data=[[\"LightGBM Regression\", *evaluate(y_test, test_pred) , 0]], \n",
    "                            columns=['Model', 'MAE', 'MSE', 'RMSE', 'R2 Square', \"Cross Validation\"])\n",
    "res = res.append(res_8, ignore_index=True)\n",
    "res"
   ]
  },
  {
   "cell_type": "code",
   "execution_count": 102,
   "metadata": {},
   "outputs": [],
   "source": [
    "import pickle\n",
    "filename = 'time_series_US_1980_2021_modeling.pkl'"
   ]
  },
  {
   "cell_type": "code",
   "execution_count": 103,
   "metadata": {},
   "outputs": [],
   "source": [
    "with open(filename,'wb') as f:\n",
    "    pickle.dump(model, f)\n",
    "    pickle.dump(sv_regressor, f)\n",
    "    pickle.dump(sgd_reg, f)\n",
    "    pickle.dump(dt_regressor, f)\n",
    "    pickle.dump(rf_regressor, f)\n",
    "    pickle.dump(tr_regressor, f)\n",
    "    pickle.dump(ridge_regressor, f)\n",
    "    pickle.dump(elastinet_regressor, f)\n",
    "    pickle.dump(lgb_model, f)"
   ]
  },
  {
   "cell_type": "code",
   "execution_count": null,
   "metadata": {},
   "outputs": [],
   "source": []
  }
 ],
 "metadata": {
  "kernelspec": {
   "display_name": "Python 3",
   "language": "python",
   "name": "python3"
  },
  "language_info": {
   "codemirror_mode": {
    "name": "ipython",
    "version": 3
   },
   "file_extension": ".py",
   "mimetype": "text/x-python",
   "name": "python",
   "nbconvert_exporter": "python",
   "pygments_lexer": "ipython3",
   "version": "3.8.5"
  }
 },
 "nbformat": 4,
 "nbformat_minor": 4
}
