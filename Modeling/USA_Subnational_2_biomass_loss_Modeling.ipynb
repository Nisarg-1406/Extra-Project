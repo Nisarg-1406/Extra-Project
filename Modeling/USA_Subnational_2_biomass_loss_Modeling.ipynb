{
 "cells": [
  {
   "cell_type": "code",
   "execution_count": 2,
   "metadata": {},
   "outputs": [],
   "source": [
    "import numpy as np # linear algebra\n",
    "import pandas as pd # data processing, CSV file I/O (e.g. pd.read_csv)\n",
    "import matplotlib.pyplot as plt\n",
    "import seaborn as sns # for plot visualization"
   ]
  },
  {
   "cell_type": "code",
   "execution_count": 3,
   "metadata": {},
   "outputs": [],
   "source": [
    "from sklearn.ensemble import RandomForestClassifier, AdaBoostClassifier, BaggingClassifier, ExtraTreesClassifier, GradientBoostingClassifier, VotingClassifier\n",
    "from sklearn.linear_model import RidgeClassifier, RidgeClassifierCV, LogisticRegression, LogisticRegressionCV"
   ]
  },
  {
   "cell_type": "code",
   "execution_count": 4,
   "metadata": {},
   "outputs": [],
   "source": [
    "from xgboost import XGBClassifier\n",
    "from sklearn.tree import DecisionTreeClassifier\n",
    "from sklearn.model_selection import train_test_split, cross_val_score, GridSearchCV, RandomizedSearchCV\n",
    "from sklearn.metrics import f1_score, accuracy_score\n",
    "from sklearn.preprocessing import LabelEncoder\n",
    "from sklearn.neighbors import KNeighborsClassifier\n",
    "import re\n",
    "\n",
    "import warnings\n",
    "# ignoring all the warnings\n",
    "warnings.filterwarnings(\"ignore\")"
   ]
  },
  {
   "cell_type": "code",
   "execution_count": 5,
   "metadata": {},
   "outputs": [],
   "source": [
    "from sklearn.model_selection import train_test_split\n",
    "from sklearn.linear_model import LogisticRegression\n",
    "from sklearn.metrics import confusion_matrix,accuracy_score"
   ]
  },
  {
   "cell_type": "code",
   "execution_count": 6,
   "metadata": {},
   "outputs": [],
   "source": [
    "from sklearn.metrics import recall_score\n",
    "from sklearn.metrics import precision_score\n",
    "from sklearn.metrics import f1_score"
   ]
  },
  {
   "cell_type": "code",
   "execution_count": 7,
   "metadata": {},
   "outputs": [],
   "source": [
    "import warnings\n",
    "warnings.filterwarnings(\"ignore\")\n",
    "from python_utils import *"
   ]
  },
  {
   "cell_type": "code",
   "execution_count": 8,
   "metadata": {},
   "outputs": [],
   "source": [
    "df = pd.read_csv('USA_Subnational_2_biomass_loss.csv')"
   ]
  },
  {
   "cell_type": "code",
   "execution_count": 9,
   "metadata": {},
   "outputs": [
    {
     "data": {
      "text/html": [
       "<div>\n",
       "<style scoped>\n",
       "    .dataframe tbody tr th:only-of-type {\n",
       "        vertical-align: middle;\n",
       "    }\n",
       "\n",
       "    .dataframe tbody tr th {\n",
       "        vertical-align: top;\n",
       "    }\n",
       "\n",
       "    .dataframe thead th {\n",
       "        text-align: right;\n",
       "    }\n",
       "</style>\n",
       "<table border=\"1\" class=\"dataframe\">\n",
       "  <thead>\n",
       "    <tr style=\"text-align: right;\">\n",
       "      <th></th>\n",
       "      <th>country</th>\n",
       "      <th>subnational1</th>\n",
       "      <th>subnational2</th>\n",
       "      <th>threshold</th>\n",
       "      <th>area_ha</th>\n",
       "      <th>extent_2000_ha</th>\n",
       "      <th>extent_2010_ha</th>\n",
       "      <th>abg_biomass_stock_2000_Mg</th>\n",
       "      <th>avg_biomass_per_ha_Mg</th>\n",
       "    </tr>\n",
       "  </thead>\n",
       "  <tbody>\n",
       "    <tr>\n",
       "      <th>0</th>\n",
       "      <td>United States</td>\n",
       "      <td>Alabama</td>\n",
       "      <td>Autauga</td>\n",
       "      <td>10</td>\n",
       "      <td>156174</td>\n",
       "      <td>109666</td>\n",
       "      <td>103665</td>\n",
       "      <td>11313316</td>\n",
       "      <td>103</td>\n",
       "    </tr>\n",
       "    <tr>\n",
       "      <th>1</th>\n",
       "      <td>United States</td>\n",
       "      <td>Alabama</td>\n",
       "      <td>Autauga</td>\n",
       "      <td>15</td>\n",
       "      <td>156174</td>\n",
       "      <td>108202</td>\n",
       "      <td>102662</td>\n",
       "      <td>11279508</td>\n",
       "      <td>104</td>\n",
       "    </tr>\n",
       "    <tr>\n",
       "      <th>2</th>\n",
       "      <td>United States</td>\n",
       "      <td>Alabama</td>\n",
       "      <td>Autauga</td>\n",
       "      <td>20</td>\n",
       "      <td>156174</td>\n",
       "      <td>106621</td>\n",
       "      <td>100894</td>\n",
       "      <td>11231116</td>\n",
       "      <td>105</td>\n",
       "    </tr>\n",
       "    <tr>\n",
       "      <th>3</th>\n",
       "      <td>United States</td>\n",
       "      <td>Alabama</td>\n",
       "      <td>Autauga</td>\n",
       "      <td>25</td>\n",
       "      <td>156174</td>\n",
       "      <td>105337</td>\n",
       "      <td>100504</td>\n",
       "      <td>11192435</td>\n",
       "      <td>106</td>\n",
       "    </tr>\n",
       "    <tr>\n",
       "      <th>4</th>\n",
       "      <td>United States</td>\n",
       "      <td>Alabama</td>\n",
       "      <td>Autauga</td>\n",
       "      <td>30</td>\n",
       "      <td>156174</td>\n",
       "      <td>103485</td>\n",
       "      <td>96833</td>\n",
       "      <td>11131617</td>\n",
       "      <td>108</td>\n",
       "    </tr>\n",
       "  </tbody>\n",
       "</table>\n",
       "</div>"
      ],
      "text/plain": [
       "         country subnational1 subnational2  threshold  area_ha  \\\n",
       "0  United States      Alabama      Autauga         10   156174   \n",
       "1  United States      Alabama      Autauga         15   156174   \n",
       "2  United States      Alabama      Autauga         20   156174   \n",
       "3  United States      Alabama      Autauga         25   156174   \n",
       "4  United States      Alabama      Autauga         30   156174   \n",
       "\n",
       "   extent_2000_ha  extent_2010_ha  abg_biomass_stock_2000_Mg  \\\n",
       "0          109666          103665                   11313316   \n",
       "1          108202          102662                   11279508   \n",
       "2          106621          100894                   11231116   \n",
       "3          105337          100504                   11192435   \n",
       "4          103485           96833                   11131617   \n",
       "\n",
       "   avg_biomass_per_ha_Mg  \n",
       "0                    103  \n",
       "1                    104  \n",
       "2                    105  \n",
       "3                    106  \n",
       "4                    108  "
      ]
     },
     "execution_count": 9,
     "metadata": {},
     "output_type": "execute_result"
    }
   ],
   "source": [
    "df.head()"
   ]
  },
  {
   "cell_type": "code",
   "execution_count": 10,
   "metadata": {},
   "outputs": [
    {
     "data": {
      "text/html": [
       "<div>\n",
       "<style scoped>\n",
       "    .dataframe tbody tr th:only-of-type {\n",
       "        vertical-align: middle;\n",
       "    }\n",
       "\n",
       "    .dataframe tbody tr th {\n",
       "        vertical-align: top;\n",
       "    }\n",
       "\n",
       "    .dataframe thead th {\n",
       "        text-align: right;\n",
       "    }\n",
       "</style>\n",
       "<table border=\"1\" class=\"dataframe\">\n",
       "  <thead>\n",
       "    <tr style=\"text-align: right;\">\n",
       "      <th></th>\n",
       "      <th>threshold</th>\n",
       "      <th>area_ha</th>\n",
       "      <th>extent_2000_ha</th>\n",
       "      <th>extent_2010_ha</th>\n",
       "      <th>abg_biomass_stock_2000_Mg</th>\n",
       "      <th>avg_biomass_per_ha_Mg</th>\n",
       "    </tr>\n",
       "  </thead>\n",
       "  <tbody>\n",
       "    <tr>\n",
       "      <th>count</th>\n",
       "      <td>22036.000000</td>\n",
       "      <td>2.203600e+04</td>\n",
       "      <td>2.203600e+04</td>\n",
       "      <td>2.203600e+04</td>\n",
       "      <td>2.203600e+04</td>\n",
       "      <td>22036.000000</td>\n",
       "    </tr>\n",
       "    <tr>\n",
       "      <th>mean</th>\n",
       "      <td>32.142857</td>\n",
       "      <td>3.008524e+05</td>\n",
       "      <td>8.718126e+04</td>\n",
       "      <td>8.333169e+04</td>\n",
       "      <td>1.148518e+07</td>\n",
       "      <td>107.308586</td>\n",
       "    </tr>\n",
       "    <tr>\n",
       "      <th>std</th>\n",
       "      <td>21.189619</td>\n",
       "      <td>9.561421e+05</td>\n",
       "      <td>3.991855e+05</td>\n",
       "      <td>3.998755e+05</td>\n",
       "      <td>3.483862e+07</td>\n",
       "      <td>58.358700</td>\n",
       "    </tr>\n",
       "    <tr>\n",
       "      <th>min</th>\n",
       "      <td>10.000000</td>\n",
       "      <td>5.120000e+02</td>\n",
       "      <td>0.000000e+00</td>\n",
       "      <td>0.000000e+00</td>\n",
       "      <td>0.000000e+00</td>\n",
       "      <td>0.000000</td>\n",
       "    </tr>\n",
       "    <tr>\n",
       "      <th>25%</th>\n",
       "      <td>15.000000</td>\n",
       "      <td>1.135688e+05</td>\n",
       "      <td>1.254675e+04</td>\n",
       "      <td>1.044925e+04</td>\n",
       "      <td>9.447972e+05</td>\n",
       "      <td>76.000000</td>\n",
       "    </tr>\n",
       "    <tr>\n",
       "      <th>50%</th>\n",
       "      <td>25.000000</td>\n",
       "      <td>1.636940e+05</td>\n",
       "      <td>4.628500e+04</td>\n",
       "      <td>4.172350e+04</td>\n",
       "      <td>4.822399e+06</td>\n",
       "      <td>105.000000</td>\n",
       "    </tr>\n",
       "    <tr>\n",
       "      <th>75%</th>\n",
       "      <td>50.000000</td>\n",
       "      <td>2.456135e+05</td>\n",
       "      <td>9.798425e+04</td>\n",
       "      <td>9.129625e+04</td>\n",
       "      <td>1.147594e+07</td>\n",
       "      <td>125.000000</td>\n",
       "    </tr>\n",
       "    <tr>\n",
       "      <th>max</th>\n",
       "      <td>75.000000</td>\n",
       "      <td>3.809014e+07</td>\n",
       "      <td>2.508261e+07</td>\n",
       "      <td>2.512306e+07</td>\n",
       "      <td>1.165555e+09</td>\n",
       "      <td>710.000000</td>\n",
       "    </tr>\n",
       "  </tbody>\n",
       "</table>\n",
       "</div>"
      ],
      "text/plain": [
       "          threshold       area_ha  extent_2000_ha  extent_2010_ha  \\\n",
       "count  22036.000000  2.203600e+04    2.203600e+04    2.203600e+04   \n",
       "mean      32.142857  3.008524e+05    8.718126e+04    8.333169e+04   \n",
       "std       21.189619  9.561421e+05    3.991855e+05    3.998755e+05   \n",
       "min       10.000000  5.120000e+02    0.000000e+00    0.000000e+00   \n",
       "25%       15.000000  1.135688e+05    1.254675e+04    1.044925e+04   \n",
       "50%       25.000000  1.636940e+05    4.628500e+04    4.172350e+04   \n",
       "75%       50.000000  2.456135e+05    9.798425e+04    9.129625e+04   \n",
       "max       75.000000  3.809014e+07    2.508261e+07    2.512306e+07   \n",
       "\n",
       "       abg_biomass_stock_2000_Mg  avg_biomass_per_ha_Mg  \n",
       "count               2.203600e+04           22036.000000  \n",
       "mean                1.148518e+07             107.308586  \n",
       "std                 3.483862e+07              58.358700  \n",
       "min                 0.000000e+00               0.000000  \n",
       "25%                 9.447972e+05              76.000000  \n",
       "50%                 4.822399e+06             105.000000  \n",
       "75%                 1.147594e+07             125.000000  \n",
       "max                 1.165555e+09             710.000000  "
      ]
     },
     "execution_count": 10,
     "metadata": {},
     "output_type": "execute_result"
    }
   ],
   "source": [
    "df.describe()"
   ]
  },
  {
   "cell_type": "code",
   "execution_count": 11,
   "metadata": {},
   "outputs": [
    {
     "data": {
      "text/plain": [
       "country                      object\n",
       "subnational1                 object\n",
       "subnational2                 object\n",
       "threshold                     int64\n",
       "area_ha                       int64\n",
       "extent_2000_ha                int64\n",
       "extent_2010_ha                int64\n",
       "abg_biomass_stock_2000_Mg     int64\n",
       "avg_biomass_per_ha_Mg         int64\n",
       "dtype: object"
      ]
     },
     "execution_count": 11,
     "metadata": {},
     "output_type": "execute_result"
    }
   ],
   "source": [
    "df.dtypes"
   ]
  },
  {
   "cell_type": "code",
   "execution_count": 12,
   "metadata": {},
   "outputs": [
    {
     "data": {
      "text/plain": [
       "country                      0\n",
       "subnational1                 0\n",
       "subnational2                 0\n",
       "threshold                    0\n",
       "area_ha                      0\n",
       "extent_2000_ha               0\n",
       "extent_2010_ha               0\n",
       "abg_biomass_stock_2000_Mg    0\n",
       "avg_biomass_per_ha_Mg        0\n",
       "dtype: int64"
      ]
     },
     "execution_count": 12,
     "metadata": {},
     "output_type": "execute_result"
    }
   ],
   "source": [
    "df.isna().sum()"
   ]
  },
  {
   "cell_type": "code",
   "execution_count": 13,
   "metadata": {},
   "outputs": [
    {
     "data": {
      "text/html": [
       "<div>\n",
       "<style scoped>\n",
       "    .dataframe tbody tr th:only-of-type {\n",
       "        vertical-align: middle;\n",
       "    }\n",
       "\n",
       "    .dataframe tbody tr th {\n",
       "        vertical-align: top;\n",
       "    }\n",
       "\n",
       "    .dataframe thead th {\n",
       "        text-align: right;\n",
       "    }\n",
       "</style>\n",
       "<table border=\"1\" class=\"dataframe\">\n",
       "  <thead>\n",
       "    <tr style=\"text-align: right;\">\n",
       "      <th></th>\n",
       "      <th>threshold</th>\n",
       "      <th>area_ha</th>\n",
       "      <th>extent_2000_ha</th>\n",
       "      <th>extent_2010_ha</th>\n",
       "      <th>abg_biomass_stock_2000_Mg</th>\n",
       "      <th>avg_biomass_per_ha_Mg</th>\n",
       "    </tr>\n",
       "  </thead>\n",
       "  <tbody>\n",
       "    <tr>\n",
       "      <th>threshold</th>\n",
       "      <td>1.000000e+00</td>\n",
       "      <td>1.343468e-18</td>\n",
       "      <td>-0.029620</td>\n",
       "      <td>-0.031791</td>\n",
       "      <td>-0.021251</td>\n",
       "      <td>0.161158</td>\n",
       "    </tr>\n",
       "    <tr>\n",
       "      <th>area_ha</th>\n",
       "      <td>1.343468e-18</td>\n",
       "      <td>1.000000e+00</td>\n",
       "      <td>0.758979</td>\n",
       "      <td>0.772867</td>\n",
       "      <td>0.508835</td>\n",
       "      <td>0.008593</td>\n",
       "    </tr>\n",
       "    <tr>\n",
       "      <th>extent_2000_ha</th>\n",
       "      <td>-2.962041e-02</td>\n",
       "      <td>7.589792e-01</td>\n",
       "      <td>1.000000</td>\n",
       "      <td>0.996886</td>\n",
       "      <td>0.708489</td>\n",
       "      <td>0.091392</td>\n",
       "    </tr>\n",
       "    <tr>\n",
       "      <th>extent_2010_ha</th>\n",
       "      <td>-3.179079e-02</td>\n",
       "      <td>7.728667e-01</td>\n",
       "      <td>0.996886</td>\n",
       "      <td>1.000000</td>\n",
       "      <td>0.700556</td>\n",
       "      <td>0.083269</td>\n",
       "    </tr>\n",
       "    <tr>\n",
       "      <th>abg_biomass_stock_2000_Mg</th>\n",
       "      <td>-2.125057e-02</td>\n",
       "      <td>5.088353e-01</td>\n",
       "      <td>0.708489</td>\n",
       "      <td>0.700556</td>\n",
       "      <td>1.000000</td>\n",
       "      <td>0.540193</td>\n",
       "    </tr>\n",
       "    <tr>\n",
       "      <th>avg_biomass_per_ha_Mg</th>\n",
       "      <td>1.611583e-01</td>\n",
       "      <td>8.593443e-03</td>\n",
       "      <td>0.091392</td>\n",
       "      <td>0.083269</td>\n",
       "      <td>0.540193</td>\n",
       "      <td>1.000000</td>\n",
       "    </tr>\n",
       "  </tbody>\n",
       "</table>\n",
       "</div>"
      ],
      "text/plain": [
       "                              threshold       area_ha  extent_2000_ha  \\\n",
       "threshold                  1.000000e+00  1.343468e-18       -0.029620   \n",
       "area_ha                    1.343468e-18  1.000000e+00        0.758979   \n",
       "extent_2000_ha            -2.962041e-02  7.589792e-01        1.000000   \n",
       "extent_2010_ha            -3.179079e-02  7.728667e-01        0.996886   \n",
       "abg_biomass_stock_2000_Mg -2.125057e-02  5.088353e-01        0.708489   \n",
       "avg_biomass_per_ha_Mg      1.611583e-01  8.593443e-03        0.091392   \n",
       "\n",
       "                           extent_2010_ha  abg_biomass_stock_2000_Mg  \\\n",
       "threshold                       -0.031791                  -0.021251   \n",
       "area_ha                          0.772867                   0.508835   \n",
       "extent_2000_ha                   0.996886                   0.708489   \n",
       "extent_2010_ha                   1.000000                   0.700556   \n",
       "abg_biomass_stock_2000_Mg        0.700556                   1.000000   \n",
       "avg_biomass_per_ha_Mg            0.083269                   0.540193   \n",
       "\n",
       "                           avg_biomass_per_ha_Mg  \n",
       "threshold                               0.161158  \n",
       "area_ha                                 0.008593  \n",
       "extent_2000_ha                          0.091392  \n",
       "extent_2010_ha                          0.083269  \n",
       "abg_biomass_stock_2000_Mg               0.540193  \n",
       "avg_biomass_per_ha_Mg                   1.000000  "
      ]
     },
     "execution_count": 13,
     "metadata": {},
     "output_type": "execute_result"
    }
   ],
   "source": [
    "df.corr()"
   ]
  },
  {
   "cell_type": "code",
   "execution_count": 14,
   "metadata": {},
   "outputs": [],
   "source": [
    "corr_matrix = df.corr().abs()"
   ]
  },
  {
   "cell_type": "code",
   "execution_count": 15,
   "metadata": {},
   "outputs": [
    {
     "data": {
      "image/png": "[encoded data removed]",
      "text/plain": [
       "<Figure size 1080x720 with 2 Axes>"
      ]
     },
     "metadata": {
      "needs_background": "light"
     },
     "output_type": "display_data"
    }
   ],
   "source": [
    "f, ax = plt.subplots(figsize=(15, 10)) \n",
    "heatmap = sns.heatmap(corr_matrix,linewidths = .5,cmap=\"coolwarm\",annot=True)"
   ]
  },
  {
   "cell_type": "code",
   "execution_count": 16,
   "metadata": {},
   "outputs": [
    {
     "data": {
      "text/plain": [
       "(22036, 9)"
      ]
     },
     "execution_count": 16,
     "metadata": {},
     "output_type": "execute_result"
    }
   ],
   "source": [
    "df.shape"
   ]
  },
  {
   "cell_type": "code",
   "execution_count": 17,
   "metadata": {},
   "outputs": [
    {
     "data": {
      "text/plain": [
       "Index(['country', 'subnational1', 'subnational2', 'threshold', 'area_ha',\n",
       "       'extent_2000_ha', 'extent_2010_ha', 'abg_biomass_stock_2000_Mg',\n",
       "       'avg_biomass_per_ha_Mg'],\n",
       "      dtype='object')"
      ]
     },
     "execution_count": 17,
     "metadata": {},
     "output_type": "execute_result"
    }
   ],
   "source": [
    "df.columns"
   ]
  },
  {
   "cell_type": "code",
   "execution_count": 18,
   "metadata": {},
   "outputs": [],
   "source": [
    "cond = [\n",
    "    (df['avg_biomass_per_ha_Mg'] >= 500),\n",
    "    (df['avg_biomass_per_ha_Mg'] < 500) & (df['avg_biomass_per_ha_Mg'] >= 200),\n",
    "    (df['avg_biomass_per_ha_Mg'] < 200)\n",
    "    ]\n",
    "val = ['High', 'Medium', 'Low']\n",
    "df['avg_biomass_cat'] = np.select(cond,val)"
   ]
  },
  {
   "cell_type": "code",
   "execution_count": 19,
   "metadata": {},
   "outputs": [
    {
     "data": {
      "text/html": [
       "<div>\n",
       "<style scoped>\n",
       "    .dataframe tbody tr th:only-of-type {\n",
       "        vertical-align: middle;\n",
       "    }\n",
       "\n",
       "    .dataframe tbody tr th {\n",
       "        vertical-align: top;\n",
       "    }\n",
       "\n",
       "    .dataframe thead th {\n",
       "        text-align: right;\n",
       "    }\n",
       "</style>\n",
       "<table border=\"1\" class=\"dataframe\">\n",
       "  <thead>\n",
       "    <tr style=\"text-align: right;\">\n",
       "      <th></th>\n",
       "      <th>country</th>\n",
       "      <th>subnational1</th>\n",
       "      <th>subnational2</th>\n",
       "      <th>threshold</th>\n",
       "      <th>area_ha</th>\n",
       "      <th>extent_2000_ha</th>\n",
       "      <th>extent_2010_ha</th>\n",
       "      <th>abg_biomass_stock_2000_Mg</th>\n",
       "      <th>avg_biomass_per_ha_Mg</th>\n",
       "      <th>avg_biomass_cat</th>\n",
       "    </tr>\n",
       "  </thead>\n",
       "  <tbody>\n",
       "    <tr>\n",
       "      <th>0</th>\n",
       "      <td>United States</td>\n",
       "      <td>Alabama</td>\n",
       "      <td>Autauga</td>\n",
       "      <td>10</td>\n",
       "      <td>156174</td>\n",
       "      <td>109666</td>\n",
       "      <td>103665</td>\n",
       "      <td>11313316</td>\n",
       "      <td>103</td>\n",
       "      <td>Low</td>\n",
       "    </tr>\n",
       "    <tr>\n",
       "      <th>1</th>\n",
       "      <td>United States</td>\n",
       "      <td>Alabama</td>\n",
       "      <td>Autauga</td>\n",
       "      <td>15</td>\n",
       "      <td>156174</td>\n",
       "      <td>108202</td>\n",
       "      <td>102662</td>\n",
       "      <td>11279508</td>\n",
       "      <td>104</td>\n",
       "      <td>Low</td>\n",
       "    </tr>\n",
       "    <tr>\n",
       "      <th>2</th>\n",
       "      <td>United States</td>\n",
       "      <td>Alabama</td>\n",
       "      <td>Autauga</td>\n",
       "      <td>20</td>\n",
       "      <td>156174</td>\n",
       "      <td>106621</td>\n",
       "      <td>100894</td>\n",
       "      <td>11231116</td>\n",
       "      <td>105</td>\n",
       "      <td>Low</td>\n",
       "    </tr>\n",
       "    <tr>\n",
       "      <th>3</th>\n",
       "      <td>United States</td>\n",
       "      <td>Alabama</td>\n",
       "      <td>Autauga</td>\n",
       "      <td>25</td>\n",
       "      <td>156174</td>\n",
       "      <td>105337</td>\n",
       "      <td>100504</td>\n",
       "      <td>11192435</td>\n",
       "      <td>106</td>\n",
       "      <td>Low</td>\n",
       "    </tr>\n",
       "    <tr>\n",
       "      <th>4</th>\n",
       "      <td>United States</td>\n",
       "      <td>Alabama</td>\n",
       "      <td>Autauga</td>\n",
       "      <td>30</td>\n",
       "      <td>156174</td>\n",
       "      <td>103485</td>\n",
       "      <td>96833</td>\n",
       "      <td>11131617</td>\n",
       "      <td>108</td>\n",
       "      <td>Low</td>\n",
       "    </tr>\n",
       "  </tbody>\n",
       "</table>\n",
       "</div>"
      ],
      "text/plain": [
       "         country subnational1 subnational2  threshold  area_ha  \\\n",
       "0  United States      Alabama      Autauga         10   156174   \n",
       "1  United States      Alabama      Autauga         15   156174   \n",
       "2  United States      Alabama      Autauga         20   156174   \n",
       "3  United States      Alabama      Autauga         25   156174   \n",
       "4  United States      Alabama      Autauga         30   156174   \n",
       "\n",
       "   extent_2000_ha  extent_2010_ha  abg_biomass_stock_2000_Mg  \\\n",
       "0          109666          103665                   11313316   \n",
       "1          108202          102662                   11279508   \n",
       "2          106621          100894                   11231116   \n",
       "3          105337          100504                   11192435   \n",
       "4          103485           96833                   11131617   \n",
       "\n",
       "   avg_biomass_per_ha_Mg avg_biomass_cat  \n",
       "0                    103             Low  \n",
       "1                    104             Low  \n",
       "2                    105             Low  \n",
       "3                    106             Low  \n",
       "4                    108             Low  "
      ]
     },
     "execution_count": 19,
     "metadata": {},
     "output_type": "execute_result"
    }
   ],
   "source": [
    "df.head()"
   ]
  },
  {
   "cell_type": "code",
   "execution_count": 20,
   "metadata": {},
   "outputs": [],
   "source": [
    "df1 = df.drop(labels=['country'], axis=1) "
   ]
  },
  {
   "cell_type": "code",
   "execution_count": 21,
   "metadata": {},
   "outputs": [
    {
     "data": {
      "text/html": [
       "<div>\n",
       "<style scoped>\n",
       "    .dataframe tbody tr th:only-of-type {\n",
       "        vertical-align: middle;\n",
       "    }\n",
       "\n",
       "    .dataframe tbody tr th {\n",
       "        vertical-align: top;\n",
       "    }\n",
       "\n",
       "    .dataframe thead th {\n",
       "        text-align: right;\n",
       "    }\n",
       "</style>\n",
       "<table border=\"1\" class=\"dataframe\">\n",
       "  <thead>\n",
       "    <tr style=\"text-align: right;\">\n",
       "      <th></th>\n",
       "      <th>subnational1</th>\n",
       "      <th>subnational2</th>\n",
       "      <th>threshold</th>\n",
       "      <th>area_ha</th>\n",
       "      <th>extent_2000_ha</th>\n",
       "      <th>extent_2010_ha</th>\n",
       "      <th>abg_biomass_stock_2000_Mg</th>\n",
       "      <th>avg_biomass_per_ha_Mg</th>\n",
       "      <th>avg_biomass_cat</th>\n",
       "    </tr>\n",
       "  </thead>\n",
       "  <tbody>\n",
       "    <tr>\n",
       "      <th>0</th>\n",
       "      <td>Alabama</td>\n",
       "      <td>Autauga</td>\n",
       "      <td>10</td>\n",
       "      <td>156174</td>\n",
       "      <td>109666</td>\n",
       "      <td>103665</td>\n",
       "      <td>11313316</td>\n",
       "      <td>103</td>\n",
       "      <td>Low</td>\n",
       "    </tr>\n",
       "    <tr>\n",
       "      <th>1</th>\n",
       "      <td>Alabama</td>\n",
       "      <td>Autauga</td>\n",
       "      <td>15</td>\n",
       "      <td>156174</td>\n",
       "      <td>108202</td>\n",
       "      <td>102662</td>\n",
       "      <td>11279508</td>\n",
       "      <td>104</td>\n",
       "      <td>Low</td>\n",
       "    </tr>\n",
       "    <tr>\n",
       "      <th>2</th>\n",
       "      <td>Alabama</td>\n",
       "      <td>Autauga</td>\n",
       "      <td>20</td>\n",
       "      <td>156174</td>\n",
       "      <td>106621</td>\n",
       "      <td>100894</td>\n",
       "      <td>11231116</td>\n",
       "      <td>105</td>\n",
       "      <td>Low</td>\n",
       "    </tr>\n",
       "    <tr>\n",
       "      <th>3</th>\n",
       "      <td>Alabama</td>\n",
       "      <td>Autauga</td>\n",
       "      <td>25</td>\n",
       "      <td>156174</td>\n",
       "      <td>105337</td>\n",
       "      <td>100504</td>\n",
       "      <td>11192435</td>\n",
       "      <td>106</td>\n",
       "      <td>Low</td>\n",
       "    </tr>\n",
       "    <tr>\n",
       "      <th>4</th>\n",
       "      <td>Alabama</td>\n",
       "      <td>Autauga</td>\n",
       "      <td>30</td>\n",
       "      <td>156174</td>\n",
       "      <td>103485</td>\n",
       "      <td>96833</td>\n",
       "      <td>11131617</td>\n",
       "      <td>108</td>\n",
       "      <td>Low</td>\n",
       "    </tr>\n",
       "  </tbody>\n",
       "</table>\n",
       "</div>"
      ],
      "text/plain": [
       "  subnational1 subnational2  threshold  area_ha  extent_2000_ha  \\\n",
       "0      Alabama      Autauga         10   156174          109666   \n",
       "1      Alabama      Autauga         15   156174          108202   \n",
       "2      Alabama      Autauga         20   156174          106621   \n",
       "3      Alabama      Autauga         25   156174          105337   \n",
       "4      Alabama      Autauga         30   156174          103485   \n",
       "\n",
       "   extent_2010_ha  abg_biomass_stock_2000_Mg  avg_biomass_per_ha_Mg  \\\n",
       "0          103665                   11313316                    103   \n",
       "1          102662                   11279508                    104   \n",
       "2          100894                   11231116                    105   \n",
       "3          100504                   11192435                    106   \n",
       "4           96833                   11131617                    108   \n",
       "\n",
       "  avg_biomass_cat  \n",
       "0             Low  \n",
       "1             Low  \n",
       "2             Low  \n",
       "3             Low  \n",
       "4             Low  "
      ]
     },
     "execution_count": 21,
     "metadata": {},
     "output_type": "execute_result"
    }
   ],
   "source": [
    "df1.head()"
   ]
  },
  {
   "cell_type": "code",
   "execution_count": 22,
   "metadata": {},
   "outputs": [
    {
     "data": {
      "text/html": [
       "<div>\n",
       "<style scoped>\n",
       "    .dataframe tbody tr th:only-of-type {\n",
       "        vertical-align: middle;\n",
       "    }\n",
       "\n",
       "    .dataframe tbody tr th {\n",
       "        vertical-align: top;\n",
       "    }\n",
       "\n",
       "    .dataframe thead th {\n",
       "        text-align: right;\n",
       "    }\n",
       "</style>\n",
       "<table border=\"1\" class=\"dataframe\">\n",
       "  <thead>\n",
       "    <tr style=\"text-align: right;\">\n",
       "      <th></th>\n",
       "      <th>country</th>\n",
       "      <th>subnational1</th>\n",
       "      <th>subnational2</th>\n",
       "      <th>threshold</th>\n",
       "      <th>area_ha</th>\n",
       "      <th>extent_2000_ha</th>\n",
       "      <th>extent_2010_ha</th>\n",
       "      <th>abg_biomass_stock_2000_Mg</th>\n",
       "      <th>avg_biomass_per_ha_Mg</th>\n",
       "      <th>avg_biomass_cat</th>\n",
       "    </tr>\n",
       "  </thead>\n",
       "  <tbody>\n",
       "    <tr>\n",
       "      <th>0</th>\n",
       "      <td>United States</td>\n",
       "      <td>Alabama</td>\n",
       "      <td>Autauga</td>\n",
       "      <td>10</td>\n",
       "      <td>156174</td>\n",
       "      <td>109666</td>\n",
       "      <td>103665</td>\n",
       "      <td>11313316</td>\n",
       "      <td>103</td>\n",
       "      <td>Low</td>\n",
       "    </tr>\n",
       "    <tr>\n",
       "      <th>1</th>\n",
       "      <td>United States</td>\n",
       "      <td>Alabama</td>\n",
       "      <td>Autauga</td>\n",
       "      <td>15</td>\n",
       "      <td>156174</td>\n",
       "      <td>108202</td>\n",
       "      <td>102662</td>\n",
       "      <td>11279508</td>\n",
       "      <td>104</td>\n",
       "      <td>Low</td>\n",
       "    </tr>\n",
       "    <tr>\n",
       "      <th>2</th>\n",
       "      <td>United States</td>\n",
       "      <td>Alabama</td>\n",
       "      <td>Autauga</td>\n",
       "      <td>20</td>\n",
       "      <td>156174</td>\n",
       "      <td>106621</td>\n",
       "      <td>100894</td>\n",
       "      <td>11231116</td>\n",
       "      <td>105</td>\n",
       "      <td>Low</td>\n",
       "    </tr>\n",
       "    <tr>\n",
       "      <th>3</th>\n",
       "      <td>United States</td>\n",
       "      <td>Alabama</td>\n",
       "      <td>Autauga</td>\n",
       "      <td>25</td>\n",
       "      <td>156174</td>\n",
       "      <td>105337</td>\n",
       "      <td>100504</td>\n",
       "      <td>11192435</td>\n",
       "      <td>106</td>\n",
       "      <td>Low</td>\n",
       "    </tr>\n",
       "    <tr>\n",
       "      <th>4</th>\n",
       "      <td>United States</td>\n",
       "      <td>Alabama</td>\n",
       "      <td>Autauga</td>\n",
       "      <td>30</td>\n",
       "      <td>156174</td>\n",
       "      <td>103485</td>\n",
       "      <td>96833</td>\n",
       "      <td>11131617</td>\n",
       "      <td>108</td>\n",
       "      <td>Low</td>\n",
       "    </tr>\n",
       "  </tbody>\n",
       "</table>\n",
       "</div>"
      ],
      "text/plain": [
       "         country subnational1 subnational2  threshold  area_ha  \\\n",
       "0  United States      Alabama      Autauga         10   156174   \n",
       "1  United States      Alabama      Autauga         15   156174   \n",
       "2  United States      Alabama      Autauga         20   156174   \n",
       "3  United States      Alabama      Autauga         25   156174   \n",
       "4  United States      Alabama      Autauga         30   156174   \n",
       "\n",
       "   extent_2000_ha  extent_2010_ha  abg_biomass_stock_2000_Mg  \\\n",
       "0          109666          103665                   11313316   \n",
       "1          108202          102662                   11279508   \n",
       "2          106621          100894                   11231116   \n",
       "3          105337          100504                   11192435   \n",
       "4          103485           96833                   11131617   \n",
       "\n",
       "   avg_biomass_per_ha_Mg avg_biomass_cat  \n",
       "0                    103             Low  \n",
       "1                    104             Low  \n",
       "2                    105             Low  \n",
       "3                    106             Low  \n",
       "4                    108             Low  "
      ]
     },
     "execution_count": 22,
     "metadata": {},
     "output_type": "execute_result"
    }
   ],
   "source": [
    "df.head()"
   ]
  },
  {
   "cell_type": "code",
   "execution_count": 23,
   "metadata": {},
   "outputs": [],
   "source": [
    "data_onehot_encoded = df1.copy()\n",
    "data_onehot_encoded = pd.get_dummies(data_onehot_encoded, columns=['subnational1'])\n",
    "data = pd.get_dummies(data_onehot_encoded, columns=['subnational2'])"
   ]
  },
  {
   "cell_type": "code",
   "execution_count": 24,
   "metadata": {},
   "outputs": [
    {
     "data": {
      "text/html": [
       "<div>\n",
       "<style scoped>\n",
       "    .dataframe tbody tr th:only-of-type {\n",
       "        vertical-align: middle;\n",
       "    }\n",
       "\n",
       "    .dataframe tbody tr th {\n",
       "        vertical-align: top;\n",
       "    }\n",
       "\n",
       "    .dataframe thead th {\n",
       "        text-align: right;\n",
       "    }\n",
       "</style>\n",
       "<table border=\"1\" class=\"dataframe\">\n",
       "  <thead>\n",
       "    <tr style=\"text-align: right;\">\n",
       "      <th></th>\n",
       "      <th>threshold</th>\n",
       "      <th>area_ha</th>\n",
       "      <th>extent_2000_ha</th>\n",
       "      <th>extent_2010_ha</th>\n",
       "      <th>abg_biomass_stock_2000_Mg</th>\n",
       "      <th>avg_biomass_per_ha_Mg</th>\n",
       "      <th>avg_biomass_cat</th>\n",
       "      <th>subnational1_Alabama</th>\n",
       "      <th>subnational1_Alaska</th>\n",
       "      <th>subnational1_Arizona</th>\n",
       "      <th>...</th>\n",
       "      <th>subnational2_Yoakum</th>\n",
       "      <th>subnational2_Yolo</th>\n",
       "      <th>subnational2_York</th>\n",
       "      <th>subnational2_Young</th>\n",
       "      <th>subnational2_Yuba</th>\n",
       "      <th>subnational2_Yukon-Koyukuk</th>\n",
       "      <th>subnational2_Yuma</th>\n",
       "      <th>subnational2_Zapata</th>\n",
       "      <th>subnational2_Zavala</th>\n",
       "      <th>subnational2_Ziebach</th>\n",
       "    </tr>\n",
       "  </thead>\n",
       "  <tbody>\n",
       "    <tr>\n",
       "      <th>0</th>\n",
       "      <td>10</td>\n",
       "      <td>156174</td>\n",
       "      <td>109666</td>\n",
       "      <td>103665</td>\n",
       "      <td>11313316</td>\n",
       "      <td>103</td>\n",
       "      <td>Low</td>\n",
       "      <td>1</td>\n",
       "      <td>0</td>\n",
       "      <td>0</td>\n",
       "      <td>...</td>\n",
       "      <td>0</td>\n",
       "      <td>0</td>\n",
       "      <td>0</td>\n",
       "      <td>0</td>\n",
       "      <td>0</td>\n",
       "      <td>0</td>\n",
       "      <td>0</td>\n",
       "      <td>0</td>\n",
       "      <td>0</td>\n",
       "      <td>0</td>\n",
       "    </tr>\n",
       "    <tr>\n",
       "      <th>1</th>\n",
       "      <td>15</td>\n",
       "      <td>156174</td>\n",
       "      <td>108202</td>\n",
       "      <td>102662</td>\n",
       "      <td>11279508</td>\n",
       "      <td>104</td>\n",
       "      <td>Low</td>\n",
       "      <td>1</td>\n",
       "      <td>0</td>\n",
       "      <td>0</td>\n",
       "      <td>...</td>\n",
       "      <td>0</td>\n",
       "      <td>0</td>\n",
       "      <td>0</td>\n",
       "      <td>0</td>\n",
       "      <td>0</td>\n",
       "      <td>0</td>\n",
       "      <td>0</td>\n",
       "      <td>0</td>\n",
       "      <td>0</td>\n",
       "      <td>0</td>\n",
       "    </tr>\n",
       "    <tr>\n",
       "      <th>2</th>\n",
       "      <td>20</td>\n",
       "      <td>156174</td>\n",
       "      <td>106621</td>\n",
       "      <td>100894</td>\n",
       "      <td>11231116</td>\n",
       "      <td>105</td>\n",
       "      <td>Low</td>\n",
       "      <td>1</td>\n",
       "      <td>0</td>\n",
       "      <td>0</td>\n",
       "      <td>...</td>\n",
       "      <td>0</td>\n",
       "      <td>0</td>\n",
       "      <td>0</td>\n",
       "      <td>0</td>\n",
       "      <td>0</td>\n",
       "      <td>0</td>\n",
       "      <td>0</td>\n",
       "      <td>0</td>\n",
       "      <td>0</td>\n",
       "      <td>0</td>\n",
       "    </tr>\n",
       "    <tr>\n",
       "      <th>3</th>\n",
       "      <td>25</td>\n",
       "      <td>156174</td>\n",
       "      <td>105337</td>\n",
       "      <td>100504</td>\n",
       "      <td>11192435</td>\n",
       "      <td>106</td>\n",
       "      <td>Low</td>\n",
       "      <td>1</td>\n",
       "      <td>0</td>\n",
       "      <td>0</td>\n",
       "      <td>...</td>\n",
       "      <td>0</td>\n",
       "      <td>0</td>\n",
       "      <td>0</td>\n",
       "      <td>0</td>\n",
       "      <td>0</td>\n",
       "      <td>0</td>\n",
       "      <td>0</td>\n",
       "      <td>0</td>\n",
       "      <td>0</td>\n",
       "      <td>0</td>\n",
       "    </tr>\n",
       "    <tr>\n",
       "      <th>4</th>\n",
       "      <td>30</td>\n",
       "      <td>156174</td>\n",
       "      <td>103485</td>\n",
       "      <td>96833</td>\n",
       "      <td>11131617</td>\n",
       "      <td>108</td>\n",
       "      <td>Low</td>\n",
       "      <td>1</td>\n",
       "      <td>0</td>\n",
       "      <td>0</td>\n",
       "      <td>...</td>\n",
       "      <td>0</td>\n",
       "      <td>0</td>\n",
       "      <td>0</td>\n",
       "      <td>0</td>\n",
       "      <td>0</td>\n",
       "      <td>0</td>\n",
       "      <td>0</td>\n",
       "      <td>0</td>\n",
       "      <td>0</td>\n",
       "      <td>0</td>\n",
       "    </tr>\n",
       "  </tbody>\n",
       "</table>\n",
       "<p>5 rows × 1898 columns</p>\n",
       "</div>"
      ],
      "text/plain": [
       "   threshold  area_ha  extent_2000_ha  extent_2010_ha  \\\n",
       "0         10   156174          109666          103665   \n",
       "1         15   156174          108202          102662   \n",
       "2         20   156174          106621          100894   \n",
       "3         25   156174          105337          100504   \n",
       "4         30   156174          103485           96833   \n",
       "\n",
       "   abg_biomass_stock_2000_Mg  avg_biomass_per_ha_Mg avg_biomass_cat  \\\n",
       "0                   11313316                    103             Low   \n",
       "1                   11279508                    104             Low   \n",
       "2                   11231116                    105             Low   \n",
       "3                   11192435                    106             Low   \n",
       "4                   11131617                    108             Low   \n",
       "\n",
       "   subnational1_Alabama  subnational1_Alaska  subnational1_Arizona  ...  \\\n",
       "0                     1                    0                     0  ...   \n",
       "1                     1                    0                     0  ...   \n",
       "2                     1                    0                     0  ...   \n",
       "3                     1                    0                     0  ...   \n",
       "4                     1                    0                     0  ...   \n",
       "\n",
       "   subnational2_Yoakum  subnational2_Yolo  subnational2_York  \\\n",
       "0                    0                  0                  0   \n",
       "1                    0                  0                  0   \n",
       "2                    0                  0                  0   \n",
       "3                    0                  0                  0   \n",
       "4                    0                  0                  0   \n",
       "\n",
       "   subnational2_Young  subnational2_Yuba  subnational2_Yukon-Koyukuk  \\\n",
       "0                   0                  0                           0   \n",
       "1                   0                  0                           0   \n",
       "2                   0                  0                           0   \n",
       "3                   0                  0                           0   \n",
       "4                   0                  0                           0   \n",
       "\n",
       "   subnational2_Yuma  subnational2_Zapata  subnational2_Zavala  \\\n",
       "0                  0                    0                    0   \n",
       "1                  0                    0                    0   \n",
       "2                  0                    0                    0   \n",
       "3                  0                    0                    0   \n",
       "4                  0                    0                    0   \n",
       "\n",
       "   subnational2_Ziebach  \n",
       "0                     0  \n",
       "1                     0  \n",
       "2                     0  \n",
       "3                     0  \n",
       "4                     0  \n",
       "\n",
       "[5 rows x 1898 columns]"
      ]
     },
     "execution_count": 24,
     "metadata": {},
     "output_type": "execute_result"
    }
   ],
   "source": [
    "data.head()"
   ]
  },
  {
   "cell_type": "code",
   "execution_count": 25,
   "metadata": {},
   "outputs": [
    {
     "data": {
      "text/plain": [
       "Low       21452\n",
       "Medium      476\n",
       "High        108\n",
       "Name: avg_biomass_cat, dtype: int64"
      ]
     },
     "execution_count": 25,
     "metadata": {},
     "output_type": "execute_result"
    },
    {
     "data": {
      "image/png": "[encoded data removed]",
      "text/plain": [
       "<Figure size 432x288 with 1 Axes>"
      ]
     },
     "metadata": {
      "needs_background": "light"
     },
     "output_type": "display_data"
    }
   ],
   "source": [
    "sns.countplot(x=\"avg_biomass_cat\", data=data)\n",
    "data.loc[:,'avg_biomass_cat'].value_counts()"
   ]
  },
  {
   "cell_type": "code",
   "execution_count": 26,
   "metadata": {},
   "outputs": [
    {
     "data": {
      "text/plain": [
       "<seaborn.axisgrid.FacetGrid at 0x2c96131ad90>"
      ]
     },
     "execution_count": 26,
     "metadata": {},
     "output_type": "execute_result"
    },
    {
     "data": {
      "image/png": "[encoded data removed]",
      "text/plain": [
       "<Figure size 525.25x432 with 1 Axes>"
      ]
     },
     "metadata": {
      "needs_background": "light"
     },
     "output_type": "display_data"
    }
   ],
   "source": [
    "sns.FacetGrid(data, hue=\"avg_biomass_cat\", size=6) \\\n",
    "   .map(sns.kdeplot, \"threshold\") \\\n",
    "   .add_legend()"
   ]
  },
  {
   "cell_type": "code",
   "execution_count": 27,
   "metadata": {},
   "outputs": [
    {
     "data": {
      "text/plain": [
       "<seaborn.axisgrid.FacetGrid at 0x2c96104e130>"
      ]
     },
     "execution_count": 27,
     "metadata": {},
     "output_type": "execute_result"
    },
    {
     "data": {
      "image/png": "[encoded data removed]",
      "text/plain": [
       "<Figure size 525.25x432 with 1 Axes>"
      ]
     },
     "metadata": {
      "needs_background": "light"
     },
     "output_type": "display_data"
    }
   ],
   "source": [
    "sns.FacetGrid(data, hue=\"avg_biomass_cat\", size=6) \\\n",
    "   .map(sns.kdeplot, \"area_ha\") \\\n",
    "   .add_legend()"
   ]
  },
  {
   "cell_type": "code",
   "execution_count": 28,
   "metadata": {},
   "outputs": [
    {
     "data": {
      "text/plain": [
       "<seaborn.axisgrid.FacetGrid at 0x2c901047fa0>"
      ]
     },
     "execution_count": 28,
     "metadata": {},
     "output_type": "execute_result"
    },
    {
     "data": {
      "image/png": "[encoded data removed]",
      "text/plain": [
       "<Figure size 525.25x432 with 1 Axes>"
      ]
     },
     "metadata": {
      "needs_background": "light"
     },
     "output_type": "display_data"
    }
   ],
   "source": [
    "sns.FacetGrid(data, hue=\"avg_biomass_cat\", size=6) \\\n",
    "   .map(sns.kdeplot, \"extent_2000_ha\") \\\n",
    "   .add_legend()"
   ]
  },
  {
   "cell_type": "code",
   "execution_count": 29,
   "metadata": {},
   "outputs": [
    {
     "data": {
      "text/plain": [
       "<seaborn.axisgrid.FacetGrid at 0x2c90105fee0>"
      ]
     },
     "execution_count": 29,
     "metadata": {},
     "output_type": "execute_result"
    },
    {
     "data": {
      "image/png": "[encoded data removed]",
      "text/plain": [
       "<Figure size 525.25x432 with 1 Axes>"
      ]
     },
     "metadata": {
      "needs_background": "light"
     },
     "output_type": "display_data"
    }
   ],
   "source": [
    "sns.FacetGrid(data, hue=\"avg_biomass_cat\", size=6) \\\n",
    "   .map(sns.kdeplot, \"extent_2010_ha\") \\\n",
    "   .add_legend()"
   ]
  },
  {
   "cell_type": "code",
   "execution_count": 30,
   "metadata": {},
   "outputs": [],
   "source": [
    "rand_state_ = 42\n",
    "X_train, X_test, y_train, y_test = train_test_split(data.drop(['avg_biomass_cat'], axis=1), data.avg_biomass_cat, test_size=0.3, random_state=rand_state_)"
   ]
  },
  {
   "cell_type": "code",
   "execution_count": 31,
   "metadata": {},
   "outputs": [],
   "source": [
    "from sklearn.preprocessing import StandardScaler\n",
    "from sklearn.pipeline import Pipeline"
   ]
  },
  {
   "cell_type": "code",
   "execution_count": 32,
   "metadata": {},
   "outputs": [],
   "source": [
    "pipeline = Pipeline([('std_scalar', StandardScaler())])\n",
    "\n",
    "X_train = pipeline.fit_transform(X_train)\n",
    "X_test = pipeline.transform(X_test)"
   ]
  },
  {
   "cell_type": "code",
   "execution_count": 33,
   "metadata": {},
   "outputs": [],
   "source": [
    "class EvaluateClassifier():\n",
    "    def __init__(self):\n",
    "        self.classifiers = {}\n",
    "\n",
    "    def evaluate_model(self, modelName, train_predictions, test_predictions):\n",
    "        self.classifiers[modelName] = {\n",
    "            'train_score': accuracy_score(y_train, train_predictions),            \n",
    "            'test_score': accuracy_score(y_test, test_predictions)\n",
    "        }\n",
    "\n",
    "    def fit_and_predict_using_RandomSearchCV(self, classifier, grid_params):\n",
    "        random_cv_model = RandomizedSearchCV(estimator=classifier, param_distributions=grid_params, cv=10)\n",
    "        random_cv_model.fit(X_train, y_train)\n",
    "        self.evaluate_model(classifier.__class__.__name__, random_cv_model.predict(X_train), random_cv_model.predict(X_test))\n",
    "        self.classifiers[classifier.__class__.__name__]['estimator'] = random_cv_model.estimator\n",
    "        return self.classifiers[classifier.__class__.__name__]\n",
    "\n",
    "    def voting_classifier(self, classifier_names):\n",
    "        selected_classifiers = [(classifier_name, self.classifiers[classifier_name]['estimator']) for classifier_name in classifier_names]\n",
    "        voting_classifier = VotingClassifier(estimators=selected_classifiers, voting='soft')\n",
    "        voting_classifier.fit(X_train, y_train)\n",
    "        self.evaluate_model(voting_classifier.__class__.__name__, voting_classifier.predict(X_train), voting_classifier.predict(X_test))\n",
    "        self.classifiers[voting_classifier.__class__.__name__]['estimator'] = voting_classifier\n",
    "        return self.classifiers[voting_classifier.__class__.__name__]"
   ]
  },
  {
   "cell_type": "markdown",
   "metadata": {},
   "source": [
    "## Decision Tree"
   ]
  },
  {
   "cell_type": "code",
   "execution_count": 34,
   "metadata": {},
   "outputs": [],
   "source": [
    "eval_classifier1 = EvaluateClassifier()"
   ]
  },
  {
   "cell_type": "code",
   "execution_count": 35,
   "metadata": {},
   "outputs": [
    {
     "data": {
      "text/plain": [
       "{'train_score': 0.972836304700162,\n",
       " 'test_score': 0.9780668582665255,\n",
       " 'estimator': DecisionTreeClassifier()}"
      ]
     },
     "execution_count": 35,
     "metadata": {},
     "output_type": "execute_result"
    }
   ],
   "source": [
    "# Decision Tree\n",
    "dt_grid_param = {\n",
    "    'splitter': ['best', 'random'],\n",
    "    'criterion': ['gini', 'entropy'],\n",
    "    'max_depth': [3, 4],\n",
    "    'min_samples_split': [2, 3, 4],\n",
    "    'max_features': ['sqrt'],\n",
    "    'random_state': [rand_state_]\n",
    "}\n",
    "\n",
    "acc_dt = eval_classifier1.fit_and_predict_using_RandomSearchCV(DecisionTreeClassifier(), dt_grid_param)\n",
    "acc_dt"
   ]
  },
  {
   "cell_type": "markdown",
   "metadata": {},
   "source": [
    "## Random Forest"
   ]
  },
  {
   "cell_type": "code",
   "execution_count": 36,
   "metadata": {},
   "outputs": [],
   "source": [
    "eval_classifier2 = EvaluateClassifier()"
   ]
  },
  {
   "cell_type": "code",
   "execution_count": 37,
   "metadata": {},
   "outputs": [
    {
     "data": {
      "text/plain": [
       "{'train_score': 0.9718638573743922,\n",
       " 'test_score': 0.9773105430343367,\n",
       " 'estimator': RandomForestClassifier()}"
      ]
     },
     "execution_count": 37,
     "metadata": {},
     "output_type": "execute_result"
    }
   ],
   "source": [
    "rf_grid_param = {\n",
    "    'n_estimators': [10, 30, 60, 90, 100],\n",
    "    'criterion': ['gini', 'entropy'],\n",
    "    'max_depth': [3, 4],\n",
    "    'min_samples_split': [2, 3, 4],\n",
    "    'max_features': ['sqrt'],\n",
    "    'random_state': [rand_state_]\n",
    "}\n",
    "\n",
    "acc_rf = eval_classifier2.fit_and_predict_using_RandomSearchCV(RandomForestClassifier(), rf_grid_param)\n",
    "acc_rf"
   ]
  },
  {
   "cell_type": "markdown",
   "metadata": {},
   "source": [
    "## Ridge Classifier"
   ]
  },
  {
   "cell_type": "code",
   "execution_count": 45,
   "metadata": {},
   "outputs": [],
   "source": [
    "eval_classifier5 = EvaluateClassifier()"
   ]
  },
  {
   "cell_type": "code",
   "execution_count": 46,
   "metadata": {},
   "outputs": [
    {
     "data": {
      "text/plain": [
       "{'train_score': 0.9952025931928687,\n",
       " 'test_score': 0.9936469520496143,\n",
       " 'estimator': RidgeClassifier()}"
      ]
     },
     "execution_count": 46,
     "metadata": {},
     "output_type": "execute_result"
    }
   ],
   "source": [
    "# RidgeClassifier\n",
    "eval_classifier5.fit_and_predict_using_RandomSearchCV(RidgeClassifier(), {\n",
    "    'alpha': [0.8, 1, 7, 13, 17],\n",
    "    'random_state': [rand_state_]\n",
    "})"
   ]
  },
  {
   "cell_type": "markdown",
   "metadata": {},
   "source": [
    "## Chossing random forest as the best classifier"
   ]
  },
  {
   "cell_type": "code",
   "execution_count": 49,
   "metadata": {},
   "outputs": [],
   "source": [
    "import pickle\n",
    "filename = 'USA_Subnational_2_biomass_loss.pkl'\n",
    "pickle.dump(eval_classifier2, open(filename, 'wb'))"
   ]
  }
 ],
 "metadata": {
  "kernelspec": {
   "display_name": "Python 3",
   "language": "python",
   "name": "python3"
  },
  "language_info": {
   "codemirror_mode": {
    "name": "ipython",
    "version": 3
   },
   "file_extension": ".py",
   "mimetype": "text/x-python",
   "name": "python",
   "nbconvert_exporter": "python",
   "pygments_lexer": "ipython3",
   "version": "3.8.5"
  }
 },
 "nbformat": 4,
 "nbformat_minor": 4
}
